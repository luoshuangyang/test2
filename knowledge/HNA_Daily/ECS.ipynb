{
 "cells": [
  {
   "cell_type": "code",
   "execution_count": 1,
   "metadata": {},
   "outputs": [
    {
     "name": "stdout",
     "output_type": "stream",
     "text": [
      "1\n"
     ]
    }
   ],
   "source": [
    "import pandas as pd\n",
    "\n",
    "%matplotlib inline\n",
    "import matplotlib.pyplot as plt\n",
    "from matplotlib import font_manager\n",
    "from matplotlib.font_manager import FontProperties \n",
    "\n",
    "font = FontProperties(fname=r\"/root/anaconda2/envs/python3/lib/python3.6/site-packages/matplotlib/mpl-data/fonts/ttf/msyh.ttf\")\n",
    "\n",
    "import numpy as np\n",
    "import seaborn as sns\n",
    "\n",
    "print 1\n",
    "\n",
    "#import sys \n",
    "#reload(sys) \n",
    "#sys.setdefaultencoding('GB2312') "
   ]
  },
  {
   "cell_type": "code",
   "execution_count": 2,
   "metadata": {},
   "outputs": [],
   "source": [
    "data1 = pd.read_csv(\"737ECS.csv\", encoding = \"GB2312\")\n",
    "data1.loc[data1[u\"排故措施\"].str.encode(\"utf-8\")==data1.loc[391][u\"排故措施\"].encode(\"utf-8\"),\"failure\"] = 0\n",
    "data1.loc[data1[u\"排故措施\"].str.encode(\"utf-8\")<>data1.loc[391][u\"排故措施\"].encode(\"utf-8\"),\"failure\"] = -1"
   ]
  },
  {
   "cell_type": "code",
   "execution_count": 3,
   "metadata": {},
   "outputs": [
    {
     "data": {
      "text/plain": [
       " 0.0    209\n",
       "-1.0    183\n",
       "Name: failure, dtype: int64"
      ]
     },
     "execution_count": 3,
     "metadata": {},
     "output_type": "execute_result"
    }
   ],
   "source": [
    "data1[\"failure\"].value_counts()"
   ]
  },
  {
   "cell_type": "code",
   "execution_count": 4,
   "metadata": {},
   "outputs": [
    {
     "data": {
      "text/html": [
       "<div>\n",
       "<style scoped>\n",
       "    .dataframe tbody tr th:only-of-type {\n",
       "        vertical-align: middle;\n",
       "    }\n",
       "\n",
       "    .dataframe tbody tr th {\n",
       "        vertical-align: top;\n",
       "    }\n",
       "\n",
       "    .dataframe thead th {\n",
       "        text-align: right;\n",
       "    }\n",
       "</style>\n",
       "<table border=\"1\" class=\"dataframe\">\n",
       "  <thead>\n",
       "    <tr style=\"text-align: right;\">\n",
       "      <th></th>\n",
       "      <th>环境温度(℃)</th>\n",
       "      <th>左温差</th>\n",
       "      <th>右温差</th>\n",
       "      <th>左边CONT CABIN DUCT</th>\n",
       "      <th>左边FWD DUCT</th>\n",
       "      <th>左边AFT DUCT</th>\n",
       "      <th>左边L PACK</th>\n",
       "      <th>左边SUPPLY DUCT</th>\n",
       "      <th>右边CONT CABIN DUCT</th>\n",
       "      <th>右边FWD DUCT</th>\n",
       "      <th>右边AFT DUCT</th>\n",
       "      <th>右边L PACK</th>\n",
       "      <th>右边SUPPLY DUCT</th>\n",
       "      <th>failure</th>\n",
       "    </tr>\n",
       "  </thead>\n",
       "  <tbody>\n",
       "    <tr>\n",
       "      <th>count</th>\n",
       "      <td>392.000000</td>\n",
       "      <td>392.000000</td>\n",
       "      <td>392.000000</td>\n",
       "      <td>392.000000</td>\n",
       "      <td>392.0</td>\n",
       "      <td>392.0</td>\n",
       "      <td>392.000000</td>\n",
       "      <td>392.000000</td>\n",
       "      <td>392.0</td>\n",
       "      <td>392.000000</td>\n",
       "      <td>392.000000</td>\n",
       "      <td>392.000000</td>\n",
       "      <td>392.00000</td>\n",
       "      <td>392.000000</td>\n",
       "    </tr>\n",
       "    <tr>\n",
       "      <th>mean</th>\n",
       "      <td>20.836735</td>\n",
       "      <td>6.943878</td>\n",
       "      <td>6.112245</td>\n",
       "      <td>4.545918</td>\n",
       "      <td>0.0</td>\n",
       "      <td>0.0</td>\n",
       "      <td>27.780612</td>\n",
       "      <td>0.158163</td>\n",
       "      <td>0.0</td>\n",
       "      <td>4.783163</td>\n",
       "      <td>4.673469</td>\n",
       "      <td>26.948980</td>\n",
       "      <td>0.15051</td>\n",
       "      <td>-0.466837</td>\n",
       "    </tr>\n",
       "    <tr>\n",
       "      <th>std</th>\n",
       "      <td>5.791684</td>\n",
       "      <td>6.346912</td>\n",
       "      <td>5.683255</td>\n",
       "      <td>1.768706</td>\n",
       "      <td>0.0</td>\n",
       "      <td>0.0</td>\n",
       "      <td>6.748900</td>\n",
       "      <td>1.612129</td>\n",
       "      <td>0.0</td>\n",
       "      <td>1.908769</td>\n",
       "      <td>1.891023</td>\n",
       "      <td>6.440556</td>\n",
       "      <td>1.45883</td>\n",
       "      <td>0.499537</td>\n",
       "    </tr>\n",
       "    <tr>\n",
       "      <th>min</th>\n",
       "      <td>2.000000</td>\n",
       "      <td>-30.000000</td>\n",
       "      <td>-30.000000</td>\n",
       "      <td>0.000000</td>\n",
       "      <td>0.0</td>\n",
       "      <td>0.0</td>\n",
       "      <td>0.000000</td>\n",
       "      <td>0.000000</td>\n",
       "      <td>0.0</td>\n",
       "      <td>0.000000</td>\n",
       "      <td>0.000000</td>\n",
       "      <td>0.000000</td>\n",
       "      <td>0.00000</td>\n",
       "      <td>-1.000000</td>\n",
       "    </tr>\n",
       "    <tr>\n",
       "      <th>25%</th>\n",
       "      <td>17.000000</td>\n",
       "      <td>4.000000</td>\n",
       "      <td>3.000000</td>\n",
       "      <td>4.000000</td>\n",
       "      <td>0.0</td>\n",
       "      <td>0.0</td>\n",
       "      <td>24.000000</td>\n",
       "      <td>0.000000</td>\n",
       "      <td>0.0</td>\n",
       "      <td>4.000000</td>\n",
       "      <td>4.000000</td>\n",
       "      <td>23.000000</td>\n",
       "      <td>0.00000</td>\n",
       "      <td>-1.000000</td>\n",
       "    </tr>\n",
       "    <tr>\n",
       "      <th>50%</th>\n",
       "      <td>22.000000</td>\n",
       "      <td>8.000000</td>\n",
       "      <td>7.000000</td>\n",
       "      <td>4.000000</td>\n",
       "      <td>0.0</td>\n",
       "      <td>0.0</td>\n",
       "      <td>28.000000</td>\n",
       "      <td>0.000000</td>\n",
       "      <td>0.0</td>\n",
       "      <td>4.000000</td>\n",
       "      <td>4.000000</td>\n",
       "      <td>28.000000</td>\n",
       "      <td>0.00000</td>\n",
       "      <td>0.000000</td>\n",
       "    </tr>\n",
       "    <tr>\n",
       "      <th>75%</th>\n",
       "      <td>25.000000</td>\n",
       "      <td>10.000000</td>\n",
       "      <td>9.000000</td>\n",
       "      <td>6.000000</td>\n",
       "      <td>0.0</td>\n",
       "      <td>0.0</td>\n",
       "      <td>32.000000</td>\n",
       "      <td>0.000000</td>\n",
       "      <td>0.0</td>\n",
       "      <td>6.000000</td>\n",
       "      <td>6.000000</td>\n",
       "      <td>32.000000</td>\n",
       "      <td>0.00000</td>\n",
       "      <td>0.000000</td>\n",
       "    </tr>\n",
       "    <tr>\n",
       "      <th>max</th>\n",
       "      <td>32.000000</td>\n",
       "      <td>24.000000</td>\n",
       "      <td>21.000000</td>\n",
       "      <td>12.000000</td>\n",
       "      <td>0.0</td>\n",
       "      <td>0.0</td>\n",
       "      <td>40.000000</td>\n",
       "      <td>23.000000</td>\n",
       "      <td>0.0</td>\n",
       "      <td>16.000000</td>\n",
       "      <td>14.000000</td>\n",
       "      <td>38.000000</td>\n",
       "      <td>18.00000</td>\n",
       "      <td>0.000000</td>\n",
       "    </tr>\n",
       "  </tbody>\n",
       "</table>\n",
       "</div>"
      ],
      "text/plain": [
       "          环境温度(℃)         左温差         右温差  左边CONT CABIN DUCT  左边FWD DUCT  \\\n",
       "count  392.000000  392.000000  392.000000         392.000000       392.0   \n",
       "mean    20.836735    6.943878    6.112245           4.545918         0.0   \n",
       "std      5.791684    6.346912    5.683255           1.768706         0.0   \n",
       "min      2.000000  -30.000000  -30.000000           0.000000         0.0   \n",
       "25%     17.000000    4.000000    3.000000           4.000000         0.0   \n",
       "50%     22.000000    8.000000    7.000000           4.000000         0.0   \n",
       "75%     25.000000   10.000000    9.000000           6.000000         0.0   \n",
       "max     32.000000   24.000000   21.000000          12.000000         0.0   \n",
       "\n",
       "       左边AFT DUCT    左边L PACK  左边SUPPLY DUCT  右边CONT CABIN DUCT  右边FWD DUCT  \\\n",
       "count       392.0  392.000000     392.000000              392.0  392.000000   \n",
       "mean          0.0   27.780612       0.158163                0.0    4.783163   \n",
       "std           0.0    6.748900       1.612129                0.0    1.908769   \n",
       "min           0.0    0.000000       0.000000                0.0    0.000000   \n",
       "25%           0.0   24.000000       0.000000                0.0    4.000000   \n",
       "50%           0.0   28.000000       0.000000                0.0    4.000000   \n",
       "75%           0.0   32.000000       0.000000                0.0    6.000000   \n",
       "max           0.0   40.000000      23.000000                0.0   16.000000   \n",
       "\n",
       "       右边AFT DUCT    右边L PACK  右边SUPPLY DUCT     failure  \n",
       "count  392.000000  392.000000      392.00000  392.000000  \n",
       "mean     4.673469   26.948980        0.15051   -0.466837  \n",
       "std      1.891023    6.440556        1.45883    0.499537  \n",
       "min      0.000000    0.000000        0.00000   -1.000000  \n",
       "25%      4.000000   23.000000        0.00000   -1.000000  \n",
       "50%      4.000000   28.000000        0.00000    0.000000  \n",
       "75%      6.000000   32.000000        0.00000    0.000000  \n",
       "max     14.000000   38.000000       18.00000    0.000000  "
      ]
     },
     "execution_count": 4,
     "metadata": {},
     "output_type": "execute_result"
    }
   ],
   "source": [
    "data1.describe()"
   ]
  },
  {
   "cell_type": "code",
   "execution_count": 5,
   "metadata": {},
   "outputs": [],
   "source": [
    "col = [u\"环境温度(℃)\", u\"左温差\",u\"右温差\",\n",
    "       u\"左边CONT CABIN DUCT\",u\"左边L PACK\",u\"左边SUPPLY DUCT\",\n",
    "       u\"右边FWD DUCT\",u\"右边AFT DUCT\",u\"右边L PACK\",u\"右边SUPPLY DUCT\"]"
   ]
  },
  {
   "cell_type": "code",
   "execution_count": 6,
   "metadata": {},
   "outputs": [],
   "source": [
    "from sklearn.cluster import DBSCAN\n",
    "from sklearn import metrics\n",
    "from sklearn.datasets.samples_generator import make_blobs\n",
    "from sklearn.preprocessing import StandardScaler"
   ]
  },
  {
   "cell_type": "code",
   "execution_count": 7,
   "metadata": {},
   "outputs": [],
   "source": [
    "df_train = data1[col]"
   ]
  },
  {
   "cell_type": "code",
   "execution_count": 8,
   "metadata": {},
   "outputs": [
    {
     "data": {
      "text/plain": [
       "(392, 10)"
      ]
     },
     "execution_count": 8,
     "metadata": {},
     "output_type": "execute_result"
    }
   ],
   "source": [
    "df_train.shape"
   ]
  },
  {
   "cell_type": "code",
   "execution_count": 9,
   "metadata": {},
   "outputs": [
    {
     "name": "stderr",
     "output_type": "stream",
     "text": [
      "/root/anaconda2/lib/python2.7/site-packages/sklearn/preprocessing/data.py:625: DataConversionWarning: Data with input dtype int64 were all converted to float64 by StandardScaler.\n",
      "  return self.partial_fit(X, y)\n",
      "/root/anaconda2/lib/python2.7/site-packages/sklearn/base.py:462: DataConversionWarning: Data with input dtype int64 were all converted to float64 by StandardScaler.\n",
      "  return self.fit(X, **fit_params).transform(X)\n"
     ]
    }
   ],
   "source": [
    "X = StandardScaler().fit_transform(df_train)"
   ]
  },
  {
   "cell_type": "code",
   "execution_count": 10,
   "metadata": {},
   "outputs": [
    {
     "name": "stderr",
     "output_type": "stream",
     "text": [
      "/root/anaconda2/lib/python2.7/site-packages/ipykernel_launcher.py:4: SettingWithCopyWarning: \n",
      "A value is trying to be set on a copy of a slice from a DataFrame.\n",
      "Try using .loc[row_indexer,col_indexer] = value instead\n",
      "\n",
      "See the caveats in the documentation: http://pandas.pydata.org/pandas-docs/stable/indexing.html#indexing-view-versus-copy\n",
      "  after removing the cwd from sys.path.\n"
     ]
    },
    {
     "data": {
      "text/plain": [
       " 0    199\n",
       "-1    193\n",
       "Name: labels, dtype: int64"
      ]
     },
     "execution_count": 10,
     "metadata": {},
     "output_type": "execute_result"
    }
   ],
   "source": [
    "#db = DBSCAN(eps=1, min_samples=10).fit(X) 0:199, -1:193\n",
    "db = DBSCAN(eps=1, min_samples=10).fit(X)\n",
    "labels = db.labels_\n",
    "df_train['labels'] = labels\n",
    "df_train['labels'].value_counts()"
   ]
  },
  {
   "cell_type": "code",
   "execution_count": 11,
   "metadata": {},
   "outputs": [],
   "source": [
    "data1[\"labels\"] = db.labels_"
   ]
  },
  {
   "cell_type": "code",
   "execution_count": 12,
   "metadata": {},
   "outputs": [
    {
     "data": {
      "text/plain": [
       " 0.0    209\n",
       "-1.0    183\n",
       "Name: failure, dtype: int64"
      ]
     },
     "execution_count": 12,
     "metadata": {},
     "output_type": "execute_result"
    }
   ],
   "source": [
    "data1[\"failure\"].value_counts()"
   ]
  },
  {
   "cell_type": "code",
   "execution_count": 13,
   "metadata": {},
   "outputs": [
    {
     "name": "stdout",
     "output_type": "stream",
     "text": [
      "True     210\n",
      "False    182\n",
      "Name: result, dtype: int64\n",
      "result    0.535714\n",
      "dtype: float64\n"
     ]
    }
   ],
   "source": [
    "data1[\"result\"] = data1[\"labels\"] == data1[\"failure\"]\n",
    "print data1[\"result\"].value_counts()\n",
    "print data1[[\"result\"]].sum()/(0.0+len(data1.index))"
   ]
  },
  {
   "cell_type": "code",
   "execution_count": 14,
   "metadata": {},
   "outputs": [
    {
     "data": {
      "text/html": [
       "<div>\n",
       "<style scoped>\n",
       "    .dataframe tbody tr th:only-of-type {\n",
       "        vertical-align: middle;\n",
       "    }\n",
       "\n",
       "    .dataframe tbody tr th {\n",
       "        vertical-align: top;\n",
       "    }\n",
       "\n",
       "    .dataframe thead th {\n",
       "        text-align: right;\n",
       "    }\n",
       "</style>\n",
       "<table border=\"1\" class=\"dataframe\">\n",
       "  <thead>\n",
       "    <tr style=\"text-align: right;\">\n",
       "      <th></th>\n",
       "      <th>环境温度(℃)</th>\n",
       "      <th>左温差</th>\n",
       "      <th>右温差</th>\n",
       "      <th>左边CONT CABIN DUCT</th>\n",
       "      <th>左边L PACK</th>\n",
       "      <th>左边SUPPLY DUCT</th>\n",
       "      <th>右边FWD DUCT</th>\n",
       "      <th>右边AFT DUCT</th>\n",
       "      <th>右边L PACK</th>\n",
       "      <th>右边SUPPLY DUCT</th>\n",
       "    </tr>\n",
       "    <tr>\n",
       "      <th>labels</th>\n",
       "      <th></th>\n",
       "      <th></th>\n",
       "      <th></th>\n",
       "      <th></th>\n",
       "      <th></th>\n",
       "      <th></th>\n",
       "      <th></th>\n",
       "      <th></th>\n",
       "      <th></th>\n",
       "      <th></th>\n",
       "    </tr>\n",
       "  </thead>\n",
       "  <tbody>\n",
       "    <tr>\n",
       "      <th>-1</th>\n",
       "      <td>20.300518</td>\n",
       "      <td>6.274611</td>\n",
       "      <td>6.031088</td>\n",
       "      <td>4.647668</td>\n",
       "      <td>26.575130</td>\n",
       "      <td>0.321244</td>\n",
       "      <td>5.082902</td>\n",
       "      <td>4.948187</td>\n",
       "      <td>26.331606</td>\n",
       "      <td>0.305699</td>\n",
       "    </tr>\n",
       "    <tr>\n",
       "      <th>0</th>\n",
       "      <td>21.356784</td>\n",
       "      <td>7.592965</td>\n",
       "      <td>6.190955</td>\n",
       "      <td>4.447236</td>\n",
       "      <td>28.949749</td>\n",
       "      <td>0.000000</td>\n",
       "      <td>4.492462</td>\n",
       "      <td>4.407035</td>\n",
       "      <td>27.547739</td>\n",
       "      <td>0.000000</td>\n",
       "    </tr>\n",
       "  </tbody>\n",
       "</table>\n",
       "</div>"
      ],
      "text/plain": [
       "          环境温度(℃)       左温差       右温差  左边CONT CABIN DUCT   左边L PACK  \\\n",
       "labels                                                                \n",
       "-1      20.300518  6.274611  6.031088           4.647668  26.575130   \n",
       " 0      21.356784  7.592965  6.190955           4.447236  28.949749   \n",
       "\n",
       "        左边SUPPLY DUCT  右边FWD DUCT  右边AFT DUCT   右边L PACK  右边SUPPLY DUCT  \n",
       "labels                                                                   \n",
       "-1           0.321244    5.082902    4.948187  26.331606       0.305699  \n",
       " 0           0.000000    4.492462    4.407035  27.547739       0.000000  "
      ]
     },
     "execution_count": 14,
     "metadata": {},
     "output_type": "execute_result"
    }
   ],
   "source": [
    "df_result = df_train.groupby(['labels']).mean()\n",
    "df_result[col]"
   ]
  },
  {
   "cell_type": "markdown",
   "metadata": {},
   "source": [
    "## Part2"
   ]
  },
  {
   "cell_type": "code",
   "execution_count": 15,
   "metadata": {},
   "outputs": [],
   "source": [
    "%matplotlib inline"
   ]
  },
  {
   "cell_type": "code",
   "execution_count": 16,
   "metadata": {},
   "outputs": [],
   "source": [
    "import numpy as np\n",
    "import matplotlib.pyplot as plt\n",
    "from matplotlib.colors import ListedColormap\n",
    "from sklearn.model_selection import train_test_split\n",
    "from sklearn.preprocessing import StandardScaler\n",
    "from sklearn.datasets import make_moons, make_circles, make_classification\n",
    "from sklearn.neural_network import MLPClassifier\n",
    "from sklearn.neighbors import KNeighborsClassifier\n",
    "from sklearn.svm import SVC\n",
    "from sklearn.gaussian_process import GaussianProcessClassifier\n",
    "from sklearn.gaussian_process.kernels import RBF\n",
    "from sklearn.tree import DecisionTreeClassifier\n",
    "from sklearn.ensemble import RandomForestClassifier, AdaBoostClassifier\n",
    "from sklearn.naive_bayes import GaussianNB\n",
    "from sklearn.discriminant_analysis import QuadraticDiscriminantAnalysis\n",
    "from sklearn.metrics import f1_score\n",
    "from sklearn.metrics import classification_report"
   ]
  },
  {
   "cell_type": "code",
   "execution_count": 19,
   "metadata": {},
   "outputs": [
    {
     "name": "stderr",
     "output_type": "stream",
     "text": [
      "/root/anaconda2/lib/python2.7/site-packages/sklearn/preprocessing/data.py:625: DataConversionWarning: Data with input dtype int64 were all converted to float64 by StandardScaler.\n",
      "  return self.partial_fit(X, y)\n",
      "/root/anaconda2/lib/python2.7/site-packages/sklearn/base.py:462: DataConversionWarning: Data with input dtype int64 were all converted to float64 by StandardScaler.\n",
      "  return self.fit(X, **fit_params).transform(X)\n"
     ]
    },
    {
     "name": "stdout",
     "output_type": "stream",
     "text": [
      "Nearest Neighbors\n",
      "              precision    recall  f1-score   support\n",
      "\n",
      "        -1.0       0.68      0.82      0.74        72\n",
      "         0.0       0.81      0.67      0.74        85\n",
      "\n",
      "   micro avg       0.74      0.74      0.74       157\n",
      "   macro avg       0.75      0.75      0.74       157\n",
      "weighted avg       0.75      0.74      0.74       157\n",
      "\n",
      "Linear SVM\n",
      "              precision    recall  f1-score   support\n",
      "\n",
      "        -1.0       0.83      0.70      0.75        82\n",
      "         0.0       0.72      0.84      0.77        75\n",
      "\n",
      "   micro avg       0.76      0.76      0.76       157\n",
      "   macro avg       0.77      0.77      0.76       157\n",
      "weighted avg       0.77      0.76      0.76       157\n",
      "\n",
      "RBF SVM\n",
      "              precision    recall  f1-score   support\n",
      "\n",
      "        -1.0       0.72      0.81      0.76        69\n",
      "         0.0       0.84      0.75      0.79        88\n",
      "\n",
      "   micro avg       0.78      0.78      0.78       157\n",
      "   macro avg       0.78      0.78      0.78       157\n",
      "weighted avg       0.78      0.78      0.78       157\n",
      "\n",
      "Gaussian Process\n",
      "              precision    recall  f1-score   support\n",
      "\n",
      "        -1.0       0.87      0.80      0.83        75\n",
      "         0.0       0.83      0.89      0.86        82\n",
      "\n",
      "   micro avg       0.85      0.85      0.85       157\n",
      "   macro avg       0.85      0.85      0.85       157\n",
      "weighted avg       0.85      0.85      0.85       157\n",
      "\n",
      "Decision Tree\n",
      "              precision    recall  f1-score   support\n",
      "\n",
      "        -1.0       0.89      0.72      0.79        88\n",
      "         0.0       0.71      0.88      0.79        69\n",
      "\n",
      "   micro avg       0.79      0.79      0.79       157\n",
      "   macro avg       0.80      0.80      0.79       157\n",
      "weighted avg       0.81      0.79      0.79       157\n",
      "\n",
      "Random Forest\n",
      "              precision    recall  f1-score   support\n",
      "\n",
      "        -1.0       0.90      0.73      0.81        77\n",
      "         0.0       0.78      0.93      0.85        80\n",
      "\n",
      "   micro avg       0.83      0.83      0.83       157\n",
      "   macro avg       0.84      0.83      0.83       157\n",
      "weighted avg       0.84      0.83      0.83       157\n",
      "\n",
      "Neural Net\n",
      "              precision    recall  f1-score   support\n",
      "\n",
      "        -1.0       0.82      0.69      0.75        68\n",
      "         0.0       0.79      0.89      0.84        89\n",
      "\n",
      "   micro avg       0.80      0.80      0.80       157\n",
      "   macro avg       0.81      0.79      0.79       157\n",
      "weighted avg       0.80      0.80      0.80       157\n",
      "\n",
      "AdaBoost\n",
      "              precision    recall  f1-score   support\n",
      "\n",
      "        -1.0       0.87      0.72      0.79        85\n",
      "         0.0       0.72      0.88      0.79        72\n",
      "\n",
      "   micro avg       0.79      0.79      0.79       157\n",
      "   macro avg       0.80      0.80      0.79       157\n",
      "weighted avg       0.80      0.79      0.79       157\n",
      "\n",
      "Naive Bayes\n",
      "              precision    recall  f1-score   support\n",
      "\n",
      "        -1.0       0.87      0.16      0.27        81\n",
      "         0.0       0.52      0.97      0.68        76\n",
      "\n",
      "   micro avg       0.55      0.55      0.55       157\n",
      "   macro avg       0.69      0.57      0.47       157\n",
      "weighted avg       0.70      0.55      0.47       157\n",
      "\n",
      "QDA\n",
      "              precision    recall  f1-score   support\n",
      "\n",
      "        -1.0       0.83      0.20      0.32        75\n",
      "         0.0       0.57      0.96      0.71        82\n",
      "\n",
      "   micro avg       0.60      0.60      0.60       157\n",
      "   macro avg       0.70      0.58      0.52       157\n",
      "weighted avg       0.69      0.60      0.53       157\n",
      "\n"
     ]
    },
    {
     "name": "stderr",
     "output_type": "stream",
     "text": [
      "/root/anaconda2/lib/python2.7/site-packages/sklearn/discriminant_analysis.py:692: UserWarning: Variables are collinear\n",
      "  warnings.warn(\"Variables are collinear\")\n",
      "/root/anaconda2/lib/python2.7/site-packages/sklearn/discriminant_analysis.py:692: UserWarning: Variables are collinear\n",
      "  warnings.warn(\"Variables are collinear\")\n"
     ]
    },
    {
     "data": {
      "image/png": "[encoded data removed]",
      "text/plain": [
       "<Figure size 1944x360 with 1 Axes>"
      ]
     },
     "metadata": {},
     "output_type": "display_data"
    }
   ],
   "source": [
    "h = .02  # step size in the mesh\n",
    "maxiteration = 1\n",
    "\n",
    "names = [\"Nearest Neighbors\", \"Linear SVM\", \"RBF SVM\", \"Gaussian Process\",\n",
    "         \"Decision Tree\", \"Random Forest\", \"Neural Net\", \"AdaBoost\",\n",
    "         \"Naive Bayes\", \"QDA\"]\n",
    "\n",
    "classifiers = [\n",
    "    KNeighborsClassifier(2),\n",
    "    SVC(kernel=\"linear\", C=0.025),\n",
    "    SVC(gamma=2, C=1),\n",
    "    GaussianProcessClassifier(1.0 * RBF(1.0)),\n",
    "    DecisionTreeClassifier(max_depth=5),\n",
    "    RandomForestClassifier(max_depth=5, n_estimators=10, max_features=1),\n",
    "    MLPClassifier(alpha=1, max_iter=1000),\n",
    "    AdaBoostClassifier(),\n",
    "    GaussianNB(),\n",
    "    QuadraticDiscriminantAnalysis()]\n",
    "\n",
    "X, y = make_classification(n_features=2, n_redundant=0, n_informative=2,\n",
    "                           random_state=1, n_clusters_per_class=1)\n",
    "rng = np.random.RandomState(2)\n",
    "X += 2 * rng.uniform(size=X.shape)\n",
    "linearly_separable = (X, y)\n",
    "\n",
    "#datasets = [make_moons(noise=0.3, random_state=0),\n",
    "#            make_circles(noise=0.2, factor=0.5, random_state=1),\n",
    "#            linearly_separable\n",
    "#            ]\n",
    "\n",
    "datasets = [[data1[col].values, data1[\"failure\"].values]]\n",
    "\n",
    "figure = plt.figure(figsize=(27, 5))\n",
    "i = 1\n",
    "# iterate over datasets\n",
    "for ds_cnt, ds in enumerate(datasets):\n",
    "    # preprocess dataset, split into training and test part\n",
    "    X, y = ds\n",
    "    X = StandardScaler().fit_transform(X)\n",
    "    X_train, X_test, y_train, y_test = \\\n",
    "        train_test_split(X, y, test_size=.4, random_state=42)\n",
    "\n",
    "    x_min, x_max = X[:, 1].min() - .5, X[:, 1].max() + .5\n",
    "    y_min, y_max = X[:, 2].min() - .5, X[:, 2].max() + .5\n",
    "    xx, yy = np.meshgrid(np.arange(x_min, x_max, h),\n",
    "                         np.arange(y_min, y_max, h))\n",
    "\n",
    "    # just plot the dataset first\n",
    "    cm = plt.cm.RdBu\n",
    "    cm_bright = ListedColormap(['#FF0000', '#0000FF'])\n",
    "    ax = plt.subplot(len(datasets), len(classifiers) + 1, i)\n",
    "    if ds_cnt == 0:\n",
    "        ax.set_title(\"Input data\")\n",
    "    # Plot the training points\n",
    "    ax.scatter(X_train[:, 1], X_train[:, 2], c=y_train, cmap=cm_bright,\n",
    "               edgecolors='k')\n",
    "    # Plot the testing points\n",
    "    ax.scatter(X_test[:, 1], X_test[:, 2], c=y_test, cmap=cm_bright, alpha=0.6,\n",
    "               edgecolors='k')\n",
    "    ax.set_xlim(xx.min(), xx.max())\n",
    "    ax.set_ylim(yy.min(), yy.max())\n",
    "    ax.set_xticks(())\n",
    "    ax.set_yticks(())\n",
    "    i += 1\n",
    "\n",
    "    cv_scores = {\"name\": [], \"test_score\": []}\n",
    "    order = []\n",
    "    \n",
    "    # iterate over classifiers\n",
    "    for name, clf in zip(names, classifiers):\n",
    "\n",
    "        order.append(name)\n",
    "        #ax = plt.subplot(len(datasets), len(classifiers) + 1, i)\n",
    "        print(name)\n",
    "        \n",
    "        for j in range(maxiteration):\n",
    "            X_train, X_test, y_train, y_test = \\\n",
    "            train_test_split(X, y, test_size=.4)\n",
    "            clf.fit(X_train, y_train)\n",
    "            #score = clf.score(X_test, y_test)\n",
    "            y_pred = clf.predict(X_test)\n",
    "            score = f1_score(y_test, y_pred, average='micro')\n",
    "            print(classification_report(y_test, y_pred))\n",
    "            cv_scores[\"name\"].append(name)\n",
    "            cv_scores[\"test_score\"].append(score)\n",
    "        \n",
    "        ## Plot the decision boundary. For that, we will assign a color to each\n",
    "        ## point in the mesh [x_min, x_max]x[y_min, y_max].\n",
    "        #if hasattr(clf, \"decision_function\"):\n",
    "        #    Z = clf.decision_function(np.c_[xx.ravel(), yy.ravel()])\n",
    "        #else:\n",
    "        #    Z = clf.predict_proba(np.c_[xx.ravel(), yy.ravel()])[:, 1]\n",
    "\n",
    "        ## Put the result into a color plot\n",
    "        #Z = Z.reshape(xx.shape)\n",
    "        #ax.contourf(xx, yy, Z, cmap=cm, alpha=.8)\n",
    "\n",
    "        ## Plot the training points\n",
    "        #ax.scatter(X_train[:, 1], X_train[:, 2], c=y_train, cmap=cm_bright,\n",
    "        #           edgecolors='k')\n",
    "        ## Plot the testing points\n",
    "        #ax.scatter(X_test[:, 1], X_test[:, 2], c=y_test, cmap=cm_bright,\n",
    "        #           edgecolors='k', alpha=0.6)\n",
    "\n",
    "        #ax.set_xlim(xx.min(), xx.max())\n",
    "        #ax.set_ylim(yy.min(), yy.max())\n",
    "        #ax.set_xticks(())\n",
    "        #ax.set_yticks(())\n",
    "        #if ds_cnt == 0:\n",
    "        #    ax.set_title(name)\n",
    "        #ax.text(xx.max() - .3, yy.min() + .3, ('%.2f' % score).lstrip('0'),\n",
    "        #        size=15, horizontalalignment='right')\n",
    "        i += 1\n",
    "\n",
    "#plt.tight_layout()\n",
    "#plt.show()"
   ]
  },
  {
   "cell_type": "code",
   "execution_count": 34,
   "metadata": {},
   "outputs": [
    {
     "data": {
      "image/png": "[encoded data removed]",
      "text/plain": [
       "<Figure size 792x432 with 1 Axes>"
      ]
     },
     "metadata": {
      "needs_background": "light"
     },
     "output_type": "display_data"
    }
   ],
   "source": [
    "df = pd.DataFrame.from_dict(cv_scores)\n",
    "_, ax = plt.subplots(figsize=(11, 6))\n",
    "ax1 = sns.boxplot(x=\"name\", y=\"test_score\", data=df, order=order,ax=ax, showmeans=True)\n",
    "_, xtext = plt.xticks()\n",
    "for t in xtext:\n",
    "    t.set_rotation(\"vertical\")\n",
    "    \n",
    "medians = df.groupby(['name'],sort=False)['test_score'].median().values\n",
    "median_labels = [str(np.round(s, 2)) for s in medians]\n",
    "\n",
    "pos = range(len(medians))\n",
    "for tick,label in zip(pos,ax.get_xticklabels()):\n",
    "    ax1.text(pos[tick], medians[tick]-0.06, median_labels[tick], \n",
    "            horizontalalignment='center', size='x-large', color='red', weight='semibold')"
   ]
  },
  {
   "cell_type": "code",
   "execution_count": null,
   "metadata": {},
   "outputs": [],
   "source": []
  }
 ],
 "metadata": {
  "kernelspec": {
   "display_name": "Python 3",
   "language": "python",
   "name": "python3"
  },
  "language_info": {
   "codemirror_mode": {
    "name": "ipython",
    "version": 3
   },
   "file_extension": ".py",
   "mimetype": "text/x-python",
   "name": "python",
   "nbconvert_exporter": "python",
   "pygments_lexer": "ipython3",
   "version": "3.7.0"
  }
 },
 "nbformat": 4,
 "nbformat_minor": 2
}
