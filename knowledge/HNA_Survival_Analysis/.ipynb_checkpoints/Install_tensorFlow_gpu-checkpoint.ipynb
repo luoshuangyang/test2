{
 "cells": [
  {
   "cell_type": "markdown",
   "metadata": {},
   "source": [
    "### TensorFlow_gpu版本的环境配置与安装"
   ]
  },
  {
   "cell_type": "markdown",
   "metadata": {},
   "source": [
    "TensorFlow是一个基于数据流编程（dataflow programming）的符号数学系统，被广泛应用于各类机器学习（machine learning）算法的编程实现，其前身是谷歌的神经网络算法库DistBelief。\n",
    "Tensorflow拥有多层级结构，可部署于各类服务器、PC终端和网页并支持GPU和TPU高性能数值计算，被广泛应用于谷歌内部的产品开发和各领域的科学研究 。\n",
    "TensorFlow由谷歌人工智能团队谷歌大脑（Google Brain）开发和维护，拥有包括TensorFlow Hub、TensorFlow Lite、TensorFlow Research Cloud在内的多个项目以及各类应用程序接口（Application Programming Interface, API） [2] 。自2015年11月9日起，TensorFlow依据阿帕奇授权协议（Apache 2.0 open source license）开放源代码 。\n"
   ]
  },
  {
   "cell_type": "markdown",
   "metadata": {},
   "source": [
    "#### TensorFlow即可以支持CPU，也可以支持CPU+GPU。前者的环境需求简单，后者需要额外的支持。\n",
    "\n",
    "- TensorFlow是基于VC++2015开发的，所以需要下载安装VisualC++ Redistributable for Visual Studio 2015 来获取MSVCP140.DLL的支持。\n",
    "- 下载并安装anaconda\n",
    "- 下载并安装Python编译器，以3.7X为例。\n",
    "\n",
    "如果要安装GPU版本（有N卡，即NVIDIA显卡），需要以下额外环境：\n",
    "\n",
    "- 0）有支持CUDA计算能力3.0或更高版本的NVIDIAGPU卡。\n",
    "\n",
    "- 1）下载安装CUDA Toolkit 8.0，并确保其路径添加到PATH环境变量里；\n",
    "\n",
    "- 2）下载安装cuDNN v6或v6.1，并确保其路径添加到PATH环境变量里；\n",
    "\n",
    "- 3）CUDA8.0相关的NVIDIA驱动。\n"
   ]
  },
  {
   "cell_type": "markdown",
   "metadata": {},
   "source": [
    "#### about conda\n",
    "- 1.检查Anaconda是否成功安装：conda --version\n",
    "- 2.检测目前安装了哪些环境：conda info --envs\n",
    "- 3.检查目前有哪些版本的python可以安装：conda search --full-name python\n",
    "- 4.安装不同版本的python的conda虚拟环境：conda create --name tensorflow python=3.7\n",
    "- 5.激活之：activate tensorflow\n",
    "- 6.确保名叫tensorflow的环境已经被成功添加：conda info --envs\n",
    "- 7.检查新环境中的python版本：python --version\n",
    "- 8.退出当前环境：deactivate"
   ]
  },
  {
   "cell_type": "markdown",
   "metadata": {},
   "source": [
    "#### Nvidia（英伟达）以下两个安装用于支持Tensorflow使用GPU\n",
    "\n",
    "Cuda：https://developer.nvidia.com/cuda-toolkit\n",
    "\n",
    "cnDNN：https://developer.nvidia.com/rdp/cudnn-download"
   ]
  },
  {
   "cell_type": "markdown",
   "metadata": {},
   "source": [
    "#### 验证 tensorflow_gpu是否安装成功的步骤：\n",
    "进入python交互式环境，使用下面命令检查当前显示的信息内容\n",
    "- import tensorflow as tf\n",
    "- hello = tf.constant('Hello, TensorFlow!') \n",
    "- sess = tf.Session()      # 在该步会显示电脑的显卡信息 \n",
    "- print(sess.run(hello))   # Hello, TensorFlow! \n",
    "- a = tf.constant(10) \n",
    "- b = tf.constant(10) \n",
    "- print(sess.run(a + b))   # 20 \n"
   ]
  },
  {
   "cell_type": "markdown",
   "metadata": {},
   "source": [
    "#### 检查TensorFlow_gpu是否安装成功:\n",
    "进入python交互式环境，使用下面命令检查当前环境下TensorFlow版本，显示TensorFlow版本为【1.4】时便成功安装\n",
    "- import tensorflow as tf\n",
    "- tf._ _ version _ _"
   ]
  },
  {
   "cell_type": "code",
   "execution_count": null,
   "metadata": {},
   "outputs": [],
   "source": [
    "unset i\n",
    "unset -f pathmunge\n",
    "export PATH=/bin:/usr/bin:$PATH\n",
    "export PATH=/usr/local/bin:$PATH\n",
    "export TSCE_HOME=/opt/tsce4\n",
    "export PATH=/usr/local/bin:$PATH\n",
    "export TSMM_HOME=/var/tsced\n",
    "export TORQUE_HOME=/opt/tsce4/torque6\n",
    "export PATH=$TORQUE_HOME/bin:$TORQUE_HOME/sbin:$PATH\n",
    "export MAUI_HOME=/opt/tsce4/maui\n",
    "export PATH=$MAUI_HOME/sbin:$MAUI_HOME/bin:$PATH\n",
    "export JAVA_HOME=/usr/java/jre1.8.0_151\n",
    "export PATH=$JAVA_HOME/bin:$JAVA_HOME/bin:$PATH:.\n",
    "export CLASSPATH=$JAVA_HOME/lib:$JAVA_HOME/lib:$CLASSPATH:.\n",
    "export TOMCAT_HOME=/opt/tsce4/tomcat8\n"
   ]
  },
  {
   "cell_type": "code",
   "execution_count": null,
   "metadata": {},
   "outputs": [],
   "source": [
    "# tensorflow各个版本的CUDA以及Cudnn版本对应关系\n",
    "https://blog.csdn.net/qq_27825451/article/details/89082978\n",
    "    https://www.cnblogs.com/yangww/p/11281916.html\n",
    "        https://blog.csdn.net/littlehaes/article/details/100575694\n",
    "            https://blog.csdn.net/chunchun362425965/article/details/51566851"
   ]
  },
  {
   "cell_type": "code",
   "execution_count": null,
   "metadata": {},
   "outputs": [],
   "source": []
  },
  {
   "cell_type": "code",
   "execution_count": null,
   "metadata": {},
   "outputs": [],
   "source": []
  },
  {
   "cell_type": "code",
   "execution_count": null,
   "metadata": {},
   "outputs": [],
   "source": []
  }
 ],
 "metadata": {
  "kernelspec": {
   "display_name": "Python 3",
   "language": "python",
   "name": "python3"
  },
  "language_info": {
   "codemirror_mode": {
    "name": "ipython",
    "version": 3
   },
   "file_extension": ".py",
   "mimetype": "text/x-python",
   "name": "python",
   "nbconvert_exporter": "python",
   "pygments_lexer": "ipython3",
   "version": "3.7.0"
  }
 },
 "nbformat": 4,
 "nbformat_minor": 2
}
