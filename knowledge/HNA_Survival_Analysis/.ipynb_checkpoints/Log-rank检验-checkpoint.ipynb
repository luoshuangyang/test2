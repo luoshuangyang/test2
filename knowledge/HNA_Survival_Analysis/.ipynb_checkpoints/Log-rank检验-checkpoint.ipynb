{
 "cells": [
  {
   "cell_type": "markdown",
   "metadata": {},
   "source": [
    "### log-rank检验"
   ]
  },
  {
   "cell_type": "code",
   "execution_count": null,
   "metadata": {},
   "outputs": [],
   "source": [
    "# log-rank检验\n",
    "# https://www.sohu.com/a/311943302_655370\n",
    "\n",
    "# 统计学中的显著性水平α和P值\n",
    "# https://zhuanlan.zhihu.com/p/56663036\n",
    "\n",
    "# log-rank时序检验 （百度文库）\n",
    "# https://wenku.baidu.com/view/89bf177c33687e21ae45a929.html\n",
    "\n",
    "# 生存率曲线间的显著性测定_Logrank检验法（百度文库）\n",
    "# https://wenku.baidu.com/view/8c356b75915f804d2a16c151.html\n",
    "\n",
    "# 统计学中各种检验以及python实现(卡方检验原理)\n",
    "# https://blog.csdn.net/bxy5511/article/details/81508262"
   ]
  },
  {
   "cell_type": "code",
   "execution_count": null,
   "metadata": {},
   "outputs": [],
   "source": []
  },
  {
   "cell_type": "code",
   "execution_count": null,
   "metadata": {},
   "outputs": [],
   "source": []
  },
  {
   "cell_type": "code",
   "execution_count": null,
   "metadata": {},
   "outputs": [],
   "source": []
  }
 ],
 "metadata": {
  "kernelspec": {
   "display_name": "Python 3",
   "language": "python",
   "name": "python3"
  },
  "language_info": {
   "codemirror_mode": {
    "name": "ipython",
    "version": 3
   },
   "file_extension": ".py",
   "mimetype": "text/x-python",
   "name": "python",
   "nbconvert_exporter": "python",
   "pygments_lexer": "ipython3",
   "version": "3.7.0"
  }
 },
 "nbformat": 4,
 "nbformat_minor": 2
}
