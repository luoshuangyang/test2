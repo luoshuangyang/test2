{
 "cells": [
  {
   "cell_type": "markdown",
   "metadata": {},
   "source": [
    "# Part1"
   ]
  },
  {
   "cell_type": "code",
   "execution_count": 8,
   "metadata": {},
   "outputs": [],
   "source": [
    "from __future__ import unicode_literals\n",
    "\n",
    "import pandas as pd\n",
    "%matplotlib inline\n",
    "import matplotlib.pyplot as plt\n",
    "from matplotlib import font_manager\n",
    "from matplotlib.font_manager import FontProperties \n",
    "\n",
    "font = FontProperties(fname=r\"/root/anaconda2/envs/python3/lib/python3.6/site-packages/matplotlib/mpl-data/fonts/ttf/msyh.ttf\")\n",
    "\n",
    "import numpy as np\n",
    "\n",
    "from sksurv.nonparametric import kaplan_meier_estimator\n",
    "from sksurv.preprocessing import OneHotEncoder\n",
    "from sksurv.linear_model import CoxnetSurvivalAnalysis#CoxPHSurvivalAnalysis\n",
    "from sksurv.linear_model import CoxPHSurvivalAnalysis\n",
    "from sksurv.metrics import concordance_index_censored\n",
    "from sksurv.metrics import concordance_index_ipcw\n",
    "from sklearn.feature_selection import SelectKBest\n",
    "from sklearn.pipeline import Pipeline\n",
    "from sklearn.model_selection import GridSearchCV"
   ]
  },
  {
   "cell_type": "code",
   "execution_count": 5,
   "metadata": {},
   "outputs": [
    {
     "name": "stdout",
     "output_type": "stream",
     "text": [
      "True    27\n",
      "Name: IsPlanned, dtype: int64\n"
     ]
    },
    {
     "data": {
      "image/png": "[encoded data removed]",
      "text/plain": [
       "<Figure size 432x288 with 1 Axes>"
      ]
     },
     "metadata": {
      "needs_background": "light"
     },
     "output_type": "display_data"
    }
   ],
   "source": [
    "data1 = pd.read_csv(\"1851M36P.csv\", encoding = \"GB2312\")\n",
    "\n",
    "#data1 = data1[data1[\"部件装上使用小时数\"]!=\"00:00\"]\n",
    "data1[\"部件本次装机使用小时\"] = data1[\"部件本次装机使用小时\"].str.split(':').str[0].astype(int)\n",
    "data1 = data1[data1[\"部件本次装机使用小时\"]>0]\n",
    "\n",
    "data1[\"IsPlanned\"] = data1[\"拆换原因\"]!=\"FAIL\"\n",
    "print(data1[\"IsPlanned\"].value_counts())\n",
    "data_y = data1[[\"IsPlanned\", \"部件本次装机使用小时\"]]\n",
    "data_y[\"部件本次装机使用小时\"].hist(bins=12, range=(0,60000))\n",
    "\n",
    "#data1[\"IsPlaneNew\"] = data1[\"部件装上飞行小时数\"]==\"00:00\"\n",
    "data1[\"IsPartNew\"] = data1[\"部件装上使用小时数\"]==\"00:00\"\n",
    "def CheckNew(p1):\n",
    "    if p1:\n",
    "        return \"PartNew\"\n",
    "    elif not p1:\n",
    "        return \"PartOld\"\n",
    "\n",
    "#print([CheckNew(row[\"IsPlaneNew\"], row[\"IsPartNew\"]) for idx, row in data1.iterrows()])\n",
    "data1[\"PlanePartType\"] = [CheckNew(row[\"IsPartNew\"]) for idx, row in data1.iterrows()]\n",
    "\n",
    "data1[\"安装日期\"] = pd.to_datetime(data1[\"安装日期\"])\n",
    "data1[\"安装年度\"] = data1[\"安装日期\"].dt.year\n",
    "\n",
    "di = {\"霍尼韦尔\": \"HONEYWELL\"}\n",
    "data1.replace({\"最近送修公司\": di}, inplace=True)\n",
    "data1[\"最近送修公司\"].fillna(\"Unknown\", inplace=True)\n",
    "\n",
    "#data1[\"FH TSN\"].fillna(\"00:00\", inplace=True)\n",
    "#data1[\"部件装上飞行小时数\"] = data1[\"部件装上飞行小时数\"].str.split(':').str[0].astype(int)\n",
    "data1[\"部件装上使用小时数\"] = data1[\"部件装上使用小时数\"].str.split(':').str[0].astype(int)\n",
    "\n",
    "#data1[\"部件装上飞行小时数-Range\"] = pd.cut(data1['部件装上飞行小时数'], 8)\n",
    "#data1[\"部件装上飞行循环数-Range\"] = pd.cut(data1['部件装上飞行循环数'], 8)\n",
    "data1[\"部件装上使用小时数-Range\"] = pd.cut(data1['部件装上使用小时数'], 4)\n",
    "#data1[\"部件装上使用循环数-Range\"] = pd.cut(data1['部件装上使用循环数'], 8)\n",
    "#data1[\"CY TSN-Range\"] = pd.cut(data1['CY TSN'], 8)\n",
    "#data1[\"FH TSN-Range\"] = pd.cut(data1['FH TSN'], 8)\n",
    "\n",
    "#data_x = data1[[\"机型\",\"制造序列号\",\"机号\",\"参考类型\",\"指令类型\",\"序号\",\"拆换原因\",\"部件装上飞行循环数\",\"部件装上使用循环数\",\n",
    "#                \"部件拆下飞行循环数\",\"部件拆下使用循环数\",\"装上序号\",\"最近送修公司\",\"CY TSN\",\"FH TSN\"]]\n",
    "#data_x = data1[[\"机型\",\"参考类型\",\"指令类型\",\"拆换原因\",\"部件装上飞行循环数\",\"部件装上使用循环数\",\n",
    "#                \"部件拆下飞行循环数\",\"部件拆下使用循环数\",\"CY TSN\",\"FH TSN\"]]\n",
    "data_x = data1[[\"机型\",\"安装年度\",\"部件装上使用小时数-Range\", \"最近送修公司\",\"PlanePartType\"]]"
   ]
  },
  {
   "cell_type": "code",
   "execution_count": 6,
   "metadata": {},
   "outputs": [
    {
     "data": {
      "text/plain": [
       "Text(0.5, 0, 'time $t$')"
      ]
     },
     "execution_count": 6,
     "metadata": {},
     "output_type": "execute_result"
    },
    {
     "data": {
      "image/png": "[encoded data removed]",
      "text/plain": [
       "<Figure size 432x288 with 1 Axes>"
      ]
     },
     "metadata": {
      "needs_background": "light"
     },
     "output_type": "display_data"
    }
   ],
   "source": [
    "time, survival_prob = kaplan_meier_estimator(data_y[\"IsPlanned\"], data_y[\"部件本次装机使用小时\"])\n",
    "plt.step(time, survival_prob, where=\"post\")\n",
    "plt.ylabel(\"est. probability of survival $\\hat{S}(t)$\")\n",
    "plt.xlabel(\"time $t$\")"
   ]
  },
  {
   "cell_type": "code",
   "execution_count": 7,
   "metadata": {},
   "outputs": [
    {
     "data": {
      "text/plain": [
       "<matplotlib.legend.Legend at 0x7fd404137128>"
      ]
     },
     "execution_count": 7,
     "metadata": {},
     "output_type": "execute_result"
    },
    {
     "data": {
      "image/png": "[encoded data removed]",
      "text/plain": [
       "<Figure size 432x288 with 1 Axes>"
      ]
     },
     "metadata": {
      "needs_background": "light"
     },
     "output_type": "display_data"
    }
   ],
   "source": [
    "# \"机型\",\"拆换年度\",\"部件装上飞行小时数-Range\",\"部件装上飞行循环数-Range\",\"部件装上使用小时数-Range\",\"部件装上使用循环数-Range\",\"CY TSN-Range\",\"FH TSN-Range\", \"最近送修公司\"\n",
    "#col = \"机型\"\n",
    "#col = \"参考类型\"\n",
    "col = \"PlanePartType\"\n",
    "#col = \"安装年度\"\n",
    "#col = \"机型\"\n",
    "\n",
    "#print((data_x[\"最近送修公司\"]!=\"上海航新\") & (data_x[\"最近送修公司\"]!=\"PP\"))\n",
    "\n",
    "y = data_y\n",
    "x = data_x\n",
    "\n",
    "for value in x[col].unique():\n",
    "    mask = x[col] == value\n",
    "    time_cell, survival_prob_cell = kaplan_meier_estimator(y[\"IsPlanned\"][mask],\n",
    "                                                           y[\"部件本次装机使用小时\"][mask])\n",
    "    plt.step(time_cell, survival_prob_cell, where=\"post\", label=\"%s (n = %d)\" % (value, mask.sum()))\n",
    "\n",
    "plt.ylabel(\"est. probability of survival $\\hat{S}(t)$\")\n",
    "plt.xlabel(\"time $t$\")\n",
    "plt.legend(loc=\"upper right\", prop=font)"
   ]
  },
  {
   "cell_type": "code",
   "execution_count": 5,
   "metadata": {},
   "outputs": [
    {
     "data": {
      "text/plain": [
       "<matplotlib.legend.Legend at 0x7fdbe4b0edd8>"
      ]
     },
     "execution_count": 5,
     "metadata": {},
     "output_type": "execute_result"
    },
    {
     "data": {
      "image/png": "[encoded data removed]",
      "text/plain": [
       "<Figure size 432x288 with 1 Axes>"
      ]
     },
     "metadata": {
      "needs_background": "light"
     },
     "output_type": "display_data"
    }
   ],
   "source": [
    "# \"机型\",\"拆换年度\",\"部件装上飞行小时数-Range\",\"部件装上飞行循环数-Range\",\"部件装上使用小时数-Range\",\"部件装上使用循环数-Range\",\"CY TSN-Range\",\"FH TSN-Range\", \"最近送修公司\"\n",
    "#col = \"机型\"\n",
    "#col = \"参考类型\"\n",
    "col = \"最近送修公司\"\n",
    "#col = \"安装年度\"\n",
    "#col = \"机型\"\n",
    "\n",
    "#print((data_x[\"最近送修公司\"]!=\"上海航新\") & (data_x[\"最近送修公司\"]!=\"PP\"))\n",
    "\n",
    "filter1 = (data_x[\"最近送修公司\"]!=\"上海航新\") & (data_x[\"最近送修公司\"]!=\"PP\") & (data_x[\"最近送修公司\"]!=\"海航技术\")\n",
    "y = data_y[filter1]\n",
    "x = data_x[filter1]\n",
    "\n",
    "for value in x[col].unique():\n",
    "    mask = x[col] == value\n",
    "    time_cell, survival_prob_cell = kaplan_meier_estimator(y[\"IsPlanned\"][mask],\n",
    "                                                           y[\"部件本次装机使用小时\"][mask])\n",
    "    plt.step(time_cell, survival_prob_cell, where=\"post\", label=\"%s (n = %d)\" % (value, mask.sum()))\n",
    "\n",
    "plt.ylabel(\"est. probability of survival $\\hat{S}(t)$\")\n",
    "plt.xlabel(\"time $t$\")\n",
    "plt.legend(loc=\"upper right\", prop=font)"
   ]
  },
  {
   "cell_type": "code",
   "execution_count": 6,
   "metadata": {},
   "outputs": [
    {
     "data": {
      "text/html": [
       "<div>\n",
       "<style scoped>\n",
       "    .dataframe tbody tr th:only-of-type {\n",
       "        vertical-align: middle;\n",
       "    }\n",
       "\n",
       "    .dataframe tbody tr th {\n",
       "        vertical-align: top;\n",
       "    }\n",
       "\n",
       "    .dataframe thead th {\n",
       "        text-align: right;\n",
       "    }\n",
       "</style>\n",
       "<table border=\"1\" class=\"dataframe\">\n",
       "  <thead>\n",
       "    <tr style=\"text-align: right;\">\n",
       "      <th></th>\n",
       "      <th>安装年度</th>\n",
       "    </tr>\n",
       "  </thead>\n",
       "  <tbody>\n",
       "    <tr>\n",
       "      <th>count</th>\n",
       "      <td>1105.000000</td>\n",
       "    </tr>\n",
       "    <tr>\n",
       "      <th>mean</th>\n",
       "      <td>2010.716742</td>\n",
       "    </tr>\n",
       "    <tr>\n",
       "      <th>std</th>\n",
       "      <td>4.687358</td>\n",
       "    </tr>\n",
       "    <tr>\n",
       "      <th>min</th>\n",
       "      <td>1996.000000</td>\n",
       "    </tr>\n",
       "    <tr>\n",
       "      <th>25%</th>\n",
       "      <td>2008.000000</td>\n",
       "    </tr>\n",
       "    <tr>\n",
       "      <th>50%</th>\n",
       "      <td>2011.000000</td>\n",
       "    </tr>\n",
       "    <tr>\n",
       "      <th>75%</th>\n",
       "      <td>2015.000000</td>\n",
       "    </tr>\n",
       "    <tr>\n",
       "      <th>max</th>\n",
       "      <td>2018.000000</td>\n",
       "    </tr>\n",
       "  </tbody>\n",
       "</table>\n",
       "</div>"
      ],
      "text/plain": [
       "              安装年度\n",
       "count  1105.000000\n",
       "mean   2010.716742\n",
       "std       4.687358\n",
       "min    1996.000000\n",
       "25%    2008.000000\n",
       "50%    2011.000000\n",
       "75%    2015.000000\n",
       "max    2018.000000"
      ]
     },
     "execution_count": 6,
     "metadata": {},
     "output_type": "execute_result"
    }
   ],
   "source": [
    "#data_x.select_dtypes(exclude=['int','int64' 'float']).columns\n",
    "data_x.describe()"
   ]
  },
  {
   "cell_type": "code",
   "execution_count": 7,
   "metadata": {},
   "outputs": [
    {
     "data": {
      "text/html": [
       "<div>\n",
       "<style scoped>\n",
       "    .dataframe tbody tr th:only-of-type {\n",
       "        vertical-align: middle;\n",
       "    }\n",
       "\n",
       "    .dataframe tbody tr th {\n",
       "        vertical-align: top;\n",
       "    }\n",
       "\n",
       "    .dataframe thead th {\n",
       "        text-align: right;\n",
       "    }\n",
       "</style>\n",
       "<table border=\"1\" class=\"dataframe\">\n",
       "  <thead>\n",
       "    <tr style=\"text-align: right;\">\n",
       "      <th></th>\n",
       "      <th>机型=73N</th>\n",
       "      <th>机型=73Q</th>\n",
       "      <th>安装年度=1997</th>\n",
       "      <th>安装年度=1998</th>\n",
       "      <th>安装年度=1999</th>\n",
       "      <th>安装年度=2000</th>\n",
       "      <th>安装年度=2001</th>\n",
       "      <th>安装年度=2002</th>\n",
       "      <th>安装年度=2003</th>\n",
       "      <th>安装年度=2004</th>\n",
       "      <th>...</th>\n",
       "      <th>FH TSN-Range=(64256.732, 74960.606]</th>\n",
       "      <th>FH TSN-Range=(74960.606, 85664.48]</th>\n",
       "      <th>最近送修公司=PP</th>\n",
       "      <th>最近送修公司=Unknown</th>\n",
       "      <th>最近送修公司=上海航新</th>\n",
       "      <th>最近送修公司=武汉航达</th>\n",
       "      <th>最近送修公司=海口维修室</th>\n",
       "      <th>最近送修公司=海航技术</th>\n",
       "      <th>PlanePartType=PlaneOld-PartNew</th>\n",
       "      <th>PlanePartType=PlaneOld-PartOld</th>\n",
       "    </tr>\n",
       "  </thead>\n",
       "  <tbody>\n",
       "    <tr>\n",
       "      <th>0</th>\n",
       "      <td>0.0</td>\n",
       "      <td>0.0</td>\n",
       "      <td>0.0</td>\n",
       "      <td>0.0</td>\n",
       "      <td>0.0</td>\n",
       "      <td>0.0</td>\n",
       "      <td>0.0</td>\n",
       "      <td>0.0</td>\n",
       "      <td>1.0</td>\n",
       "      <td>0.0</td>\n",
       "      <td>...</td>\n",
       "      <td>0.0</td>\n",
       "      <td>0.0</td>\n",
       "      <td>0.0</td>\n",
       "      <td>1.0</td>\n",
       "      <td>0.0</td>\n",
       "      <td>0.0</td>\n",
       "      <td>0.0</td>\n",
       "      <td>0.0</td>\n",
       "      <td>0.0</td>\n",
       "      <td>0.0</td>\n",
       "    </tr>\n",
       "    <tr>\n",
       "      <th>1</th>\n",
       "      <td>0.0</td>\n",
       "      <td>0.0</td>\n",
       "      <td>0.0</td>\n",
       "      <td>0.0</td>\n",
       "      <td>0.0</td>\n",
       "      <td>0.0</td>\n",
       "      <td>0.0</td>\n",
       "      <td>0.0</td>\n",
       "      <td>1.0</td>\n",
       "      <td>0.0</td>\n",
       "      <td>...</td>\n",
       "      <td>0.0</td>\n",
       "      <td>0.0</td>\n",
       "      <td>0.0</td>\n",
       "      <td>1.0</td>\n",
       "      <td>0.0</td>\n",
       "      <td>0.0</td>\n",
       "      <td>0.0</td>\n",
       "      <td>0.0</td>\n",
       "      <td>0.0</td>\n",
       "      <td>0.0</td>\n",
       "    </tr>\n",
       "    <tr>\n",
       "      <th>2</th>\n",
       "      <td>0.0</td>\n",
       "      <td>0.0</td>\n",
       "      <td>0.0</td>\n",
       "      <td>0.0</td>\n",
       "      <td>0.0</td>\n",
       "      <td>0.0</td>\n",
       "      <td>0.0</td>\n",
       "      <td>0.0</td>\n",
       "      <td>0.0</td>\n",
       "      <td>0.0</td>\n",
       "      <td>...</td>\n",
       "      <td>0.0</td>\n",
       "      <td>0.0</td>\n",
       "      <td>0.0</td>\n",
       "      <td>0.0</td>\n",
       "      <td>0.0</td>\n",
       "      <td>0.0</td>\n",
       "      <td>1.0</td>\n",
       "      <td>0.0</td>\n",
       "      <td>1.0</td>\n",
       "      <td>0.0</td>\n",
       "    </tr>\n",
       "    <tr>\n",
       "      <th>3</th>\n",
       "      <td>0.0</td>\n",
       "      <td>1.0</td>\n",
       "      <td>0.0</td>\n",
       "      <td>0.0</td>\n",
       "      <td>0.0</td>\n",
       "      <td>1.0</td>\n",
       "      <td>0.0</td>\n",
       "      <td>0.0</td>\n",
       "      <td>0.0</td>\n",
       "      <td>0.0</td>\n",
       "      <td>...</td>\n",
       "      <td>0.0</td>\n",
       "      <td>0.0</td>\n",
       "      <td>0.0</td>\n",
       "      <td>1.0</td>\n",
       "      <td>0.0</td>\n",
       "      <td>0.0</td>\n",
       "      <td>0.0</td>\n",
       "      <td>0.0</td>\n",
       "      <td>0.0</td>\n",
       "      <td>1.0</td>\n",
       "    </tr>\n",
       "    <tr>\n",
       "      <th>4</th>\n",
       "      <td>1.0</td>\n",
       "      <td>0.0</td>\n",
       "      <td>0.0</td>\n",
       "      <td>0.0</td>\n",
       "      <td>0.0</td>\n",
       "      <td>1.0</td>\n",
       "      <td>0.0</td>\n",
       "      <td>0.0</td>\n",
       "      <td>0.0</td>\n",
       "      <td>0.0</td>\n",
       "      <td>...</td>\n",
       "      <td>0.0</td>\n",
       "      <td>0.0</td>\n",
       "      <td>0.0</td>\n",
       "      <td>0.0</td>\n",
       "      <td>0.0</td>\n",
       "      <td>1.0</td>\n",
       "      <td>0.0</td>\n",
       "      <td>0.0</td>\n",
       "      <td>0.0</td>\n",
       "      <td>1.0</td>\n",
       "    </tr>\n",
       "  </tbody>\n",
       "</table>\n",
       "<p>5 rows × 53 columns</p>\n",
       "</div>"
      ],
      "text/plain": [
       "   机型=73N  机型=73Q  安装年度=1997  安装年度=1998  安装年度=1999  安装年度=2000  安装年度=2001  \\\n",
       "0     0.0     0.0        0.0        0.0        0.0        0.0        0.0   \n",
       "1     0.0     0.0        0.0        0.0        0.0        0.0        0.0   \n",
       "2     0.0     0.0        0.0        0.0        0.0        0.0        0.0   \n",
       "3     0.0     1.0        0.0        0.0        0.0        1.0        0.0   \n",
       "4     1.0     0.0        0.0        0.0        0.0        1.0        0.0   \n",
       "\n",
       "   安装年度=2002  安装年度=2003  安装年度=2004               ...                \\\n",
       "0        0.0        1.0        0.0               ...                 \n",
       "1        0.0        1.0        0.0               ...                 \n",
       "2        0.0        0.0        0.0               ...                 \n",
       "3        0.0        0.0        0.0               ...                 \n",
       "4        0.0        0.0        0.0               ...                 \n",
       "\n",
       "   FH TSN-Range=(64256.732, 74960.606]  FH TSN-Range=(74960.606, 85664.48]  \\\n",
       "0                                  0.0                                 0.0   \n",
       "1                                  0.0                                 0.0   \n",
       "2                                  0.0                                 0.0   \n",
       "3                                  0.0                                 0.0   \n",
       "4                                  0.0                                 0.0   \n",
       "\n",
       "   最近送修公司=PP  最近送修公司=Unknown  最近送修公司=上海航新  最近送修公司=武汉航达  最近送修公司=海口维修室  \\\n",
       "0        0.0             1.0          0.0          0.0           0.0   \n",
       "1        0.0             1.0          0.0          0.0           0.0   \n",
       "2        0.0             0.0          0.0          0.0           1.0   \n",
       "3        0.0             1.0          0.0          0.0           0.0   \n",
       "4        0.0             0.0          0.0          1.0           0.0   \n",
       "\n",
       "   最近送修公司=海航技术  PlanePartType=PlaneOld-PartNew  PlanePartType=PlaneOld-PartOld  \n",
       "0          0.0                             0.0                             0.0  \n",
       "1          0.0                             0.0                             0.0  \n",
       "2          0.0                             1.0                             0.0  \n",
       "3          0.0                             0.0                             1.0  \n",
       "4          0.0                             0.0                             1.0  \n",
       "\n",
       "[5 rows x 53 columns]"
      ]
     },
     "execution_count": 7,
     "metadata": {},
     "output_type": "execute_result"
    }
   ],
   "source": [
    "#\"部件装上飞行小时数-Range\",\"部件装上飞行循环数-Range\",\"部件装上使用小时数-Range\",\"部件装上使用循环数-Range\",\"CY TSN-Range\",\"FH TSN-Range\",\n",
    "#\n",
    "x = data_x.copy()\n",
    "cat_features = [\"机型\", \"安装年度\",\"部件装上飞行小时数-Range\",\"部件装上使用小时数-Range\",\"FH TSN-Range\", \"最近送修公司\",\"PlanePartType\"]\n",
    "\n",
    "for col in cat_features:\n",
    "    x[col] = x[col].astype('category')\n",
    "\n",
    "data_x_numeric = OneHotEncoder().fit_transform(x[cat_features])\n",
    "data_x_numeric.head()"
   ]
  },
  {
   "cell_type": "code",
   "execution_count": 8,
   "metadata": {},
   "outputs": [
    {
     "data": {
      "text/plain": [
       "故障描述          285\n",
       "故障处理            3\n",
       "送修至拆下时间/FH    445\n",
       "TLB号           11\n",
       "dtype: int64"
      ]
     },
     "execution_count": 8,
     "metadata": {},
     "output_type": "execute_result"
    }
   ],
   "source": [
    "null_columns=data1.columns[data1.isnull().any()]\n",
    "data1[null_columns].isnull().sum()"
   ]
  },
  {
   "cell_type": "code",
   "execution_count": 12,
   "metadata": {},
   "outputs": [
    {
     "data": {
      "text/plain": [
       "CoxPHSurvivalAnalysis(alpha=0, n_iter=100, tol=1e-09, verbose=0)"
      ]
     },
     "execution_count": 12,
     "metadata": {},
     "output_type": "execute_result"
    }
   ],
   "source": [
    "#data_y = data_y.as_matrix()\n",
    "y = data_y.to_records(index=False)\n",
    "estimator = CoxPHSurvivalAnalysis() #CoxnetSurvivalAnalysis()\n",
    "estimator.fit(data_x_numeric, y)"
   ]
  },
  {
   "cell_type": "code",
   "execution_count": 13,
   "metadata": {},
   "outputs": [],
   "source": [
    "#pd.Series(estimator.coef_, index=data_x_numeric.columns)"
   ]
  },
  {
   "cell_type": "code",
   "execution_count": 45,
   "metadata": {},
   "outputs": [
    {
     "name": "stdout",
     "output_type": "stream",
     "text": [
      "0.7553380581255218\n",
      "0.7547391738249756\n"
     ]
    }
   ],
   "source": [
    "prediction = estimator.predict(data_x_numeric)\n",
    "result = concordance_index_censored(y[\"IsPlanned\"], y[\"部件本次装机使用小时\"], prediction)\n",
    "print(result[0])\n",
    "result = concordance_index_ipcw(y, y, prediction)\n",
    "print(result[0])"
   ]
  },
  {
   "cell_type": "code",
   "execution_count": 15,
   "metadata": {},
   "outputs": [
    {
     "data": {
      "text/plain": [
       "PlanePartType=PlaneOld-PartOld           0.651442\n",
       "最近送修公司=Unknown                           0.631788\n",
       "最近送修公司=海口维修室                             0.616740\n",
       "部件装上使用小时数-Range=(20298.5, 30447.75]      0.548653\n",
       "部件装上飞行小时数-Range=(24571.125, 32761.5]     0.542170\n",
       "部件装上使用小时数-Range=(10149.25, 20298.5]      0.538550\n",
       "安装年度=2017                                0.536587\n",
       "安装年度=2018                                0.534099\n",
       "部件装上使用小时数-Range=(40597.0, 50746.25]      0.529255\n",
       "安装年度=2016                                0.526942\n",
       "部件装上飞行小时数-Range=(16380.75, 24571.125]    0.526721\n",
       "部件装上飞行小时数-Range=(32761.5, 40951.875]     0.523604\n",
       "部件装上使用小时数-Range=(30447.75, 40597.0]      0.523316\n",
       "安装年度=2002                                0.520038\n",
       "安装年度=2007                                0.516786\n",
       "机型=73N                                   0.515876\n",
       "安装年度=2015                                0.514370\n",
       "部件装上使用小时数-Range=(50746.25, 60895.5]      0.513840\n",
       "最近送修公司=武汉航达                              0.513777\n",
       "安装年度=2009                                0.513556\n",
       "安装年度=2008                                0.512803\n",
       "部件装上飞行小时数-Range=(40951.875, 49142.25]    0.511973\n",
       "安装年度=2003                                0.511737\n",
       "安装年度=2000                                0.511240\n",
       "部件装上飞行小时数-Range=(49142.25, 57332.625]    0.511195\n",
       "安装年度=2013                                0.510954\n",
       "FH TSN-Range=(21441.238, 32145.111]      0.510933\n",
       "安装年度=2014                                0.510856\n",
       "机型=73Q                                   0.509942\n",
       "FH TSN-Range=(42848.985, 53552.859]      0.509648\n",
       "FH TSN-Range=(32145.111, 42848.985]      0.509101\n",
       "安装年度=2005                                0.507604\n",
       "安装年度=1998                                0.507120\n",
       "FH TSN-Range=(10737.364, 21441.238]      0.506716\n",
       "FH TSN-Range=(64256.732, 74960.606]      0.506657\n",
       "PlanePartType=PlaneOld-PartNew           0.506216\n",
       "安装年度=2004                                0.505975\n",
       "安装年度=2006                                0.505338\n",
       "FH TSN-Range=(74960.606, 85664.48]       0.504368\n",
       "安装年度=1997                                0.504344\n",
       "安装年度=2001                                0.503866\n",
       "最近送修公司=海航技术                              0.502390\n",
       "安装年度=1999                                0.502339\n",
       "部件装上飞行小时数-Range=(8190.375, 16380.75]     0.501854\n",
       "部件装上使用小时数-Range=(71044.75, 81194.0]      0.501485\n",
       "安装年度=2012                                0.501319\n",
       "最近送修公司=上海航新                              0.501177\n",
       "部件装上使用小时数-Range=(60895.5, 71044.75]      0.501053\n",
       "部件装上飞行小时数-Range=(57332.625, 65523.0]     0.500998\n",
       "最近送修公司=PP                                0.500246\n",
       "FH TSN-Range=(53552.859, 64256.732]      0.496917\n",
       "安装年度=2011                                0.494902\n",
       "安装年度=2010                                0.493592\n",
       "dtype: float64"
      ]
     },
     "execution_count": 15,
     "metadata": {},
     "output_type": "execute_result"
    }
   ],
   "source": [
    "def fit_and_score_features(X, y):\n",
    "    n_features = X.shape[1]\n",
    "    scores = np.empty(n_features)\n",
    "    m = CoxnetSurvivalAnalysis()\n",
    "    for j in range(n_features):\n",
    "        Xj = X[:, j:j+1]\n",
    "        m.fit(Xj, y)\n",
    "        scores[j] = m.score(Xj, y)\n",
    "    return scores\n",
    "\n",
    "scores = fit_and_score_features(data_x_numeric.values, y)\n",
    "pd.Series(scores, index=data_x_numeric.columns).sort_values(ascending=False)"
   ]
  },
  {
   "cell_type": "code",
   "execution_count": 40,
   "metadata": {},
   "outputs": [
    {
     "data": {
      "text/html": [
       "<div>\n",
       "<style scoped>\n",
       "    .dataframe tbody tr th:only-of-type {\n",
       "        vertical-align: middle;\n",
       "    }\n",
       "\n",
       "    .dataframe tbody tr th {\n",
       "        vertical-align: top;\n",
       "    }\n",
       "\n",
       "    .dataframe thead th {\n",
       "        text-align: right;\n",
       "    }\n",
       "</style>\n",
       "<table border=\"1\" class=\"dataframe\">\n",
       "  <thead>\n",
       "    <tr style=\"text-align: right;\">\n",
       "      <th></th>\n",
       "      <th>机型</th>\n",
       "      <th>安装年度</th>\n",
       "      <th>部件装上飞行小时数-Range</th>\n",
       "      <th>部件装上使用小时数-Range</th>\n",
       "      <th>FH TSN-Range</th>\n",
       "      <th>最近送修公司</th>\n",
       "      <th>PlanePartType</th>\n",
       "    </tr>\n",
       "  </thead>\n",
       "  <tbody>\n",
       "    <tr>\n",
       "      <th>46</th>\n",
       "      <td>73N</td>\n",
       "      <td>2005</td>\n",
       "      <td>(8190.375, 16380.75]</td>\n",
       "      <td>(20298.5, 30447.75]</td>\n",
       "      <td>(32145.111, 42848.985]</td>\n",
       "      <td>海口维修室</td>\n",
       "      <td>PlaneOld-PartOld</td>\n",
       "    </tr>\n",
       "    <tr>\n",
       "      <th>77</th>\n",
       "      <td>73N</td>\n",
       "      <td>2006</td>\n",
       "      <td>(16380.75, 24571.125]</td>\n",
       "      <td>(10149.25, 20298.5]</td>\n",
       "      <td>(42848.985, 53552.859]</td>\n",
       "      <td>武汉航达</td>\n",
       "      <td>PlaneOld-PartOld</td>\n",
       "    </tr>\n",
       "    <tr>\n",
       "      <th>200</th>\n",
       "      <td>73C</td>\n",
       "      <td>2008</td>\n",
       "      <td>(32761.5, 40951.875]</td>\n",
       "      <td>(10149.25, 20298.5]</td>\n",
       "      <td>(32145.111, 42848.985]</td>\n",
       "      <td>上海航新</td>\n",
       "      <td>PlaneOld-PartOld</td>\n",
       "    </tr>\n",
       "    <tr>\n",
       "      <th>593</th>\n",
       "      <td>73N</td>\n",
       "      <td>2013</td>\n",
       "      <td>(16380.75, 24571.125]</td>\n",
       "      <td>(20298.5, 30447.75]</td>\n",
       "      <td>(53552.859, 64256.732]</td>\n",
       "      <td>海口维修室</td>\n",
       "      <td>PlaneOld-PartOld</td>\n",
       "    </tr>\n",
       "  </tbody>\n",
       "</table>\n",
       "</div>"
      ],
      "text/plain": [
       "      机型  安装年度        部件装上飞行小时数-Range      部件装上使用小时数-Range  \\\n",
       "46   73N  2005   (8190.375, 16380.75]  (20298.5, 30447.75]   \n",
       "77   73N  2006  (16380.75, 24571.125]  (10149.25, 20298.5]   \n",
       "200  73C  2008   (32761.5, 40951.875]  (10149.25, 20298.5]   \n",
       "593  73N  2013  (16380.75, 24571.125]  (20298.5, 30447.75]   \n",
       "\n",
       "               FH TSN-Range 最近送修公司     PlanePartType  \n",
       "46   (32145.111, 42848.985]  海口维修室  PlaneOld-PartOld  \n",
       "77   (42848.985, 53552.859]   武汉航达  PlaneOld-PartOld  \n",
       "200  (32145.111, 42848.985]   上海航新  PlaneOld-PartOld  \n",
       "593  (53552.859, 64256.732]  海口维修室  PlaneOld-PartOld  "
      ]
     },
     "execution_count": 40,
     "metadata": {},
     "output_type": "execute_result"
    }
   ],
   "source": [
    "x_new = data_x_numeric.loc[[46,77,200,593]]\n",
    "#print(x_new)\n",
    "data_x.loc[[46,77,200,593]]"
   ]
  },
  {
   "cell_type": "code",
   "execution_count": 41,
   "metadata": {},
   "outputs": [
    {
     "data": {
      "text/plain": [
       "rec.array([( True, 39129), ( True,    49), ( True,  2884), (False,  6538)],\n",
       "          dtype=[('IsPlanned', '?'), ('部件本次装机使用小时', '<i8')])"
      ]
     },
     "execution_count": 41,
     "metadata": {},
     "output_type": "execute_result"
    }
   ],
   "source": [
    "y[[46,77,200,593]]"
   ]
  },
  {
   "cell_type": "code",
   "execution_count": 36,
   "metadata": {},
   "outputs": [
    {
     "data": {
      "text/plain": [
       "<matplotlib.legend.Legend at 0x7fdbbf3c24e0>"
      ]
     },
     "execution_count": 36,
     "metadata": {},
     "output_type": "execute_result"
    },
    {
     "data": {
      "image/png": "[encoded data removed]",
      "text/plain": [
       "<Figure size 432x288 with 1 Axes>"
      ]
     },
     "metadata": {
      "needs_background": "light"
     },
     "output_type": "display_data"
    }
   ],
   "source": [
    "pred_surv = estimator.predict_survival_function(x_new)\n",
    "for i, c in enumerate(pred_surv):\n",
    "    plt.step(c.x, c.y, where=\"post\", label=\"Sample %d\" % (i + 1))\n",
    "plt.ylabel(\"est. probability of survival $\\hat{S}(t)$\")\n",
    "plt.xlabel(\"time $t$\")\n",
    "plt.legend(loc=\"best\")"
   ]
  },
  {
   "cell_type": "code",
   "execution_count": 19,
   "metadata": {},
   "outputs": [],
   "source": [
    "pipe = Pipeline([('encode', OneHotEncoder()),\n",
    "                 ('select', SelectKBest(fit_and_score_features, k=3)),\n",
    "                 ('model', CoxPHSurvivalAnalysis())])"
   ]
  },
  {
   "cell_type": "code",
   "execution_count": 21,
   "metadata": {},
   "outputs": [
    {
     "name": "stderr",
     "output_type": "stream",
     "text": [
      "/root/anaconda2/envs/python3/lib/python3.6/site-packages/ipykernel_launcher.py:7: UserWarning: all coefficients are zero, consider decreasing alpha.\n",
      "  import sys\n",
      "/root/anaconda2/envs/python3/lib/python3.6/site-packages/ipykernel_launcher.py:7: UserWarning: all coefficients are zero, consider decreasing alpha.\n",
      "  import sys\n",
      "/root/anaconda2/envs/python3/lib/python3.6/site-packages/ipykernel_launcher.py:7: UserWarning: all coefficients are zero, consider decreasing alpha.\n",
      "  import sys\n",
      "/root/anaconda2/envs/python3/lib/python3.6/site-packages/ipykernel_launcher.py:7: UserWarning: all coefficients are zero, consider decreasing alpha.\n",
      "  import sys\n",
      "/root/anaconda2/envs/python3/lib/python3.6/site-packages/ipykernel_launcher.py:7: UserWarning: all coefficients are zero, consider decreasing alpha.\n",
      "  import sys\n",
      "/root/anaconda2/envs/python3/lib/python3.6/site-packages/ipykernel_launcher.py:7: UserWarning: all coefficients are zero, consider decreasing alpha.\n",
      "  import sys\n",
      "/root/anaconda2/envs/python3/lib/python3.6/site-packages/ipykernel_launcher.py:7: UserWarning: all coefficients are zero, consider decreasing alpha.\n",
      "  import sys\n",
      "/root/anaconda2/envs/python3/lib/python3.6/site-packages/ipykernel_launcher.py:7: UserWarning: all coefficients are zero, consider decreasing alpha.\n",
      "  import sys\n",
      "/root/anaconda2/envs/python3/lib/python3.6/site-packages/ipykernel_launcher.py:7: UserWarning: all coefficients are zero, consider decreasing alpha.\n",
      "  import sys\n",
      "/root/anaconda2/envs/python3/lib/python3.6/site-packages/ipykernel_launcher.py:7: UserWarning: all coefficients are zero, consider decreasing alpha.\n",
      "  import sys\n",
      "/root/anaconda2/envs/python3/lib/python3.6/site-packages/ipykernel_launcher.py:7: UserWarning: all coefficients are zero, consider decreasing alpha.\n",
      "  import sys\n",
      "/root/anaconda2/envs/python3/lib/python3.6/site-packages/ipykernel_launcher.py:7: UserWarning: all coefficients are zero, consider decreasing alpha.\n",
      "  import sys\n",
      "/root/anaconda2/envs/python3/lib/python3.6/site-packages/ipykernel_launcher.py:7: UserWarning: all coefficients are zero, consider decreasing alpha.\n",
      "  import sys\n",
      "/root/anaconda2/envs/python3/lib/python3.6/site-packages/ipykernel_launcher.py:7: UserWarning: all coefficients are zero, consider decreasing alpha.\n",
      "  import sys\n",
      "/root/anaconda2/envs/python3/lib/python3.6/site-packages/ipykernel_launcher.py:7: UserWarning: all coefficients are zero, consider decreasing alpha.\n",
      "  import sys\n",
      "/root/anaconda2/envs/python3/lib/python3.6/site-packages/ipykernel_launcher.py:7: UserWarning: all coefficients are zero, consider decreasing alpha.\n",
      "  import sys\n",
      "/root/anaconda2/envs/python3/lib/python3.6/site-packages/ipykernel_launcher.py:7: UserWarning: all coefficients are zero, consider decreasing alpha.\n",
      "  import sys\n",
      "/root/anaconda2/envs/python3/lib/python3.6/site-packages/ipykernel_launcher.py:7: UserWarning: all coefficients are zero, consider decreasing alpha.\n",
      "  import sys\n",
      "/root/anaconda2/envs/python3/lib/python3.6/site-packages/ipykernel_launcher.py:7: UserWarning: all coefficients are zero, consider decreasing alpha.\n",
      "  import sys\n",
      "/root/anaconda2/envs/python3/lib/python3.6/site-packages/ipykernel_launcher.py:7: UserWarning: all coefficients are zero, consider decreasing alpha.\n",
      "  import sys\n",
      "/root/anaconda2/envs/python3/lib/python3.6/site-packages/ipykernel_launcher.py:7: UserWarning: all coefficients are zero, consider decreasing alpha.\n",
      "  import sys\n",
      "/root/anaconda2/envs/python3/lib/python3.6/site-packages/ipykernel_launcher.py:7: UserWarning: all coefficients are zero, consider decreasing alpha.\n",
      "  import sys\n",
      "/root/anaconda2/envs/python3/lib/python3.6/site-packages/ipykernel_launcher.py:7: UserWarning: all coefficients are zero, consider decreasing alpha.\n",
      "  import sys\n",
      "/root/anaconda2/envs/python3/lib/python3.6/site-packages/ipykernel_launcher.py:7: UserWarning: all coefficients are zero, consider decreasing alpha.\n",
      "  import sys\n",
      "/root/anaconda2/envs/python3/lib/python3.6/site-packages/ipykernel_launcher.py:7: UserWarning: all coefficients are zero, consider decreasing alpha.\n",
      "  import sys\n",
      "/root/anaconda2/envs/python3/lib/python3.6/site-packages/ipykernel_launcher.py:7: UserWarning: all coefficients are zero, consider decreasing alpha.\n",
      "  import sys\n",
      "/root/anaconda2/envs/python3/lib/python3.6/site-packages/ipykernel_launcher.py:7: UserWarning: all coefficients are zero, consider decreasing alpha.\n",
      "  import sys\n",
      "/root/anaconda2/envs/python3/lib/python3.6/site-packages/ipykernel_launcher.py:7: UserWarning: all coefficients are zero, consider decreasing alpha.\n",
      "  import sys\n",
      "/root/anaconda2/envs/python3/lib/python3.6/site-packages/ipykernel_launcher.py:7: UserWarning: all coefficients are zero, consider decreasing alpha.\n",
      "  import sys\n",
      "/root/anaconda2/envs/python3/lib/python3.6/site-packages/ipykernel_launcher.py:7: UserWarning: all coefficients are zero, consider decreasing alpha.\n",
      "  import sys\n",
      "/root/anaconda2/envs/python3/lib/python3.6/site-packages/ipykernel_launcher.py:7: UserWarning: all coefficients are zero, consider decreasing alpha.\n",
      "  import sys\n",
      "/root/anaconda2/envs/python3/lib/python3.6/site-packages/ipykernel_launcher.py:7: UserWarning: all coefficients are zero, consider decreasing alpha.\n",
      "  import sys\n",
      "/root/anaconda2/envs/python3/lib/python3.6/site-packages/ipykernel_launcher.py:7: UserWarning: all coefficients are zero, consider decreasing alpha.\n",
      "  import sys\n",
      "/root/anaconda2/envs/python3/lib/python3.6/site-packages/ipykernel_launcher.py:7: UserWarning: all coefficients are zero, consider decreasing alpha.\n",
      "  import sys\n",
      "/root/anaconda2/envs/python3/lib/python3.6/site-packages/ipykernel_launcher.py:7: UserWarning: all coefficients are zero, consider decreasing alpha.\n",
      "  import sys\n",
      "/root/anaconda2/envs/python3/lib/python3.6/site-packages/ipykernel_launcher.py:7: UserWarning: all coefficients are zero, consider decreasing alpha.\n",
      "  import sys\n",
      "/root/anaconda2/envs/python3/lib/python3.6/site-packages/ipykernel_launcher.py:7: UserWarning: all coefficients are zero, consider decreasing alpha.\n",
      "  import sys\n",
      "/root/anaconda2/envs/python3/lib/python3.6/site-packages/ipykernel_launcher.py:7: UserWarning: all coefficients are zero, consider decreasing alpha.\n",
      "  import sys\n",
      "/root/anaconda2/envs/python3/lib/python3.6/site-packages/ipykernel_launcher.py:7: UserWarning: all coefficients are zero, consider decreasing alpha.\n",
      "  import sys\n",
      "/root/anaconda2/envs/python3/lib/python3.6/site-packages/ipykernel_launcher.py:7: UserWarning: all coefficients are zero, consider decreasing alpha.\n",
      "  import sys\n",
      "/root/anaconda2/envs/python3/lib/python3.6/site-packages/ipykernel_launcher.py:7: UserWarning: all coefficients are zero, consider decreasing alpha.\n",
      "  import sys\n",
      "/root/anaconda2/envs/python3/lib/python3.6/site-packages/ipykernel_launcher.py:7: UserWarning: all coefficients are zero, consider decreasing alpha.\n",
      "  import sys\n",
      "/root/anaconda2/envs/python3/lib/python3.6/site-packages/ipykernel_launcher.py:7: UserWarning: all coefficients are zero, consider decreasing alpha.\n",
      "  import sys\n",
      "/root/anaconda2/envs/python3/lib/python3.6/site-packages/ipykernel_launcher.py:7: UserWarning: all coefficients are zero, consider decreasing alpha.\n",
      "  import sys\n",
      "/root/anaconda2/envs/python3/lib/python3.6/site-packages/ipykernel_launcher.py:7: UserWarning: all coefficients are zero, consider decreasing alpha.\n",
      "  import sys\n",
      "/root/anaconda2/envs/python3/lib/python3.6/site-packages/ipykernel_launcher.py:7: UserWarning: all coefficients are zero, consider decreasing alpha.\n",
      "  import sys\n",
      "/root/anaconda2/envs/python3/lib/python3.6/site-packages/ipykernel_launcher.py:7: UserWarning: all coefficients are zero, consider decreasing alpha.\n",
      "  import sys\n",
      "/root/anaconda2/envs/python3/lib/python3.6/site-packages/ipykernel_launcher.py:7: UserWarning: all coefficients are zero, consider decreasing alpha.\n",
      "  import sys\n",
      "/root/anaconda2/envs/python3/lib/python3.6/site-packages/ipykernel_launcher.py:7: UserWarning: all coefficients are zero, consider decreasing alpha.\n",
      "  import sys\n",
      "/root/anaconda2/envs/python3/lib/python3.6/site-packages/ipykernel_launcher.py:7: UserWarning: all coefficients are zero, consider decreasing alpha.\n",
      "  import sys\n",
      "/root/anaconda2/envs/python3/lib/python3.6/site-packages/ipykernel_launcher.py:7: UserWarning: all coefficients are zero, consider decreasing alpha.\n",
      "  import sys\n"
     ]
    },
    {
     "name": "stderr",
     "output_type": "stream",
     "text": [
      "/root/anaconda2/envs/python3/lib/python3.6/site-packages/ipykernel_launcher.py:7: UserWarning: all coefficients are zero, consider decreasing alpha.\n",
      "  import sys\n",
      "/root/anaconda2/envs/python3/lib/python3.6/site-packages/ipykernel_launcher.py:7: UserWarning: all coefficients are zero, consider decreasing alpha.\n",
      "  import sys\n",
      "/root/anaconda2/envs/python3/lib/python3.6/site-packages/ipykernel_launcher.py:7: UserWarning: all coefficients are zero, consider decreasing alpha.\n",
      "  import sys\n",
      "/root/anaconda2/envs/python3/lib/python3.6/site-packages/ipykernel_launcher.py:7: UserWarning: all coefficients are zero, consider decreasing alpha.\n",
      "  import sys\n",
      "/root/anaconda2/envs/python3/lib/python3.6/site-packages/ipykernel_launcher.py:7: UserWarning: all coefficients are zero, consider decreasing alpha.\n",
      "  import sys\n",
      "/root/anaconda2/envs/python3/lib/python3.6/site-packages/ipykernel_launcher.py:7: UserWarning: all coefficients are zero, consider decreasing alpha.\n",
      "  import sys\n",
      "/root/anaconda2/envs/python3/lib/python3.6/site-packages/ipykernel_launcher.py:7: UserWarning: all coefficients are zero, consider decreasing alpha.\n",
      "  import sys\n",
      "/root/anaconda2/envs/python3/lib/python3.6/site-packages/ipykernel_launcher.py:7: UserWarning: all coefficients are zero, consider decreasing alpha.\n",
      "  import sys\n",
      "/root/anaconda2/envs/python3/lib/python3.6/site-packages/ipykernel_launcher.py:7: UserWarning: all coefficients are zero, consider decreasing alpha.\n",
      "  import sys\n",
      "/root/anaconda2/envs/python3/lib/python3.6/site-packages/ipykernel_launcher.py:7: UserWarning: all coefficients are zero, consider decreasing alpha.\n",
      "  import sys\n",
      "/root/anaconda2/envs/python3/lib/python3.6/site-packages/ipykernel_launcher.py:7: UserWarning: all coefficients are zero, consider decreasing alpha.\n",
      "  import sys\n",
      "/root/anaconda2/envs/python3/lib/python3.6/site-packages/ipykernel_launcher.py:7: UserWarning: all coefficients are zero, consider decreasing alpha.\n",
      "  import sys\n",
      "/root/anaconda2/envs/python3/lib/python3.6/site-packages/ipykernel_launcher.py:7: UserWarning: all coefficients are zero, consider decreasing alpha.\n",
      "  import sys\n",
      "/root/anaconda2/envs/python3/lib/python3.6/site-packages/ipykernel_launcher.py:7: UserWarning: all coefficients are zero, consider decreasing alpha.\n",
      "  import sys\n",
      "/root/anaconda2/envs/python3/lib/python3.6/site-packages/ipykernel_launcher.py:7: UserWarning: all coefficients are zero, consider decreasing alpha.\n",
      "  import sys\n",
      "/root/anaconda2/envs/python3/lib/python3.6/site-packages/ipykernel_launcher.py:7: UserWarning: all coefficients are zero, consider decreasing alpha.\n",
      "  import sys\n",
      "/root/anaconda2/envs/python3/lib/python3.6/site-packages/ipykernel_launcher.py:7: UserWarning: all coefficients are zero, consider decreasing alpha.\n",
      "  import sys\n",
      "/root/anaconda2/envs/python3/lib/python3.6/site-packages/ipykernel_launcher.py:7: UserWarning: all coefficients are zero, consider decreasing alpha.\n",
      "  import sys\n",
      "/root/anaconda2/envs/python3/lib/python3.6/site-packages/ipykernel_launcher.py:7: UserWarning: all coefficients are zero, consider decreasing alpha.\n",
      "  import sys\n",
      "/root/anaconda2/envs/python3/lib/python3.6/site-packages/ipykernel_launcher.py:7: UserWarning: all coefficients are zero, consider decreasing alpha.\n",
      "  import sys\n",
      "/root/anaconda2/envs/python3/lib/python3.6/site-packages/ipykernel_launcher.py:7: UserWarning: all coefficients are zero, consider decreasing alpha.\n",
      "  import sys\n",
      "/root/anaconda2/envs/python3/lib/python3.6/site-packages/ipykernel_launcher.py:7: UserWarning: all coefficients are zero, consider decreasing alpha.\n",
      "  import sys\n",
      "/root/anaconda2/envs/python3/lib/python3.6/site-packages/ipykernel_launcher.py:7: UserWarning: all coefficients are zero, consider decreasing alpha.\n",
      "  import sys\n",
      "/root/anaconda2/envs/python3/lib/python3.6/site-packages/ipykernel_launcher.py:7: UserWarning: all coefficients are zero, consider decreasing alpha.\n",
      "  import sys\n",
      "/root/anaconda2/envs/python3/lib/python3.6/site-packages/ipykernel_launcher.py:7: UserWarning: all coefficients are zero, consider decreasing alpha.\n",
      "  import sys\n",
      "/root/anaconda2/envs/python3/lib/python3.6/site-packages/ipykernel_launcher.py:7: UserWarning: all coefficients are zero, consider decreasing alpha.\n",
      "  import sys\n",
      "/root/anaconda2/envs/python3/lib/python3.6/site-packages/ipykernel_launcher.py:7: UserWarning: all coefficients are zero, consider decreasing alpha.\n",
      "  import sys\n",
      "/root/anaconda2/envs/python3/lib/python3.6/site-packages/ipykernel_launcher.py:7: UserWarning: all coefficients are zero, consider decreasing alpha.\n",
      "  import sys\n",
      "/root/anaconda2/envs/python3/lib/python3.6/site-packages/ipykernel_launcher.py:7: UserWarning: all coefficients are zero, consider decreasing alpha.\n",
      "  import sys\n",
      "/root/anaconda2/envs/python3/lib/python3.6/site-packages/ipykernel_launcher.py:7: UserWarning: all coefficients are zero, consider decreasing alpha.\n",
      "  import sys\n",
      "/root/anaconda2/envs/python3/lib/python3.6/site-packages/ipykernel_launcher.py:7: UserWarning: all coefficients are zero, consider decreasing alpha.\n",
      "  import sys\n",
      "/root/anaconda2/envs/python3/lib/python3.6/site-packages/ipykernel_launcher.py:7: UserWarning: all coefficients are zero, consider decreasing alpha.\n",
      "  import sys\n",
      "/root/anaconda2/envs/python3/lib/python3.6/site-packages/ipykernel_launcher.py:7: UserWarning: all coefficients are zero, consider decreasing alpha.\n",
      "  import sys\n",
      "/root/anaconda2/envs/python3/lib/python3.6/site-packages/ipykernel_launcher.py:7: UserWarning: all coefficients are zero, consider decreasing alpha.\n",
      "  import sys\n",
      "/root/anaconda2/envs/python3/lib/python3.6/site-packages/ipykernel_launcher.py:7: UserWarning: all coefficients are zero, consider decreasing alpha.\n",
      "  import sys\n",
      "/root/anaconda2/envs/python3/lib/python3.6/site-packages/ipykernel_launcher.py:7: UserWarning: all coefficients are zero, consider decreasing alpha.\n",
      "  import sys\n",
      "/root/anaconda2/envs/python3/lib/python3.6/site-packages/ipykernel_launcher.py:7: UserWarning: all coefficients are zero, consider decreasing alpha.\n",
      "  import sys\n",
      "/root/anaconda2/envs/python3/lib/python3.6/site-packages/ipykernel_launcher.py:7: UserWarning: all coefficients are zero, consider decreasing alpha.\n",
      "  import sys\n",
      "/root/anaconda2/envs/python3/lib/python3.6/site-packages/ipykernel_launcher.py:7: UserWarning: all coefficients are zero, consider decreasing alpha.\n",
      "  import sys\n",
      "/root/anaconda2/envs/python3/lib/python3.6/site-packages/ipykernel_launcher.py:7: UserWarning: all coefficients are zero, consider decreasing alpha.\n",
      "  import sys\n",
      "/root/anaconda2/envs/python3/lib/python3.6/site-packages/ipykernel_launcher.py:7: UserWarning: all coefficients are zero, consider decreasing alpha.\n",
      "  import sys\n",
      "/root/anaconda2/envs/python3/lib/python3.6/site-packages/ipykernel_launcher.py:7: UserWarning: all coefficients are zero, consider decreasing alpha.\n",
      "  import sys\n",
      "/root/anaconda2/envs/python3/lib/python3.6/site-packages/ipykernel_launcher.py:7: UserWarning: all coefficients are zero, consider decreasing alpha.\n",
      "  import sys\n",
      "/root/anaconda2/envs/python3/lib/python3.6/site-packages/ipykernel_launcher.py:7: UserWarning: all coefficients are zero, consider decreasing alpha.\n",
      "  import sys\n",
      "/root/anaconda2/envs/python3/lib/python3.6/site-packages/ipykernel_launcher.py:7: UserWarning: all coefficients are zero, consider decreasing alpha.\n",
      "  import sys\n",
      "/root/anaconda2/envs/python3/lib/python3.6/site-packages/ipykernel_launcher.py:7: UserWarning: all coefficients are zero, consider decreasing alpha.\n",
      "  import sys\n",
      "/root/anaconda2/envs/python3/lib/python3.6/site-packages/ipykernel_launcher.py:7: UserWarning: all coefficients are zero, consider decreasing alpha.\n",
      "  import sys\n",
      "/root/anaconda2/envs/python3/lib/python3.6/site-packages/ipykernel_launcher.py:7: UserWarning: all coefficients are zero, consider decreasing alpha.\n",
      "  import sys\n",
      "/root/anaconda2/envs/python3/lib/python3.6/site-packages/ipykernel_launcher.py:7: UserWarning: all coefficients are zero, consider decreasing alpha.\n",
      "  import sys\n",
      "/root/anaconda2/envs/python3/lib/python3.6/site-packages/ipykernel_launcher.py:7: UserWarning: all coefficients are zero, consider decreasing alpha.\n",
      "  import sys\n",
      "/root/anaconda2/envs/python3/lib/python3.6/site-packages/ipykernel_launcher.py:7: UserWarning: all coefficients are zero, consider decreasing alpha.\n",
      "  import sys\n"
     ]
    },
    {
     "name": "stderr",
     "output_type": "stream",
     "text": [
      "/root/anaconda2/envs/python3/lib/python3.6/site-packages/ipykernel_launcher.py:7: UserWarning: all coefficients are zero, consider decreasing alpha.\n",
      "  import sys\n",
      "/root/anaconda2/envs/python3/lib/python3.6/site-packages/ipykernel_launcher.py:7: UserWarning: all coefficients are zero, consider decreasing alpha.\n",
      "  import sys\n",
      "/root/anaconda2/envs/python3/lib/python3.6/site-packages/ipykernel_launcher.py:7: UserWarning: all coefficients are zero, consider decreasing alpha.\n",
      "  import sys\n",
      "/root/anaconda2/envs/python3/lib/python3.6/site-packages/ipykernel_launcher.py:7: UserWarning: all coefficients are zero, consider decreasing alpha.\n",
      "  import sys\n",
      "/root/anaconda2/envs/python3/lib/python3.6/site-packages/ipykernel_launcher.py:7: UserWarning: all coefficients are zero, consider decreasing alpha.\n",
      "  import sys\n",
      "/root/anaconda2/envs/python3/lib/python3.6/site-packages/ipykernel_launcher.py:7: UserWarning: all coefficients are zero, consider decreasing alpha.\n",
      "  import sys\n",
      "/root/anaconda2/envs/python3/lib/python3.6/site-packages/ipykernel_launcher.py:7: UserWarning: all coefficients are zero, consider decreasing alpha.\n",
      "  import sys\n",
      "/root/anaconda2/envs/python3/lib/python3.6/site-packages/ipykernel_launcher.py:7: UserWarning: all coefficients are zero, consider decreasing alpha.\n",
      "  import sys\n",
      "/root/anaconda2/envs/python3/lib/python3.6/site-packages/ipykernel_launcher.py:7: UserWarning: all coefficients are zero, consider decreasing alpha.\n",
      "  import sys\n",
      "/root/anaconda2/envs/python3/lib/python3.6/site-packages/ipykernel_launcher.py:7: UserWarning: all coefficients are zero, consider decreasing alpha.\n",
      "  import sys\n",
      "/root/anaconda2/envs/python3/lib/python3.6/site-packages/ipykernel_launcher.py:7: UserWarning: all coefficients are zero, consider decreasing alpha.\n",
      "  import sys\n",
      "/root/anaconda2/envs/python3/lib/python3.6/site-packages/ipykernel_launcher.py:7: UserWarning: all coefficients are zero, consider decreasing alpha.\n",
      "  import sys\n",
      "/root/anaconda2/envs/python3/lib/python3.6/site-packages/ipykernel_launcher.py:7: UserWarning: all coefficients are zero, consider decreasing alpha.\n",
      "  import sys\n",
      "/root/anaconda2/envs/python3/lib/python3.6/site-packages/ipykernel_launcher.py:7: UserWarning: all coefficients are zero, consider decreasing alpha.\n",
      "  import sys\n",
      "/root/anaconda2/envs/python3/lib/python3.6/site-packages/ipykernel_launcher.py:7: UserWarning: all coefficients are zero, consider decreasing alpha.\n",
      "  import sys\n",
      "/root/anaconda2/envs/python3/lib/python3.6/site-packages/ipykernel_launcher.py:7: UserWarning: all coefficients are zero, consider decreasing alpha.\n",
      "  import sys\n",
      "/root/anaconda2/envs/python3/lib/python3.6/site-packages/ipykernel_launcher.py:7: UserWarning: all coefficients are zero, consider decreasing alpha.\n",
      "  import sys\n",
      "/root/anaconda2/envs/python3/lib/python3.6/site-packages/ipykernel_launcher.py:7: UserWarning: all coefficients are zero, consider decreasing alpha.\n",
      "  import sys\n",
      "/root/anaconda2/envs/python3/lib/python3.6/site-packages/ipykernel_launcher.py:7: UserWarning: all coefficients are zero, consider decreasing alpha.\n",
      "  import sys\n",
      "/root/anaconda2/envs/python3/lib/python3.6/site-packages/ipykernel_launcher.py:7: UserWarning: all coefficients are zero, consider decreasing alpha.\n",
      "  import sys\n",
      "/root/anaconda2/envs/python3/lib/python3.6/site-packages/ipykernel_launcher.py:7: UserWarning: all coefficients are zero, consider decreasing alpha.\n",
      "  import sys\n",
      "/root/anaconda2/envs/python3/lib/python3.6/site-packages/ipykernel_launcher.py:7: UserWarning: all coefficients are zero, consider decreasing alpha.\n",
      "  import sys\n",
      "/root/anaconda2/envs/python3/lib/python3.6/site-packages/ipykernel_launcher.py:7: UserWarning: all coefficients are zero, consider decreasing alpha.\n",
      "  import sys\n",
      "/root/anaconda2/envs/python3/lib/python3.6/site-packages/ipykernel_launcher.py:7: UserWarning: all coefficients are zero, consider decreasing alpha.\n",
      "  import sys\n",
      "/root/anaconda2/envs/python3/lib/python3.6/site-packages/ipykernel_launcher.py:7: UserWarning: all coefficients are zero, consider decreasing alpha.\n",
      "  import sys\n",
      "/root/anaconda2/envs/python3/lib/python3.6/site-packages/ipykernel_launcher.py:7: UserWarning: all coefficients are zero, consider decreasing alpha.\n",
      "  import sys\n",
      "/root/anaconda2/envs/python3/lib/python3.6/site-packages/ipykernel_launcher.py:7: UserWarning: all coefficients are zero, consider decreasing alpha.\n",
      "  import sys\n",
      "/root/anaconda2/envs/python3/lib/python3.6/site-packages/ipykernel_launcher.py:7: UserWarning: all coefficients are zero, consider decreasing alpha.\n",
      "  import sys\n",
      "/root/anaconda2/envs/python3/lib/python3.6/site-packages/ipykernel_launcher.py:7: UserWarning: all coefficients are zero, consider decreasing alpha.\n",
      "  import sys\n",
      "/root/anaconda2/envs/python3/lib/python3.6/site-packages/ipykernel_launcher.py:7: UserWarning: all coefficients are zero, consider decreasing alpha.\n",
      "  import sys\n",
      "/root/anaconda2/envs/python3/lib/python3.6/site-packages/ipykernel_launcher.py:7: UserWarning: all coefficients are zero, consider decreasing alpha.\n",
      "  import sys\n",
      "/root/anaconda2/envs/python3/lib/python3.6/site-packages/ipykernel_launcher.py:7: UserWarning: all coefficients are zero, consider decreasing alpha.\n",
      "  import sys\n",
      "/root/anaconda2/envs/python3/lib/python3.6/site-packages/ipykernel_launcher.py:7: UserWarning: all coefficients are zero, consider decreasing alpha.\n",
      "  import sys\n",
      "/root/anaconda2/envs/python3/lib/python3.6/site-packages/ipykernel_launcher.py:7: UserWarning: all coefficients are zero, consider decreasing alpha.\n",
      "  import sys\n",
      "/root/anaconda2/envs/python3/lib/python3.6/site-packages/ipykernel_launcher.py:7: UserWarning: all coefficients are zero, consider decreasing alpha.\n",
      "  import sys\n",
      "/root/anaconda2/envs/python3/lib/python3.6/site-packages/ipykernel_launcher.py:7: UserWarning: all coefficients are zero, consider decreasing alpha.\n",
      "  import sys\n",
      "/root/anaconda2/envs/python3/lib/python3.6/site-packages/ipykernel_launcher.py:7: UserWarning: all coefficients are zero, consider decreasing alpha.\n",
      "  import sys\n",
      "/root/anaconda2/envs/python3/lib/python3.6/site-packages/ipykernel_launcher.py:7: UserWarning: all coefficients are zero, consider decreasing alpha.\n",
      "  import sys\n",
      "/root/anaconda2/envs/python3/lib/python3.6/site-packages/ipykernel_launcher.py:7: UserWarning: all coefficients are zero, consider decreasing alpha.\n",
      "  import sys\n",
      "/root/anaconda2/envs/python3/lib/python3.6/site-packages/ipykernel_launcher.py:7: UserWarning: all coefficients are zero, consider decreasing alpha.\n",
      "  import sys\n",
      "/root/anaconda2/envs/python3/lib/python3.6/site-packages/ipykernel_launcher.py:7: UserWarning: all coefficients are zero, consider decreasing alpha.\n",
      "  import sys\n",
      "/root/anaconda2/envs/python3/lib/python3.6/site-packages/ipykernel_launcher.py:7: UserWarning: all coefficients are zero, consider decreasing alpha.\n",
      "  import sys\n",
      "/root/anaconda2/envs/python3/lib/python3.6/site-packages/ipykernel_launcher.py:7: UserWarning: all coefficients are zero, consider decreasing alpha.\n",
      "  import sys\n",
      "/root/anaconda2/envs/python3/lib/python3.6/site-packages/ipykernel_launcher.py:7: UserWarning: all coefficients are zero, consider decreasing alpha.\n",
      "  import sys\n",
      "/root/anaconda2/envs/python3/lib/python3.6/site-packages/ipykernel_launcher.py:7: UserWarning: all coefficients are zero, consider decreasing alpha.\n",
      "  import sys\n",
      "/root/anaconda2/envs/python3/lib/python3.6/site-packages/ipykernel_launcher.py:7: UserWarning: all coefficients are zero, consider decreasing alpha.\n",
      "  import sys\n",
      "/root/anaconda2/envs/python3/lib/python3.6/site-packages/ipykernel_launcher.py:7: UserWarning: all coefficients are zero, consider decreasing alpha.\n",
      "  import sys\n",
      "/root/anaconda2/envs/python3/lib/python3.6/site-packages/ipykernel_launcher.py:7: UserWarning: all coefficients are zero, consider decreasing alpha.\n",
      "  import sys\n",
      "/root/anaconda2/envs/python3/lib/python3.6/site-packages/ipykernel_launcher.py:7: UserWarning: all coefficients are zero, consider decreasing alpha.\n",
      "  import sys\n",
      "/root/anaconda2/envs/python3/lib/python3.6/site-packages/ipykernel_launcher.py:7: UserWarning: all coefficients are zero, consider decreasing alpha.\n",
      "  import sys\n",
      "/root/anaconda2/envs/python3/lib/python3.6/site-packages/ipykernel_launcher.py:7: UserWarning: all coefficients are zero, consider decreasing alpha.\n",
      "  import sys\n"
     ]
    },
    {
     "name": "stderr",
     "output_type": "stream",
     "text": [
      "/root/anaconda2/envs/python3/lib/python3.6/site-packages/ipykernel_launcher.py:7: UserWarning: all coefficients are zero, consider decreasing alpha.\n",
      "  import sys\n",
      "/root/anaconda2/envs/python3/lib/python3.6/site-packages/ipykernel_launcher.py:7: UserWarning: all coefficients are zero, consider decreasing alpha.\n",
      "  import sys\n",
      "/root/anaconda2/envs/python3/lib/python3.6/site-packages/ipykernel_launcher.py:7: UserWarning: all coefficients are zero, consider decreasing alpha.\n",
      "  import sys\n",
      "/root/anaconda2/envs/python3/lib/python3.6/site-packages/ipykernel_launcher.py:7: UserWarning: all coefficients are zero, consider decreasing alpha.\n",
      "  import sys\n",
      "/root/anaconda2/envs/python3/lib/python3.6/site-packages/ipykernel_launcher.py:7: UserWarning: all coefficients are zero, consider decreasing alpha.\n",
      "  import sys\n",
      "/root/anaconda2/envs/python3/lib/python3.6/site-packages/ipykernel_launcher.py:7: UserWarning: all coefficients are zero, consider decreasing alpha.\n",
      "  import sys\n",
      "/root/anaconda2/envs/python3/lib/python3.6/site-packages/ipykernel_launcher.py:7: UserWarning: all coefficients are zero, consider decreasing alpha.\n",
      "  import sys\n",
      "/root/anaconda2/envs/python3/lib/python3.6/site-packages/ipykernel_launcher.py:7: UserWarning: all coefficients are zero, consider decreasing alpha.\n",
      "  import sys\n",
      "/root/anaconda2/envs/python3/lib/python3.6/site-packages/ipykernel_launcher.py:7: UserWarning: all coefficients are zero, consider decreasing alpha.\n",
      "  import sys\n",
      "/root/anaconda2/envs/python3/lib/python3.6/site-packages/ipykernel_launcher.py:7: UserWarning: all coefficients are zero, consider decreasing alpha.\n",
      "  import sys\n",
      "/root/anaconda2/envs/python3/lib/python3.6/site-packages/ipykernel_launcher.py:7: UserWarning: all coefficients are zero, consider decreasing alpha.\n",
      "  import sys\n",
      "/root/anaconda2/envs/python3/lib/python3.6/site-packages/ipykernel_launcher.py:7: UserWarning: all coefficients are zero, consider decreasing alpha.\n",
      "  import sys\n",
      "/root/anaconda2/envs/python3/lib/python3.6/site-packages/ipykernel_launcher.py:7: UserWarning: all coefficients are zero, consider decreasing alpha.\n",
      "  import sys\n",
      "/root/anaconda2/envs/python3/lib/python3.6/site-packages/ipykernel_launcher.py:7: UserWarning: all coefficients are zero, consider decreasing alpha.\n",
      "  import sys\n",
      "/root/anaconda2/envs/python3/lib/python3.6/site-packages/ipykernel_launcher.py:7: UserWarning: all coefficients are zero, consider decreasing alpha.\n",
      "  import sys\n",
      "/root/anaconda2/envs/python3/lib/python3.6/site-packages/ipykernel_launcher.py:7: UserWarning: all coefficients are zero, consider decreasing alpha.\n",
      "  import sys\n",
      "/root/anaconda2/envs/python3/lib/python3.6/site-packages/ipykernel_launcher.py:7: UserWarning: all coefficients are zero, consider decreasing alpha.\n",
      "  import sys\n",
      "/root/anaconda2/envs/python3/lib/python3.6/site-packages/ipykernel_launcher.py:7: UserWarning: all coefficients are zero, consider decreasing alpha.\n",
      "  import sys\n",
      "/root/anaconda2/envs/python3/lib/python3.6/site-packages/ipykernel_launcher.py:7: UserWarning: all coefficients are zero, consider decreasing alpha.\n",
      "  import sys\n",
      "/root/anaconda2/envs/python3/lib/python3.6/site-packages/ipykernel_launcher.py:7: UserWarning: all coefficients are zero, consider decreasing alpha.\n",
      "  import sys\n",
      "/root/anaconda2/envs/python3/lib/python3.6/site-packages/ipykernel_launcher.py:7: UserWarning: all coefficients are zero, consider decreasing alpha.\n",
      "  import sys\n",
      "/root/anaconda2/envs/python3/lib/python3.6/site-packages/ipykernel_launcher.py:7: UserWarning: all coefficients are zero, consider decreasing alpha.\n",
      "  import sys\n",
      "/root/anaconda2/envs/python3/lib/python3.6/site-packages/ipykernel_launcher.py:7: UserWarning: all coefficients are zero, consider decreasing alpha.\n",
      "  import sys\n",
      "/root/anaconda2/envs/python3/lib/python3.6/site-packages/ipykernel_launcher.py:7: UserWarning: all coefficients are zero, consider decreasing alpha.\n",
      "  import sys\n",
      "/root/anaconda2/envs/python3/lib/python3.6/site-packages/ipykernel_launcher.py:7: UserWarning: all coefficients are zero, consider decreasing alpha.\n",
      "  import sys\n",
      "/root/anaconda2/envs/python3/lib/python3.6/site-packages/ipykernel_launcher.py:7: UserWarning: all coefficients are zero, consider decreasing alpha.\n",
      "  import sys\n",
      "/root/anaconda2/envs/python3/lib/python3.6/site-packages/ipykernel_launcher.py:7: UserWarning: all coefficients are zero, consider decreasing alpha.\n",
      "  import sys\n",
      "/root/anaconda2/envs/python3/lib/python3.6/site-packages/ipykernel_launcher.py:7: UserWarning: all coefficients are zero, consider decreasing alpha.\n",
      "  import sys\n",
      "/root/anaconda2/envs/python3/lib/python3.6/site-packages/ipykernel_launcher.py:7: UserWarning: all coefficients are zero, consider decreasing alpha.\n",
      "  import sys\n",
      "/root/anaconda2/envs/python3/lib/python3.6/site-packages/ipykernel_launcher.py:7: UserWarning: all coefficients are zero, consider decreasing alpha.\n",
      "  import sys\n",
      "/root/anaconda2/envs/python3/lib/python3.6/site-packages/ipykernel_launcher.py:7: UserWarning: all coefficients are zero, consider decreasing alpha.\n",
      "  import sys\n",
      "/root/anaconda2/envs/python3/lib/python3.6/site-packages/ipykernel_launcher.py:7: UserWarning: all coefficients are zero, consider decreasing alpha.\n",
      "  import sys\n",
      "/root/anaconda2/envs/python3/lib/python3.6/site-packages/ipykernel_launcher.py:7: UserWarning: all coefficients are zero, consider decreasing alpha.\n",
      "  import sys\n",
      "/root/anaconda2/envs/python3/lib/python3.6/site-packages/ipykernel_launcher.py:7: UserWarning: all coefficients are zero, consider decreasing alpha.\n",
      "  import sys\n",
      "/root/anaconda2/envs/python3/lib/python3.6/site-packages/ipykernel_launcher.py:7: UserWarning: all coefficients are zero, consider decreasing alpha.\n",
      "  import sys\n",
      "/root/anaconda2/envs/python3/lib/python3.6/site-packages/ipykernel_launcher.py:7: UserWarning: all coefficients are zero, consider decreasing alpha.\n",
      "  import sys\n",
      "/root/anaconda2/envs/python3/lib/python3.6/site-packages/ipykernel_launcher.py:7: UserWarning: all coefficients are zero, consider decreasing alpha.\n",
      "  import sys\n",
      "/root/anaconda2/envs/python3/lib/python3.6/site-packages/ipykernel_launcher.py:7: UserWarning: all coefficients are zero, consider decreasing alpha.\n",
      "  import sys\n",
      "/root/anaconda2/envs/python3/lib/python3.6/site-packages/ipykernel_launcher.py:7: UserWarning: all coefficients are zero, consider decreasing alpha.\n",
      "  import sys\n",
      "/root/anaconda2/envs/python3/lib/python3.6/site-packages/ipykernel_launcher.py:7: UserWarning: all coefficients are zero, consider decreasing alpha.\n",
      "  import sys\n",
      "/root/anaconda2/envs/python3/lib/python3.6/site-packages/ipykernel_launcher.py:7: UserWarning: all coefficients are zero, consider decreasing alpha.\n",
      "  import sys\n",
      "/root/anaconda2/envs/python3/lib/python3.6/site-packages/ipykernel_launcher.py:7: UserWarning: all coefficients are zero, consider decreasing alpha.\n",
      "  import sys\n",
      "/root/anaconda2/envs/python3/lib/python3.6/site-packages/ipykernel_launcher.py:7: UserWarning: all coefficients are zero, consider decreasing alpha.\n",
      "  import sys\n",
      "/root/anaconda2/envs/python3/lib/python3.6/site-packages/ipykernel_launcher.py:7: UserWarning: all coefficients are zero, consider decreasing alpha.\n",
      "  import sys\n",
      "/root/anaconda2/envs/python3/lib/python3.6/site-packages/ipykernel_launcher.py:7: UserWarning: all coefficients are zero, consider decreasing alpha.\n",
      "  import sys\n",
      "/root/anaconda2/envs/python3/lib/python3.6/site-packages/ipykernel_launcher.py:7: UserWarning: all coefficients are zero, consider decreasing alpha.\n",
      "  import sys\n",
      "/root/anaconda2/envs/python3/lib/python3.6/site-packages/ipykernel_launcher.py:7: UserWarning: all coefficients are zero, consider decreasing alpha.\n",
      "  import sys\n",
      "/root/anaconda2/envs/python3/lib/python3.6/site-packages/ipykernel_launcher.py:7: UserWarning: all coefficients are zero, consider decreasing alpha.\n",
      "  import sys\n",
      "/root/anaconda2/envs/python3/lib/python3.6/site-packages/ipykernel_launcher.py:7: UserWarning: all coefficients are zero, consider decreasing alpha.\n",
      "  import sys\n",
      "/root/anaconda2/envs/python3/lib/python3.6/site-packages/ipykernel_launcher.py:7: UserWarning: all coefficients are zero, consider decreasing alpha.\n",
      "  import sys\n",
      "/root/anaconda2/envs/python3/lib/python3.6/site-packages/ipykernel_launcher.py:7: UserWarning: all coefficients are zero, consider decreasing alpha.\n",
      "  import sys\n"
     ]
    },
    {
     "name": "stderr",
     "output_type": "stream",
     "text": [
      "/root/anaconda2/envs/python3/lib/python3.6/site-packages/ipykernel_launcher.py:7: UserWarning: all coefficients are zero, consider decreasing alpha.\n",
      "  import sys\n",
      "/root/anaconda2/envs/python3/lib/python3.6/site-packages/ipykernel_launcher.py:7: UserWarning: all coefficients are zero, consider decreasing alpha.\n",
      "  import sys\n",
      "/root/anaconda2/envs/python3/lib/python3.6/site-packages/ipykernel_launcher.py:7: UserWarning: all coefficients are zero, consider decreasing alpha.\n",
      "  import sys\n",
      "/root/anaconda2/envs/python3/lib/python3.6/site-packages/ipykernel_launcher.py:7: UserWarning: all coefficients are zero, consider decreasing alpha.\n",
      "  import sys\n",
      "/root/anaconda2/envs/python3/lib/python3.6/site-packages/ipykernel_launcher.py:7: UserWarning: all coefficients are zero, consider decreasing alpha.\n",
      "  import sys\n",
      "/root/anaconda2/envs/python3/lib/python3.6/site-packages/ipykernel_launcher.py:7: UserWarning: all coefficients are zero, consider decreasing alpha.\n",
      "  import sys\n",
      "/root/anaconda2/envs/python3/lib/python3.6/site-packages/ipykernel_launcher.py:7: UserWarning: all coefficients are zero, consider decreasing alpha.\n",
      "  import sys\n",
      "/root/anaconda2/envs/python3/lib/python3.6/site-packages/ipykernel_launcher.py:7: UserWarning: all coefficients are zero, consider decreasing alpha.\n",
      "  import sys\n",
      "/root/anaconda2/envs/python3/lib/python3.6/site-packages/ipykernel_launcher.py:7: UserWarning: all coefficients are zero, consider decreasing alpha.\n",
      "  import sys\n",
      "/root/anaconda2/envs/python3/lib/python3.6/site-packages/ipykernel_launcher.py:7: UserWarning: all coefficients are zero, consider decreasing alpha.\n",
      "  import sys\n",
      "/root/anaconda2/envs/python3/lib/python3.6/site-packages/ipykernel_launcher.py:7: UserWarning: all coefficients are zero, consider decreasing alpha.\n",
      "  import sys\n",
      "/root/anaconda2/envs/python3/lib/python3.6/site-packages/ipykernel_launcher.py:7: UserWarning: all coefficients are zero, consider decreasing alpha.\n",
      "  import sys\n",
      "/root/anaconda2/envs/python3/lib/python3.6/site-packages/ipykernel_launcher.py:7: UserWarning: all coefficients are zero, consider decreasing alpha.\n",
      "  import sys\n",
      "/root/anaconda2/envs/python3/lib/python3.6/site-packages/ipykernel_launcher.py:7: UserWarning: all coefficients are zero, consider decreasing alpha.\n",
      "  import sys\n",
      "/root/anaconda2/envs/python3/lib/python3.6/site-packages/ipykernel_launcher.py:7: UserWarning: all coefficients are zero, consider decreasing alpha.\n",
      "  import sys\n",
      "/root/anaconda2/envs/python3/lib/python3.6/site-packages/ipykernel_launcher.py:7: UserWarning: all coefficients are zero, consider decreasing alpha.\n",
      "  import sys\n",
      "/root/anaconda2/envs/python3/lib/python3.6/site-packages/ipykernel_launcher.py:7: UserWarning: all coefficients are zero, consider decreasing alpha.\n",
      "  import sys\n",
      "/root/anaconda2/envs/python3/lib/python3.6/site-packages/ipykernel_launcher.py:7: UserWarning: all coefficients are zero, consider decreasing alpha.\n",
      "  import sys\n",
      "/root/anaconda2/envs/python3/lib/python3.6/site-packages/ipykernel_launcher.py:7: UserWarning: all coefficients are zero, consider decreasing alpha.\n",
      "  import sys\n",
      "/root/anaconda2/envs/python3/lib/python3.6/site-packages/ipykernel_launcher.py:7: UserWarning: all coefficients are zero, consider decreasing alpha.\n",
      "  import sys\n",
      "/root/anaconda2/envs/python3/lib/python3.6/site-packages/ipykernel_launcher.py:7: UserWarning: all coefficients are zero, consider decreasing alpha.\n",
      "  import sys\n",
      "/root/anaconda2/envs/python3/lib/python3.6/site-packages/ipykernel_launcher.py:7: UserWarning: all coefficients are zero, consider decreasing alpha.\n",
      "  import sys\n",
      "/root/anaconda2/envs/python3/lib/python3.6/site-packages/ipykernel_launcher.py:7: UserWarning: all coefficients are zero, consider decreasing alpha.\n",
      "  import sys\n",
      "/root/anaconda2/envs/python3/lib/python3.6/site-packages/ipykernel_launcher.py:7: UserWarning: all coefficients are zero, consider decreasing alpha.\n",
      "  import sys\n",
      "/root/anaconda2/envs/python3/lib/python3.6/site-packages/ipykernel_launcher.py:7: UserWarning: all coefficients are zero, consider decreasing alpha.\n",
      "  import sys\n",
      "/root/anaconda2/envs/python3/lib/python3.6/site-packages/ipykernel_launcher.py:7: UserWarning: all coefficients are zero, consider decreasing alpha.\n",
      "  import sys\n",
      "/root/anaconda2/envs/python3/lib/python3.6/site-packages/ipykernel_launcher.py:7: UserWarning: all coefficients are zero, consider decreasing alpha.\n",
      "  import sys\n",
      "/root/anaconda2/envs/python3/lib/python3.6/site-packages/ipykernel_launcher.py:7: UserWarning: all coefficients are zero, consider decreasing alpha.\n",
      "  import sys\n",
      "/root/anaconda2/envs/python3/lib/python3.6/site-packages/ipykernel_launcher.py:7: UserWarning: all coefficients are zero, consider decreasing alpha.\n",
      "  import sys\n",
      "/root/anaconda2/envs/python3/lib/python3.6/site-packages/ipykernel_launcher.py:7: UserWarning: all coefficients are zero, consider decreasing alpha.\n",
      "  import sys\n",
      "/root/anaconda2/envs/python3/lib/python3.6/site-packages/ipykernel_launcher.py:7: UserWarning: all coefficients are zero, consider decreasing alpha.\n",
      "  import sys\n",
      "/root/anaconda2/envs/python3/lib/python3.6/site-packages/ipykernel_launcher.py:7: UserWarning: all coefficients are zero, consider decreasing alpha.\n",
      "  import sys\n",
      "/root/anaconda2/envs/python3/lib/python3.6/site-packages/ipykernel_launcher.py:7: UserWarning: all coefficients are zero, consider decreasing alpha.\n",
      "  import sys\n",
      "/root/anaconda2/envs/python3/lib/python3.6/site-packages/ipykernel_launcher.py:7: UserWarning: all coefficients are zero, consider decreasing alpha.\n",
      "  import sys\n",
      "/root/anaconda2/envs/python3/lib/python3.6/site-packages/ipykernel_launcher.py:7: UserWarning: all coefficients are zero, consider decreasing alpha.\n",
      "  import sys\n",
      "/root/anaconda2/envs/python3/lib/python3.6/site-packages/ipykernel_launcher.py:7: UserWarning: all coefficients are zero, consider decreasing alpha.\n",
      "  import sys\n",
      "/root/anaconda2/envs/python3/lib/python3.6/site-packages/ipykernel_launcher.py:7: UserWarning: all coefficients are zero, consider decreasing alpha.\n",
      "  import sys\n",
      "/root/anaconda2/envs/python3/lib/python3.6/site-packages/ipykernel_launcher.py:7: UserWarning: all coefficients are zero, consider decreasing alpha.\n",
      "  import sys\n",
      "/root/anaconda2/envs/python3/lib/python3.6/site-packages/ipykernel_launcher.py:7: UserWarning: all coefficients are zero, consider decreasing alpha.\n",
      "  import sys\n",
      "/root/anaconda2/envs/python3/lib/python3.6/site-packages/ipykernel_launcher.py:7: UserWarning: all coefficients are zero, consider decreasing alpha.\n",
      "  import sys\n",
      "/root/anaconda2/envs/python3/lib/python3.6/site-packages/ipykernel_launcher.py:7: UserWarning: all coefficients are zero, consider decreasing alpha.\n",
      "  import sys\n",
      "/root/anaconda2/envs/python3/lib/python3.6/site-packages/ipykernel_launcher.py:7: UserWarning: all coefficients are zero, consider decreasing alpha.\n",
      "  import sys\n",
      "/root/anaconda2/envs/python3/lib/python3.6/site-packages/ipykernel_launcher.py:7: UserWarning: all coefficients are zero, consider decreasing alpha.\n",
      "  import sys\n",
      "/root/anaconda2/envs/python3/lib/python3.6/site-packages/ipykernel_launcher.py:7: UserWarning: all coefficients are zero, consider decreasing alpha.\n",
      "  import sys\n",
      "/root/anaconda2/envs/python3/lib/python3.6/site-packages/ipykernel_launcher.py:7: UserWarning: all coefficients are zero, consider decreasing alpha.\n",
      "  import sys\n",
      "/root/anaconda2/envs/python3/lib/python3.6/site-packages/ipykernel_launcher.py:7: UserWarning: all coefficients are zero, consider decreasing alpha.\n",
      "  import sys\n",
      "/root/anaconda2/envs/python3/lib/python3.6/site-packages/ipykernel_launcher.py:7: UserWarning: all coefficients are zero, consider decreasing alpha.\n",
      "  import sys\n",
      "/root/anaconda2/envs/python3/lib/python3.6/site-packages/ipykernel_launcher.py:7: UserWarning: all coefficients are zero, consider decreasing alpha.\n",
      "  import sys\n",
      "/root/anaconda2/envs/python3/lib/python3.6/site-packages/ipykernel_launcher.py:7: UserWarning: all coefficients are zero, consider decreasing alpha.\n",
      "  import sys\n",
      "/root/anaconda2/envs/python3/lib/python3.6/site-packages/ipykernel_launcher.py:7: UserWarning: all coefficients are zero, consider decreasing alpha.\n",
      "  import sys\n",
      "/root/anaconda2/envs/python3/lib/python3.6/site-packages/ipykernel_launcher.py:7: UserWarning: all coefficients are zero, consider decreasing alpha.\n",
      "  import sys\n"
     ]
    },
    {
     "name": "stderr",
     "output_type": "stream",
     "text": [
      "/root/anaconda2/envs/python3/lib/python3.6/site-packages/ipykernel_launcher.py:7: UserWarning: all coefficients are zero, consider decreasing alpha.\n",
      "  import sys\n",
      "/root/anaconda2/envs/python3/lib/python3.6/site-packages/ipykernel_launcher.py:7: UserWarning: all coefficients are zero, consider decreasing alpha.\n",
      "  import sys\n",
      "/root/anaconda2/envs/python3/lib/python3.6/site-packages/ipykernel_launcher.py:7: UserWarning: all coefficients are zero, consider decreasing alpha.\n",
      "  import sys\n",
      "/root/anaconda2/envs/python3/lib/python3.6/site-packages/ipykernel_launcher.py:7: UserWarning: all coefficients are zero, consider decreasing alpha.\n",
      "  import sys\n",
      "/root/anaconda2/envs/python3/lib/python3.6/site-packages/ipykernel_launcher.py:7: UserWarning: all coefficients are zero, consider decreasing alpha.\n",
      "  import sys\n",
      "/root/anaconda2/envs/python3/lib/python3.6/site-packages/ipykernel_launcher.py:7: UserWarning: all coefficients are zero, consider decreasing alpha.\n",
      "  import sys\n",
      "/root/anaconda2/envs/python3/lib/python3.6/site-packages/ipykernel_launcher.py:7: UserWarning: all coefficients are zero, consider decreasing alpha.\n",
      "  import sys\n",
      "/root/anaconda2/envs/python3/lib/python3.6/site-packages/ipykernel_launcher.py:7: UserWarning: all coefficients are zero, consider decreasing alpha.\n",
      "  import sys\n",
      "/root/anaconda2/envs/python3/lib/python3.6/site-packages/ipykernel_launcher.py:7: UserWarning: all coefficients are zero, consider decreasing alpha.\n",
      "  import sys\n",
      "/root/anaconda2/envs/python3/lib/python3.6/site-packages/ipykernel_launcher.py:7: UserWarning: all coefficients are zero, consider decreasing alpha.\n",
      "  import sys\n",
      "/root/anaconda2/envs/python3/lib/python3.6/site-packages/ipykernel_launcher.py:7: UserWarning: all coefficients are zero, consider decreasing alpha.\n",
      "  import sys\n",
      "/root/anaconda2/envs/python3/lib/python3.6/site-packages/ipykernel_launcher.py:7: UserWarning: all coefficients are zero, consider decreasing alpha.\n",
      "  import sys\n",
      "/root/anaconda2/envs/python3/lib/python3.6/site-packages/ipykernel_launcher.py:7: UserWarning: all coefficients are zero, consider decreasing alpha.\n",
      "  import sys\n",
      "/root/anaconda2/envs/python3/lib/python3.6/site-packages/ipykernel_launcher.py:7: UserWarning: all coefficients are zero, consider decreasing alpha.\n",
      "  import sys\n",
      "/root/anaconda2/envs/python3/lib/python3.6/site-packages/ipykernel_launcher.py:7: UserWarning: all coefficients are zero, consider decreasing alpha.\n",
      "  import sys\n",
      "/root/anaconda2/envs/python3/lib/python3.6/site-packages/ipykernel_launcher.py:7: UserWarning: all coefficients are zero, consider decreasing alpha.\n",
      "  import sys\n",
      "/root/anaconda2/envs/python3/lib/python3.6/site-packages/ipykernel_launcher.py:7: UserWarning: all coefficients are zero, consider decreasing alpha.\n",
      "  import sys\n",
      "/root/anaconda2/envs/python3/lib/python3.6/site-packages/ipykernel_launcher.py:7: UserWarning: all coefficients are zero, consider decreasing alpha.\n",
      "  import sys\n",
      "/root/anaconda2/envs/python3/lib/python3.6/site-packages/ipykernel_launcher.py:7: UserWarning: all coefficients are zero, consider decreasing alpha.\n",
      "  import sys\n",
      "/root/anaconda2/envs/python3/lib/python3.6/site-packages/ipykernel_launcher.py:7: UserWarning: all coefficients are zero, consider decreasing alpha.\n",
      "  import sys\n",
      "/root/anaconda2/envs/python3/lib/python3.6/site-packages/ipykernel_launcher.py:7: UserWarning: all coefficients are zero, consider decreasing alpha.\n",
      "  import sys\n",
      "/root/anaconda2/envs/python3/lib/python3.6/site-packages/ipykernel_launcher.py:7: UserWarning: all coefficients are zero, consider decreasing alpha.\n",
      "  import sys\n",
      "/root/anaconda2/envs/python3/lib/python3.6/site-packages/ipykernel_launcher.py:7: UserWarning: all coefficients are zero, consider decreasing alpha.\n",
      "  import sys\n",
      "/root/anaconda2/envs/python3/lib/python3.6/site-packages/ipykernel_launcher.py:7: UserWarning: all coefficients are zero, consider decreasing alpha.\n",
      "  import sys\n",
      "/root/anaconda2/envs/python3/lib/python3.6/site-packages/ipykernel_launcher.py:7: UserWarning: all coefficients are zero, consider decreasing alpha.\n",
      "  import sys\n",
      "/root/anaconda2/envs/python3/lib/python3.6/site-packages/ipykernel_launcher.py:7: UserWarning: all coefficients are zero, consider decreasing alpha.\n",
      "  import sys\n",
      "/root/anaconda2/envs/python3/lib/python3.6/site-packages/ipykernel_launcher.py:7: UserWarning: all coefficients are zero, consider decreasing alpha.\n",
      "  import sys\n",
      "/root/anaconda2/envs/python3/lib/python3.6/site-packages/ipykernel_launcher.py:7: UserWarning: all coefficients are zero, consider decreasing alpha.\n",
      "  import sys\n",
      "/root/anaconda2/envs/python3/lib/python3.6/site-packages/ipykernel_launcher.py:7: UserWarning: all coefficients are zero, consider decreasing alpha.\n",
      "  import sys\n",
      "/root/anaconda2/envs/python3/lib/python3.6/site-packages/ipykernel_launcher.py:7: UserWarning: all coefficients are zero, consider decreasing alpha.\n",
      "  import sys\n",
      "/root/anaconda2/envs/python3/lib/python3.6/site-packages/ipykernel_launcher.py:7: UserWarning: all coefficients are zero, consider decreasing alpha.\n",
      "  import sys\n",
      "/root/anaconda2/envs/python3/lib/python3.6/site-packages/ipykernel_launcher.py:7: UserWarning: all coefficients are zero, consider decreasing alpha.\n",
      "  import sys\n",
      "/root/anaconda2/envs/python3/lib/python3.6/site-packages/ipykernel_launcher.py:7: UserWarning: all coefficients are zero, consider decreasing alpha.\n",
      "  import sys\n",
      "/root/anaconda2/envs/python3/lib/python3.6/site-packages/ipykernel_launcher.py:7: UserWarning: all coefficients are zero, consider decreasing alpha.\n",
      "  import sys\n",
      "/root/anaconda2/envs/python3/lib/python3.6/site-packages/ipykernel_launcher.py:7: UserWarning: all coefficients are zero, consider decreasing alpha.\n",
      "  import sys\n",
      "/root/anaconda2/envs/python3/lib/python3.6/site-packages/ipykernel_launcher.py:7: UserWarning: all coefficients are zero, consider decreasing alpha.\n",
      "  import sys\n",
      "/root/anaconda2/envs/python3/lib/python3.6/site-packages/ipykernel_launcher.py:7: UserWarning: all coefficients are zero, consider decreasing alpha.\n",
      "  import sys\n",
      "/root/anaconda2/envs/python3/lib/python3.6/site-packages/ipykernel_launcher.py:7: UserWarning: all coefficients are zero, consider decreasing alpha.\n",
      "  import sys\n",
      "/root/anaconda2/envs/python3/lib/python3.6/site-packages/ipykernel_launcher.py:7: UserWarning: all coefficients are zero, consider decreasing alpha.\n",
      "  import sys\n",
      "/root/anaconda2/envs/python3/lib/python3.6/site-packages/ipykernel_launcher.py:7: UserWarning: all coefficients are zero, consider decreasing alpha.\n",
      "  import sys\n",
      "/root/anaconda2/envs/python3/lib/python3.6/site-packages/ipykernel_launcher.py:7: UserWarning: all coefficients are zero, consider decreasing alpha.\n",
      "  import sys\n",
      "/root/anaconda2/envs/python3/lib/python3.6/site-packages/ipykernel_launcher.py:7: UserWarning: all coefficients are zero, consider decreasing alpha.\n",
      "  import sys\n",
      "/root/anaconda2/envs/python3/lib/python3.6/site-packages/ipykernel_launcher.py:7: UserWarning: all coefficients are zero, consider decreasing alpha.\n",
      "  import sys\n",
      "/root/anaconda2/envs/python3/lib/python3.6/site-packages/ipykernel_launcher.py:7: UserWarning: all coefficients are zero, consider decreasing alpha.\n",
      "  import sys\n",
      "/root/anaconda2/envs/python3/lib/python3.6/site-packages/ipykernel_launcher.py:7: UserWarning: all coefficients are zero, consider decreasing alpha.\n",
      "  import sys\n",
      "/root/anaconda2/envs/python3/lib/python3.6/site-packages/ipykernel_launcher.py:7: UserWarning: all coefficients are zero, consider decreasing alpha.\n",
      "  import sys\n",
      "/root/anaconda2/envs/python3/lib/python3.6/site-packages/ipykernel_launcher.py:7: UserWarning: all coefficients are zero, consider decreasing alpha.\n",
      "  import sys\n",
      "/root/anaconda2/envs/python3/lib/python3.6/site-packages/ipykernel_launcher.py:7: UserWarning: all coefficients are zero, consider decreasing alpha.\n",
      "  import sys\n",
      "/root/anaconda2/envs/python3/lib/python3.6/site-packages/ipykernel_launcher.py:7: UserWarning: all coefficients are zero, consider decreasing alpha.\n",
      "  import sys\n",
      "/root/anaconda2/envs/python3/lib/python3.6/site-packages/ipykernel_launcher.py:7: UserWarning: all coefficients are zero, consider decreasing alpha.\n",
      "  import sys\n",
      "/root/anaconda2/envs/python3/lib/python3.6/site-packages/ipykernel_launcher.py:7: UserWarning: all coefficients are zero, consider decreasing alpha.\n",
      "  import sys\n"
     ]
    },
    {
     "name": "stderr",
     "output_type": "stream",
     "text": [
      "/root/anaconda2/envs/python3/lib/python3.6/site-packages/ipykernel_launcher.py:7: UserWarning: all coefficients are zero, consider decreasing alpha.\n",
      "  import sys\n",
      "/root/anaconda2/envs/python3/lib/python3.6/site-packages/ipykernel_launcher.py:7: UserWarning: all coefficients are zero, consider decreasing alpha.\n",
      "  import sys\n",
      "/root/anaconda2/envs/python3/lib/python3.6/site-packages/ipykernel_launcher.py:7: UserWarning: all coefficients are zero, consider decreasing alpha.\n",
      "  import sys\n",
      "/root/anaconda2/envs/python3/lib/python3.6/site-packages/ipykernel_launcher.py:7: UserWarning: all coefficients are zero, consider decreasing alpha.\n",
      "  import sys\n",
      "/root/anaconda2/envs/python3/lib/python3.6/site-packages/ipykernel_launcher.py:7: UserWarning: all coefficients are zero, consider decreasing alpha.\n",
      "  import sys\n",
      "/root/anaconda2/envs/python3/lib/python3.6/site-packages/ipykernel_launcher.py:7: UserWarning: all coefficients are zero, consider decreasing alpha.\n",
      "  import sys\n",
      "/root/anaconda2/envs/python3/lib/python3.6/site-packages/ipykernel_launcher.py:7: UserWarning: all coefficients are zero, consider decreasing alpha.\n",
      "  import sys\n",
      "/root/anaconda2/envs/python3/lib/python3.6/site-packages/ipykernel_launcher.py:7: UserWarning: all coefficients are zero, consider decreasing alpha.\n",
      "  import sys\n",
      "/root/anaconda2/envs/python3/lib/python3.6/site-packages/ipykernel_launcher.py:7: UserWarning: all coefficients are zero, consider decreasing alpha.\n",
      "  import sys\n",
      "/root/anaconda2/envs/python3/lib/python3.6/site-packages/ipykernel_launcher.py:7: UserWarning: all coefficients are zero, consider decreasing alpha.\n",
      "  import sys\n",
      "/root/anaconda2/envs/python3/lib/python3.6/site-packages/ipykernel_launcher.py:7: UserWarning: all coefficients are zero, consider decreasing alpha.\n",
      "  import sys\n",
      "/root/anaconda2/envs/python3/lib/python3.6/site-packages/ipykernel_launcher.py:7: UserWarning: all coefficients are zero, consider decreasing alpha.\n",
      "  import sys\n",
      "/root/anaconda2/envs/python3/lib/python3.6/site-packages/ipykernel_launcher.py:7: UserWarning: all coefficients are zero, consider decreasing alpha.\n",
      "  import sys\n",
      "/root/anaconda2/envs/python3/lib/python3.6/site-packages/ipykernel_launcher.py:7: UserWarning: all coefficients are zero, consider decreasing alpha.\n",
      "  import sys\n",
      "/root/anaconda2/envs/python3/lib/python3.6/site-packages/ipykernel_launcher.py:7: UserWarning: all coefficients are zero, consider decreasing alpha.\n",
      "  import sys\n",
      "/root/anaconda2/envs/python3/lib/python3.6/site-packages/ipykernel_launcher.py:7: UserWarning: all coefficients are zero, consider decreasing alpha.\n",
      "  import sys\n",
      "/root/anaconda2/envs/python3/lib/python3.6/site-packages/ipykernel_launcher.py:7: UserWarning: all coefficients are zero, consider decreasing alpha.\n",
      "  import sys\n",
      "/root/anaconda2/envs/python3/lib/python3.6/site-packages/ipykernel_launcher.py:7: UserWarning: all coefficients are zero, consider decreasing alpha.\n",
      "  import sys\n",
      "/root/anaconda2/envs/python3/lib/python3.6/site-packages/ipykernel_launcher.py:7: UserWarning: all coefficients are zero, consider decreasing alpha.\n",
      "  import sys\n",
      "/root/anaconda2/envs/python3/lib/python3.6/site-packages/ipykernel_launcher.py:7: UserWarning: all coefficients are zero, consider decreasing alpha.\n",
      "  import sys\n",
      "/root/anaconda2/envs/python3/lib/python3.6/site-packages/ipykernel_launcher.py:7: UserWarning: all coefficients are zero, consider decreasing alpha.\n",
      "  import sys\n",
      "/root/anaconda2/envs/python3/lib/python3.6/site-packages/ipykernel_launcher.py:7: UserWarning: all coefficients are zero, consider decreasing alpha.\n",
      "  import sys\n",
      "/root/anaconda2/envs/python3/lib/python3.6/site-packages/ipykernel_launcher.py:7: UserWarning: all coefficients are zero, consider decreasing alpha.\n",
      "  import sys\n",
      "/root/anaconda2/envs/python3/lib/python3.6/site-packages/ipykernel_launcher.py:7: UserWarning: all coefficients are zero, consider decreasing alpha.\n",
      "  import sys\n",
      "/root/anaconda2/envs/python3/lib/python3.6/site-packages/ipykernel_launcher.py:7: UserWarning: all coefficients are zero, consider decreasing alpha.\n",
      "  import sys\n",
      "/root/anaconda2/envs/python3/lib/python3.6/site-packages/ipykernel_launcher.py:7: UserWarning: all coefficients are zero, consider decreasing alpha.\n",
      "  import sys\n",
      "/root/anaconda2/envs/python3/lib/python3.6/site-packages/ipykernel_launcher.py:7: UserWarning: all coefficients are zero, consider decreasing alpha.\n",
      "  import sys\n",
      "/root/anaconda2/envs/python3/lib/python3.6/site-packages/ipykernel_launcher.py:7: UserWarning: all coefficients are zero, consider decreasing alpha.\n",
      "  import sys\n",
      "/root/anaconda2/envs/python3/lib/python3.6/site-packages/ipykernel_launcher.py:7: UserWarning: all coefficients are zero, consider decreasing alpha.\n",
      "  import sys\n",
      "/root/anaconda2/envs/python3/lib/python3.6/site-packages/ipykernel_launcher.py:7: UserWarning: all coefficients are zero, consider decreasing alpha.\n",
      "  import sys\n",
      "/root/anaconda2/envs/python3/lib/python3.6/site-packages/ipykernel_launcher.py:7: UserWarning: all coefficients are zero, consider decreasing alpha.\n",
      "  import sys\n",
      "/root/anaconda2/envs/python3/lib/python3.6/site-packages/ipykernel_launcher.py:7: UserWarning: all coefficients are zero, consider decreasing alpha.\n",
      "  import sys\n",
      "/root/anaconda2/envs/python3/lib/python3.6/site-packages/ipykernel_launcher.py:7: UserWarning: all coefficients are zero, consider decreasing alpha.\n",
      "  import sys\n",
      "/root/anaconda2/envs/python3/lib/python3.6/site-packages/ipykernel_launcher.py:7: UserWarning: all coefficients are zero, consider decreasing alpha.\n",
      "  import sys\n",
      "/root/anaconda2/envs/python3/lib/python3.6/site-packages/ipykernel_launcher.py:7: UserWarning: all coefficients are zero, consider decreasing alpha.\n",
      "  import sys\n",
      "/root/anaconda2/envs/python3/lib/python3.6/site-packages/ipykernel_launcher.py:7: UserWarning: all coefficients are zero, consider decreasing alpha.\n",
      "  import sys\n",
      "/root/anaconda2/envs/python3/lib/python3.6/site-packages/ipykernel_launcher.py:7: UserWarning: all coefficients are zero, consider decreasing alpha.\n",
      "  import sys\n",
      "/root/anaconda2/envs/python3/lib/python3.6/site-packages/ipykernel_launcher.py:7: UserWarning: all coefficients are zero, consider decreasing alpha.\n",
      "  import sys\n",
      "/root/anaconda2/envs/python3/lib/python3.6/site-packages/ipykernel_launcher.py:7: UserWarning: all coefficients are zero, consider decreasing alpha.\n",
      "  import sys\n",
      "/root/anaconda2/envs/python3/lib/python3.6/site-packages/ipykernel_launcher.py:7: UserWarning: all coefficients are zero, consider decreasing alpha.\n",
      "  import sys\n",
      "/root/anaconda2/envs/python3/lib/python3.6/site-packages/ipykernel_launcher.py:7: UserWarning: all coefficients are zero, consider decreasing alpha.\n",
      "  import sys\n",
      "/root/anaconda2/envs/python3/lib/python3.6/site-packages/ipykernel_launcher.py:7: UserWarning: all coefficients are zero, consider decreasing alpha.\n",
      "  import sys\n",
      "/root/anaconda2/envs/python3/lib/python3.6/site-packages/ipykernel_launcher.py:7: UserWarning: all coefficients are zero, consider decreasing alpha.\n",
      "  import sys\n",
      "/root/anaconda2/envs/python3/lib/python3.6/site-packages/ipykernel_launcher.py:7: UserWarning: all coefficients are zero, consider decreasing alpha.\n",
      "  import sys\n",
      "/root/anaconda2/envs/python3/lib/python3.6/site-packages/ipykernel_launcher.py:7: UserWarning: all coefficients are zero, consider decreasing alpha.\n",
      "  import sys\n",
      "/root/anaconda2/envs/python3/lib/python3.6/site-packages/ipykernel_launcher.py:7: UserWarning: all coefficients are zero, consider decreasing alpha.\n",
      "  import sys\n",
      "/root/anaconda2/envs/python3/lib/python3.6/site-packages/ipykernel_launcher.py:7: UserWarning: all coefficients are zero, consider decreasing alpha.\n",
      "  import sys\n",
      "/root/anaconda2/envs/python3/lib/python3.6/site-packages/ipykernel_launcher.py:7: UserWarning: all coefficients are zero, consider decreasing alpha.\n",
      "  import sys\n",
      "/root/anaconda2/envs/python3/lib/python3.6/site-packages/ipykernel_launcher.py:7: UserWarning: all coefficients are zero, consider decreasing alpha.\n",
      "  import sys\n",
      "/root/anaconda2/envs/python3/lib/python3.6/site-packages/ipykernel_launcher.py:7: UserWarning: all coefficients are zero, consider decreasing alpha.\n",
      "  import sys\n",
      "/root/anaconda2/envs/python3/lib/python3.6/site-packages/ipykernel_launcher.py:7: UserWarning: all coefficients are zero, consider decreasing alpha.\n",
      "  import sys\n"
     ]
    },
    {
     "name": "stderr",
     "output_type": "stream",
     "text": [
      "/root/anaconda2/envs/python3/lib/python3.6/site-packages/ipykernel_launcher.py:7: UserWarning: all coefficients are zero, consider decreasing alpha.\n",
      "  import sys\n",
      "/root/anaconda2/envs/python3/lib/python3.6/site-packages/ipykernel_launcher.py:7: UserWarning: all coefficients are zero, consider decreasing alpha.\n",
      "  import sys\n",
      "/root/anaconda2/envs/python3/lib/python3.6/site-packages/ipykernel_launcher.py:7: UserWarning: all coefficients are zero, consider decreasing alpha.\n",
      "  import sys\n",
      "/root/anaconda2/envs/python3/lib/python3.6/site-packages/ipykernel_launcher.py:7: UserWarning: all coefficients are zero, consider decreasing alpha.\n",
      "  import sys\n",
      "/root/anaconda2/envs/python3/lib/python3.6/site-packages/ipykernel_launcher.py:7: UserWarning: all coefficients are zero, consider decreasing alpha.\n",
      "  import sys\n",
      "/root/anaconda2/envs/python3/lib/python3.6/site-packages/ipykernel_launcher.py:7: UserWarning: all coefficients are zero, consider decreasing alpha.\n",
      "  import sys\n",
      "/root/anaconda2/envs/python3/lib/python3.6/site-packages/ipykernel_launcher.py:7: UserWarning: all coefficients are zero, consider decreasing alpha.\n",
      "  import sys\n",
      "/root/anaconda2/envs/python3/lib/python3.6/site-packages/ipykernel_launcher.py:7: UserWarning: all coefficients are zero, consider decreasing alpha.\n",
      "  import sys\n",
      "/root/anaconda2/envs/python3/lib/python3.6/site-packages/ipykernel_launcher.py:7: UserWarning: all coefficients are zero, consider decreasing alpha.\n",
      "  import sys\n",
      "/root/anaconda2/envs/python3/lib/python3.6/site-packages/ipykernel_launcher.py:7: UserWarning: all coefficients are zero, consider decreasing alpha.\n",
      "  import sys\n",
      "/root/anaconda2/envs/python3/lib/python3.6/site-packages/ipykernel_launcher.py:7: UserWarning: all coefficients are zero, consider decreasing alpha.\n",
      "  import sys\n",
      "/root/anaconda2/envs/python3/lib/python3.6/site-packages/ipykernel_launcher.py:7: UserWarning: all coefficients are zero, consider decreasing alpha.\n",
      "  import sys\n",
      "/root/anaconda2/envs/python3/lib/python3.6/site-packages/ipykernel_launcher.py:7: UserWarning: all coefficients are zero, consider decreasing alpha.\n",
      "  import sys\n",
      "/root/anaconda2/envs/python3/lib/python3.6/site-packages/ipykernel_launcher.py:7: UserWarning: all coefficients are zero, consider decreasing alpha.\n",
      "  import sys\n",
      "/root/anaconda2/envs/python3/lib/python3.6/site-packages/ipykernel_launcher.py:7: UserWarning: all coefficients are zero, consider decreasing alpha.\n",
      "  import sys\n",
      "/root/anaconda2/envs/python3/lib/python3.6/site-packages/ipykernel_launcher.py:7: UserWarning: all coefficients are zero, consider decreasing alpha.\n",
      "  import sys\n",
      "/root/anaconda2/envs/python3/lib/python3.6/site-packages/ipykernel_launcher.py:7: UserWarning: all coefficients are zero, consider decreasing alpha.\n",
      "  import sys\n",
      "/root/anaconda2/envs/python3/lib/python3.6/site-packages/ipykernel_launcher.py:7: UserWarning: all coefficients are zero, consider decreasing alpha.\n",
      "  import sys\n",
      "/root/anaconda2/envs/python3/lib/python3.6/site-packages/ipykernel_launcher.py:7: UserWarning: all coefficients are zero, consider decreasing alpha.\n",
      "  import sys\n",
      "/root/anaconda2/envs/python3/lib/python3.6/site-packages/ipykernel_launcher.py:7: UserWarning: all coefficients are zero, consider decreasing alpha.\n",
      "  import sys\n",
      "/root/anaconda2/envs/python3/lib/python3.6/site-packages/ipykernel_launcher.py:7: UserWarning: all coefficients are zero, consider decreasing alpha.\n",
      "  import sys\n",
      "/root/anaconda2/envs/python3/lib/python3.6/site-packages/sklearn/model_selection/_validation.py:542: FutureWarning: From version 0.22, errors during fit will result in a cross validation score of NaN by default. Use error_score='raise' if you want an exception raised or error_score=np.nan to adopt the behavior from version 0.22.\n",
      "  FutureWarning)\n"
     ]
    },
    {
     "ename": "LinAlgError",
     "evalue": "Matrix is singular.",
     "output_type": "error",
     "traceback": [
      "\u001b[0;31m---------------------------------------------------------------------------\u001b[0m",
      "\u001b[0;31mLinAlgError\u001b[0m                               Traceback (most recent call last)",
      "\u001b[0;32m<ipython-input-21-ef737cacfaec>\u001b[0m in \u001b[0;36m<module>\u001b[0;34m\u001b[0m\n\u001b[1;32m      1\u001b[0m \u001b[0mparam_grid\u001b[0m \u001b[0;34m=\u001b[0m \u001b[0;34m{\u001b[0m\u001b[0;34m'select__k'\u001b[0m\u001b[0;34m:\u001b[0m \u001b[0mnp\u001b[0m\u001b[0;34m.\u001b[0m\u001b[0marange\u001b[0m\u001b[0;34m(\u001b[0m\u001b[0;36m1\u001b[0m\u001b[0;34m,\u001b[0m \u001b[0mdata_x_numeric\u001b[0m\u001b[0;34m.\u001b[0m\u001b[0mshape\u001b[0m\u001b[0;34m[\u001b[0m\u001b[0;36m1\u001b[0m\u001b[0;34m]\u001b[0m \u001b[0;34m-\u001b[0m\u001b[0;36m3\u001b[0m\u001b[0;34m)\u001b[0m\u001b[0;34m}\u001b[0m\u001b[0;34m\u001b[0m\u001b[0;34m\u001b[0m\u001b[0m\n\u001b[1;32m      2\u001b[0m \u001b[0mgcv\u001b[0m \u001b[0;34m=\u001b[0m \u001b[0mGridSearchCV\u001b[0m\u001b[0;34m(\u001b[0m\u001b[0mpipe\u001b[0m\u001b[0;34m,\u001b[0m \u001b[0mparam_grid\u001b[0m\u001b[0;34m=\u001b[0m\u001b[0mparam_grid\u001b[0m\u001b[0;34m,\u001b[0m \u001b[0mreturn_train_score\u001b[0m\u001b[0;34m=\u001b[0m\u001b[0;32mTrue\u001b[0m\u001b[0;34m,\u001b[0m \u001b[0mcv\u001b[0m\u001b[0;34m=\u001b[0m\u001b[0;36m3\u001b[0m\u001b[0;34m,\u001b[0m \u001b[0miid\u001b[0m\u001b[0;34m=\u001b[0m\u001b[0;32mTrue\u001b[0m\u001b[0;34m)\u001b[0m\u001b[0;34m\u001b[0m\u001b[0;34m\u001b[0m\u001b[0m\n\u001b[0;32m----> 3\u001b[0;31m \u001b[0mgcv\u001b[0m\u001b[0;34m.\u001b[0m\u001b[0mfit\u001b[0m\u001b[0;34m(\u001b[0m\u001b[0mx\u001b[0m\u001b[0;34m,\u001b[0m \u001b[0my\u001b[0m\u001b[0;34m)\u001b[0m\u001b[0;34m\u001b[0m\u001b[0;34m\u001b[0m\u001b[0m\n\u001b[0m\u001b[1;32m      4\u001b[0m \u001b[0;34m\u001b[0m\u001b[0m\n\u001b[1;32m      5\u001b[0m \u001b[0mpd\u001b[0m\u001b[0;34m.\u001b[0m\u001b[0mDataFrame\u001b[0m\u001b[0;34m(\u001b[0m\u001b[0mgcv\u001b[0m\u001b[0;34m.\u001b[0m\u001b[0mcv_results_\u001b[0m\u001b[0;34m)\u001b[0m\u001b[0;34m.\u001b[0m\u001b[0msort_values\u001b[0m\u001b[0;34m(\u001b[0m\u001b[0mby\u001b[0m\u001b[0;34m=\u001b[0m\u001b[0;34m'mean_test_score'\u001b[0m\u001b[0;34m,\u001b[0m \u001b[0mascending\u001b[0m\u001b[0;34m=\u001b[0m\u001b[0;32mFalse\u001b[0m\u001b[0;34m)\u001b[0m\u001b[0;34m\u001b[0m\u001b[0;34m\u001b[0m\u001b[0m\n",
      "\u001b[0;32m~/anaconda2/envs/python3/lib/python3.6/site-packages/sklearn/model_selection/_search.py\u001b[0m in \u001b[0;36mfit\u001b[0;34m(self, X, y, groups, **fit_params)\u001b[0m\n\u001b[1;32m    720\u001b[0m                 \u001b[0;32mreturn\u001b[0m \u001b[0mresults_container\u001b[0m\u001b[0;34m[\u001b[0m\u001b[0;36m0\u001b[0m\u001b[0;34m]\u001b[0m\u001b[0;34m\u001b[0m\u001b[0;34m\u001b[0m\u001b[0m\n\u001b[1;32m    721\u001b[0m \u001b[0;34m\u001b[0m\u001b[0m\n\u001b[0;32m--> 722\u001b[0;31m             \u001b[0mself\u001b[0m\u001b[0;34m.\u001b[0m\u001b[0m_run_search\u001b[0m\u001b[0;34m(\u001b[0m\u001b[0mevaluate_candidates\u001b[0m\u001b[0;34m)\u001b[0m\u001b[0;34m\u001b[0m\u001b[0;34m\u001b[0m\u001b[0m\n\u001b[0m\u001b[1;32m    723\u001b[0m \u001b[0;34m\u001b[0m\u001b[0m\n\u001b[1;32m    724\u001b[0m         \u001b[0mresults\u001b[0m \u001b[0;34m=\u001b[0m \u001b[0mresults_container\u001b[0m\u001b[0;34m[\u001b[0m\u001b[0;36m0\u001b[0m\u001b[0;34m]\u001b[0m\u001b[0;34m\u001b[0m\u001b[0;34m\u001b[0m\u001b[0m\n",
      "\u001b[0;32m~/anaconda2/envs/python3/lib/python3.6/site-packages/sklearn/model_selection/_search.py\u001b[0m in \u001b[0;36m_run_search\u001b[0;34m(self, evaluate_candidates)\u001b[0m\n\u001b[1;32m   1189\u001b[0m     \u001b[0;32mdef\u001b[0m \u001b[0m_run_search\u001b[0m\u001b[0;34m(\u001b[0m\u001b[0mself\u001b[0m\u001b[0;34m,\u001b[0m \u001b[0mevaluate_candidates\u001b[0m\u001b[0;34m)\u001b[0m\u001b[0;34m:\u001b[0m\u001b[0;34m\u001b[0m\u001b[0;34m\u001b[0m\u001b[0m\n\u001b[1;32m   1190\u001b[0m         \u001b[0;34m\"\"\"Search all candidates in param_grid\"\"\"\u001b[0m\u001b[0;34m\u001b[0m\u001b[0;34m\u001b[0m\u001b[0m\n\u001b[0;32m-> 1191\u001b[0;31m         \u001b[0mevaluate_candidates\u001b[0m\u001b[0;34m(\u001b[0m\u001b[0mParameterGrid\u001b[0m\u001b[0;34m(\u001b[0m\u001b[0mself\u001b[0m\u001b[0;34m.\u001b[0m\u001b[0mparam_grid\u001b[0m\u001b[0;34m)\u001b[0m\u001b[0;34m)\u001b[0m\u001b[0;34m\u001b[0m\u001b[0;34m\u001b[0m\u001b[0m\n\u001b[0m\u001b[1;32m   1192\u001b[0m \u001b[0;34m\u001b[0m\u001b[0m\n\u001b[1;32m   1193\u001b[0m \u001b[0;34m\u001b[0m\u001b[0m\n",
      "\u001b[0;32m~/anaconda2/envs/python3/lib/python3.6/site-packages/sklearn/model_selection/_search.py\u001b[0m in \u001b[0;36mevaluate_candidates\u001b[0;34m(candidate_params)\u001b[0m\n\u001b[1;32m    709\u001b[0m                                \u001b[0;32mfor\u001b[0m \u001b[0mparameters\u001b[0m\u001b[0;34m,\u001b[0m \u001b[0;34m(\u001b[0m\u001b[0mtrain\u001b[0m\u001b[0;34m,\u001b[0m \u001b[0mtest\u001b[0m\u001b[0;34m)\u001b[0m\u001b[0;34m\u001b[0m\u001b[0;34m\u001b[0m\u001b[0m\n\u001b[1;32m    710\u001b[0m                                in product(candidate_params,\n\u001b[0;32m--> 711\u001b[0;31m                                           cv.split(X, y, groups)))\n\u001b[0m\u001b[1;32m    712\u001b[0m \u001b[0;34m\u001b[0m\u001b[0m\n\u001b[1;32m    713\u001b[0m                 \u001b[0mall_candidate_params\u001b[0m\u001b[0;34m.\u001b[0m\u001b[0mextend\u001b[0m\u001b[0;34m(\u001b[0m\u001b[0mcandidate_params\u001b[0m\u001b[0;34m)\u001b[0m\u001b[0;34m\u001b[0m\u001b[0;34m\u001b[0m\u001b[0m\n",
      "\u001b[0;32m~/anaconda2/envs/python3/lib/python3.6/site-packages/sklearn/externals/joblib/parallel.py\u001b[0m in \u001b[0;36m__call__\u001b[0;34m(self, iterable)\u001b[0m\n\u001b[1;32m    918\u001b[0m                 \u001b[0mself\u001b[0m\u001b[0;34m.\u001b[0m\u001b[0m_iterating\u001b[0m \u001b[0;34m=\u001b[0m \u001b[0mself\u001b[0m\u001b[0;34m.\u001b[0m\u001b[0m_original_iterator\u001b[0m \u001b[0;32mis\u001b[0m \u001b[0;32mnot\u001b[0m \u001b[0;32mNone\u001b[0m\u001b[0;34m\u001b[0m\u001b[0;34m\u001b[0m\u001b[0m\n\u001b[1;32m    919\u001b[0m \u001b[0;34m\u001b[0m\u001b[0m\n\u001b[0;32m--> 920\u001b[0;31m             \u001b[0;32mwhile\u001b[0m \u001b[0mself\u001b[0m\u001b[0;34m.\u001b[0m\u001b[0mdispatch_one_batch\u001b[0m\u001b[0;34m(\u001b[0m\u001b[0miterator\u001b[0m\u001b[0;34m)\u001b[0m\u001b[0;34m:\u001b[0m\u001b[0;34m\u001b[0m\u001b[0;34m\u001b[0m\u001b[0m\n\u001b[0m\u001b[1;32m    921\u001b[0m                 \u001b[0;32mpass\u001b[0m\u001b[0;34m\u001b[0m\u001b[0;34m\u001b[0m\u001b[0m\n\u001b[1;32m    922\u001b[0m \u001b[0;34m\u001b[0m\u001b[0m\n",
      "\u001b[0;32m~/anaconda2/envs/python3/lib/python3.6/site-packages/sklearn/externals/joblib/parallel.py\u001b[0m in \u001b[0;36mdispatch_one_batch\u001b[0;34m(self, iterator)\u001b[0m\n\u001b[1;32m    757\u001b[0m                 \u001b[0;32mreturn\u001b[0m \u001b[0;32mFalse\u001b[0m\u001b[0;34m\u001b[0m\u001b[0;34m\u001b[0m\u001b[0m\n\u001b[1;32m    758\u001b[0m             \u001b[0;32melse\u001b[0m\u001b[0;34m:\u001b[0m\u001b[0;34m\u001b[0m\u001b[0;34m\u001b[0m\u001b[0m\n\u001b[0;32m--> 759\u001b[0;31m                 \u001b[0mself\u001b[0m\u001b[0;34m.\u001b[0m\u001b[0m_dispatch\u001b[0m\u001b[0;34m(\u001b[0m\u001b[0mtasks\u001b[0m\u001b[0;34m)\u001b[0m\u001b[0;34m\u001b[0m\u001b[0;34m\u001b[0m\u001b[0m\n\u001b[0m\u001b[1;32m    760\u001b[0m                 \u001b[0;32mreturn\u001b[0m \u001b[0;32mTrue\u001b[0m\u001b[0;34m\u001b[0m\u001b[0;34m\u001b[0m\u001b[0m\n\u001b[1;32m    761\u001b[0m \u001b[0;34m\u001b[0m\u001b[0m\n",
      "\u001b[0;32m~/anaconda2/envs/python3/lib/python3.6/site-packages/sklearn/externals/joblib/parallel.py\u001b[0m in \u001b[0;36m_dispatch\u001b[0;34m(self, batch)\u001b[0m\n\u001b[1;32m    714\u001b[0m         \u001b[0;32mwith\u001b[0m \u001b[0mself\u001b[0m\u001b[0;34m.\u001b[0m\u001b[0m_lock\u001b[0m\u001b[0;34m:\u001b[0m\u001b[0;34m\u001b[0m\u001b[0;34m\u001b[0m\u001b[0m\n\u001b[1;32m    715\u001b[0m             \u001b[0mjob_idx\u001b[0m \u001b[0;34m=\u001b[0m \u001b[0mlen\u001b[0m\u001b[0;34m(\u001b[0m\u001b[0mself\u001b[0m\u001b[0;34m.\u001b[0m\u001b[0m_jobs\u001b[0m\u001b[0;34m)\u001b[0m\u001b[0;34m\u001b[0m\u001b[0;34m\u001b[0m\u001b[0m\n\u001b[0;32m--> 716\u001b[0;31m             \u001b[0mjob\u001b[0m \u001b[0;34m=\u001b[0m \u001b[0mself\u001b[0m\u001b[0;34m.\u001b[0m\u001b[0m_backend\u001b[0m\u001b[0;34m.\u001b[0m\u001b[0mapply_async\u001b[0m\u001b[0;34m(\u001b[0m\u001b[0mbatch\u001b[0m\u001b[0;34m,\u001b[0m \u001b[0mcallback\u001b[0m\u001b[0;34m=\u001b[0m\u001b[0mcb\u001b[0m\u001b[0;34m)\u001b[0m\u001b[0;34m\u001b[0m\u001b[0;34m\u001b[0m\u001b[0m\n\u001b[0m\u001b[1;32m    717\u001b[0m             \u001b[0;31m# A job can complete so quickly than its callback is\u001b[0m\u001b[0;34m\u001b[0m\u001b[0;34m\u001b[0m\u001b[0;34m\u001b[0m\u001b[0m\n\u001b[1;32m    718\u001b[0m             \u001b[0;31m# called before we get here, causing self._jobs to\u001b[0m\u001b[0;34m\u001b[0m\u001b[0;34m\u001b[0m\u001b[0;34m\u001b[0m\u001b[0m\n",
      "\u001b[0;32m~/anaconda2/envs/python3/lib/python3.6/site-packages/sklearn/externals/joblib/_parallel_backends.py\u001b[0m in \u001b[0;36mapply_async\u001b[0;34m(self, func, callback)\u001b[0m\n\u001b[1;32m    180\u001b[0m     \u001b[0;32mdef\u001b[0m \u001b[0mapply_async\u001b[0m\u001b[0;34m(\u001b[0m\u001b[0mself\u001b[0m\u001b[0;34m,\u001b[0m \u001b[0mfunc\u001b[0m\u001b[0;34m,\u001b[0m \u001b[0mcallback\u001b[0m\u001b[0;34m=\u001b[0m\u001b[0;32mNone\u001b[0m\u001b[0;34m)\u001b[0m\u001b[0;34m:\u001b[0m\u001b[0;34m\u001b[0m\u001b[0;34m\u001b[0m\u001b[0m\n\u001b[1;32m    181\u001b[0m         \u001b[0;34m\"\"\"Schedule a func to be run\"\"\"\u001b[0m\u001b[0;34m\u001b[0m\u001b[0;34m\u001b[0m\u001b[0m\n\u001b[0;32m--> 182\u001b[0;31m         \u001b[0mresult\u001b[0m \u001b[0;34m=\u001b[0m \u001b[0mImmediateResult\u001b[0m\u001b[0;34m(\u001b[0m\u001b[0mfunc\u001b[0m\u001b[0;34m)\u001b[0m\u001b[0;34m\u001b[0m\u001b[0;34m\u001b[0m\u001b[0m\n\u001b[0m\u001b[1;32m    183\u001b[0m         \u001b[0;32mif\u001b[0m \u001b[0mcallback\u001b[0m\u001b[0;34m:\u001b[0m\u001b[0;34m\u001b[0m\u001b[0;34m\u001b[0m\u001b[0m\n\u001b[1;32m    184\u001b[0m             \u001b[0mcallback\u001b[0m\u001b[0;34m(\u001b[0m\u001b[0mresult\u001b[0m\u001b[0;34m)\u001b[0m\u001b[0;34m\u001b[0m\u001b[0;34m\u001b[0m\u001b[0m\n",
      "\u001b[0;32m~/anaconda2/envs/python3/lib/python3.6/site-packages/sklearn/externals/joblib/_parallel_backends.py\u001b[0m in \u001b[0;36m__init__\u001b[0;34m(self, batch)\u001b[0m\n\u001b[1;32m    547\u001b[0m         \u001b[0;31m# Don't delay the application, to avoid keeping the input\u001b[0m\u001b[0;34m\u001b[0m\u001b[0;34m\u001b[0m\u001b[0;34m\u001b[0m\u001b[0m\n\u001b[1;32m    548\u001b[0m         \u001b[0;31m# arguments in memory\u001b[0m\u001b[0;34m\u001b[0m\u001b[0;34m\u001b[0m\u001b[0;34m\u001b[0m\u001b[0m\n\u001b[0;32m--> 549\u001b[0;31m         \u001b[0mself\u001b[0m\u001b[0;34m.\u001b[0m\u001b[0mresults\u001b[0m \u001b[0;34m=\u001b[0m \u001b[0mbatch\u001b[0m\u001b[0;34m(\u001b[0m\u001b[0;34m)\u001b[0m\u001b[0;34m\u001b[0m\u001b[0;34m\u001b[0m\u001b[0m\n\u001b[0m\u001b[1;32m    550\u001b[0m \u001b[0;34m\u001b[0m\u001b[0m\n\u001b[1;32m    551\u001b[0m     \u001b[0;32mdef\u001b[0m \u001b[0mget\u001b[0m\u001b[0;34m(\u001b[0m\u001b[0mself\u001b[0m\u001b[0;34m)\u001b[0m\u001b[0;34m:\u001b[0m\u001b[0;34m\u001b[0m\u001b[0;34m\u001b[0m\u001b[0m\n",
      "\u001b[0;32m~/anaconda2/envs/python3/lib/python3.6/site-packages/sklearn/externals/joblib/parallel.py\u001b[0m in \u001b[0;36m__call__\u001b[0;34m(self)\u001b[0m\n\u001b[1;32m    223\u001b[0m         \u001b[0;32mwith\u001b[0m \u001b[0mparallel_backend\u001b[0m\u001b[0;34m(\u001b[0m\u001b[0mself\u001b[0m\u001b[0;34m.\u001b[0m\u001b[0m_backend\u001b[0m\u001b[0;34m,\u001b[0m \u001b[0mn_jobs\u001b[0m\u001b[0;34m=\u001b[0m\u001b[0mself\u001b[0m\u001b[0;34m.\u001b[0m\u001b[0m_n_jobs\u001b[0m\u001b[0;34m)\u001b[0m\u001b[0;34m:\u001b[0m\u001b[0;34m\u001b[0m\u001b[0;34m\u001b[0m\u001b[0m\n\u001b[1;32m    224\u001b[0m             return [func(*args, **kwargs)\n\u001b[0;32m--> 225\u001b[0;31m                     for func, args, kwargs in self.items]\n\u001b[0m\u001b[1;32m    226\u001b[0m \u001b[0;34m\u001b[0m\u001b[0m\n\u001b[1;32m    227\u001b[0m     \u001b[0;32mdef\u001b[0m \u001b[0m__len__\u001b[0m\u001b[0;34m(\u001b[0m\u001b[0mself\u001b[0m\u001b[0;34m)\u001b[0m\u001b[0;34m:\u001b[0m\u001b[0;34m\u001b[0m\u001b[0;34m\u001b[0m\u001b[0m\n",
      "\u001b[0;32m~/anaconda2/envs/python3/lib/python3.6/site-packages/sklearn/externals/joblib/parallel.py\u001b[0m in \u001b[0;36m<listcomp>\u001b[0;34m(.0)\u001b[0m\n\u001b[1;32m    223\u001b[0m         \u001b[0;32mwith\u001b[0m \u001b[0mparallel_backend\u001b[0m\u001b[0;34m(\u001b[0m\u001b[0mself\u001b[0m\u001b[0;34m.\u001b[0m\u001b[0m_backend\u001b[0m\u001b[0;34m,\u001b[0m \u001b[0mn_jobs\u001b[0m\u001b[0;34m=\u001b[0m\u001b[0mself\u001b[0m\u001b[0;34m.\u001b[0m\u001b[0m_n_jobs\u001b[0m\u001b[0;34m)\u001b[0m\u001b[0;34m:\u001b[0m\u001b[0;34m\u001b[0m\u001b[0;34m\u001b[0m\u001b[0m\n\u001b[1;32m    224\u001b[0m             return [func(*args, **kwargs)\n\u001b[0;32m--> 225\u001b[0;31m                     for func, args, kwargs in self.items]\n\u001b[0m\u001b[1;32m    226\u001b[0m \u001b[0;34m\u001b[0m\u001b[0m\n\u001b[1;32m    227\u001b[0m     \u001b[0;32mdef\u001b[0m \u001b[0m__len__\u001b[0m\u001b[0;34m(\u001b[0m\u001b[0mself\u001b[0m\u001b[0;34m)\u001b[0m\u001b[0;34m:\u001b[0m\u001b[0;34m\u001b[0m\u001b[0;34m\u001b[0m\u001b[0m\n",
      "\u001b[0;32m~/anaconda2/envs/python3/lib/python3.6/site-packages/sklearn/model_selection/_validation.py\u001b[0m in \u001b[0;36m_fit_and_score\u001b[0;34m(estimator, X, y, scorer, train, test, verbose, parameters, fit_params, return_train_score, return_parameters, return_n_test_samples, return_times, return_estimator, error_score)\u001b[0m\n\u001b[1;32m    526\u001b[0m             \u001b[0mestimator\u001b[0m\u001b[0;34m.\u001b[0m\u001b[0mfit\u001b[0m\u001b[0;34m(\u001b[0m\u001b[0mX_train\u001b[0m\u001b[0;34m,\u001b[0m \u001b[0;34m**\u001b[0m\u001b[0mfit_params\u001b[0m\u001b[0;34m)\u001b[0m\u001b[0;34m\u001b[0m\u001b[0;34m\u001b[0m\u001b[0m\n\u001b[1;32m    527\u001b[0m         \u001b[0;32melse\u001b[0m\u001b[0;34m:\u001b[0m\u001b[0;34m\u001b[0m\u001b[0;34m\u001b[0m\u001b[0m\n\u001b[0;32m--> 528\u001b[0;31m             \u001b[0mestimator\u001b[0m\u001b[0;34m.\u001b[0m\u001b[0mfit\u001b[0m\u001b[0;34m(\u001b[0m\u001b[0mX_train\u001b[0m\u001b[0;34m,\u001b[0m \u001b[0my_train\u001b[0m\u001b[0;34m,\u001b[0m \u001b[0;34m**\u001b[0m\u001b[0mfit_params\u001b[0m\u001b[0;34m)\u001b[0m\u001b[0;34m\u001b[0m\u001b[0;34m\u001b[0m\u001b[0m\n\u001b[0m\u001b[1;32m    529\u001b[0m \u001b[0;34m\u001b[0m\u001b[0m\n\u001b[1;32m    530\u001b[0m     \u001b[0;32mexcept\u001b[0m \u001b[0mException\u001b[0m \u001b[0;32mas\u001b[0m \u001b[0me\u001b[0m\u001b[0;34m:\u001b[0m\u001b[0;34m\u001b[0m\u001b[0;34m\u001b[0m\u001b[0m\n",
      "\u001b[0;32m~/anaconda2/envs/python3/lib/python3.6/site-packages/sklearn/pipeline.py\u001b[0m in \u001b[0;36mfit\u001b[0;34m(self, X, y, **fit_params)\u001b[0m\n\u001b[1;32m    265\u001b[0m         \u001b[0mXt\u001b[0m\u001b[0;34m,\u001b[0m \u001b[0mfit_params\u001b[0m \u001b[0;34m=\u001b[0m \u001b[0mself\u001b[0m\u001b[0;34m.\u001b[0m\u001b[0m_fit\u001b[0m\u001b[0;34m(\u001b[0m\u001b[0mX\u001b[0m\u001b[0;34m,\u001b[0m \u001b[0my\u001b[0m\u001b[0;34m,\u001b[0m \u001b[0;34m**\u001b[0m\u001b[0mfit_params\u001b[0m\u001b[0;34m)\u001b[0m\u001b[0;34m\u001b[0m\u001b[0;34m\u001b[0m\u001b[0m\n\u001b[1;32m    266\u001b[0m         \u001b[0;32mif\u001b[0m \u001b[0mself\u001b[0m\u001b[0;34m.\u001b[0m\u001b[0m_final_estimator\u001b[0m \u001b[0;32mis\u001b[0m \u001b[0;32mnot\u001b[0m \u001b[0;32mNone\u001b[0m\u001b[0;34m:\u001b[0m\u001b[0;34m\u001b[0m\u001b[0;34m\u001b[0m\u001b[0m\n\u001b[0;32m--> 267\u001b[0;31m             \u001b[0mself\u001b[0m\u001b[0;34m.\u001b[0m\u001b[0m_final_estimator\u001b[0m\u001b[0;34m.\u001b[0m\u001b[0mfit\u001b[0m\u001b[0;34m(\u001b[0m\u001b[0mXt\u001b[0m\u001b[0;34m,\u001b[0m \u001b[0my\u001b[0m\u001b[0;34m,\u001b[0m \u001b[0;34m**\u001b[0m\u001b[0mfit_params\u001b[0m\u001b[0;34m)\u001b[0m\u001b[0;34m\u001b[0m\u001b[0;34m\u001b[0m\u001b[0m\n\u001b[0m\u001b[1;32m    268\u001b[0m         \u001b[0;32mreturn\u001b[0m \u001b[0mself\u001b[0m\u001b[0;34m\u001b[0m\u001b[0;34m\u001b[0m\u001b[0m\n\u001b[1;32m    269\u001b[0m \u001b[0;34m\u001b[0m\u001b[0m\n",
      "\u001b[0;32m~/anaconda2/envs/python3/lib/python3.6/site-packages/sksurv/linear_model/coxph.py\u001b[0m in \u001b[0;36mfit\u001b[0;34m(self, X, y)\u001b[0m\n\u001b[1;32m    328\u001b[0m             \u001b[0moptimizer\u001b[0m\u001b[0;34m.\u001b[0m\u001b[0mupdate\u001b[0m\u001b[0;34m(\u001b[0m\u001b[0mw\u001b[0m\u001b[0;34m)\u001b[0m\u001b[0;34m\u001b[0m\u001b[0;34m\u001b[0m\u001b[0m\n\u001b[1;32m    329\u001b[0m             delta = solve(optimizer.hessian, optimizer.gradient,\n\u001b[0;32m--> 330\u001b[0;31m                           overwrite_a=False, overwrite_b=False, check_finite=False)\n\u001b[0m\u001b[1;32m    331\u001b[0m \u001b[0;34m\u001b[0m\u001b[0m\n\u001b[1;32m    332\u001b[0m             \u001b[0;32mif\u001b[0m \u001b[0;32mnot\u001b[0m \u001b[0mnumpy\u001b[0m\u001b[0;34m.\u001b[0m\u001b[0mall\u001b[0m\u001b[0;34m(\u001b[0m\u001b[0mnumpy\u001b[0m\u001b[0;34m.\u001b[0m\u001b[0misfinite\u001b[0m\u001b[0;34m(\u001b[0m\u001b[0mdelta\u001b[0m\u001b[0;34m)\u001b[0m\u001b[0;34m)\u001b[0m\u001b[0;34m:\u001b[0m\u001b[0;34m\u001b[0m\u001b[0;34m\u001b[0m\u001b[0m\n",
      "\u001b[0;32m~/anaconda2/envs/python3/lib/python3.6/site-packages/scipy/linalg/basic.py\u001b[0m in \u001b[0;36msolve\u001b[0;34m(a, b, sym_pos, lower, overwrite_a, overwrite_b, debug, check_finite, assume_a, transposed)\u001b[0m\n\u001b[1;32m    214\u001b[0m                                                (a1, b1))\n\u001b[1;32m    215\u001b[0m         \u001b[0mlu\u001b[0m\u001b[0;34m,\u001b[0m \u001b[0mipvt\u001b[0m\u001b[0;34m,\u001b[0m \u001b[0minfo\u001b[0m \u001b[0;34m=\u001b[0m \u001b[0mgetrf\u001b[0m\u001b[0;34m(\u001b[0m\u001b[0ma1\u001b[0m\u001b[0;34m,\u001b[0m \u001b[0moverwrite_a\u001b[0m\u001b[0;34m=\u001b[0m\u001b[0moverwrite_a\u001b[0m\u001b[0;34m)\u001b[0m\u001b[0;34m\u001b[0m\u001b[0;34m\u001b[0m\u001b[0m\n\u001b[0;32m--> 216\u001b[0;31m         \u001b[0m_solve_check\u001b[0m\u001b[0;34m(\u001b[0m\u001b[0mn\u001b[0m\u001b[0;34m,\u001b[0m \u001b[0minfo\u001b[0m\u001b[0;34m)\u001b[0m\u001b[0;34m\u001b[0m\u001b[0;34m\u001b[0m\u001b[0m\n\u001b[0m\u001b[1;32m    217\u001b[0m         x, info = getrs(lu, ipvt, b1,\n\u001b[1;32m    218\u001b[0m                         trans=trans, overwrite_b=overwrite_b)\n",
      "\u001b[0;32m~/anaconda2/envs/python3/lib/python3.6/site-packages/scipy/linalg/basic.py\u001b[0m in \u001b[0;36m_solve_check\u001b[0;34m(n, info, lamch, rcond)\u001b[0m\n\u001b[1;32m     29\u001b[0m                          '.'.format(-info))\n\u001b[1;32m     30\u001b[0m     \u001b[0;32melif\u001b[0m \u001b[0;36m0\u001b[0m \u001b[0;34m<\u001b[0m \u001b[0minfo\u001b[0m\u001b[0;34m:\u001b[0m\u001b[0;34m\u001b[0m\u001b[0;34m\u001b[0m\u001b[0m\n\u001b[0;32m---> 31\u001b[0;31m         \u001b[0;32mraise\u001b[0m \u001b[0mLinAlgError\u001b[0m\u001b[0;34m(\u001b[0m\u001b[0;34m'Matrix is singular.'\u001b[0m\u001b[0;34m)\u001b[0m\u001b[0;34m\u001b[0m\u001b[0;34m\u001b[0m\u001b[0m\n\u001b[0m\u001b[1;32m     32\u001b[0m \u001b[0;34m\u001b[0m\u001b[0m\n\u001b[1;32m     33\u001b[0m     \u001b[0;32mif\u001b[0m \u001b[0mlamch\u001b[0m \u001b[0;32mis\u001b[0m \u001b[0;32mNone\u001b[0m\u001b[0;34m:\u001b[0m\u001b[0;34m\u001b[0m\u001b[0;34m\u001b[0m\u001b[0m\n",
      "\u001b[0;31mLinAlgError\u001b[0m: Matrix is singular."
     ]
    }
   ],
   "source": [
    "param_grid = {'select__k': np.arange(1, data_x_numeric.shape[1] -3)}\n",
    "gcv = GridSearchCV(pipe, param_grid=param_grid, return_train_score=True, cv=3, iid=True)\n",
    "gcv.fit(x, y)\n",
    "\n",
    "pd.DataFrame(gcv.cv_results_).sort_values(by='mean_test_score', ascending=False)"
   ]
  },
  {
   "cell_type": "code",
   "execution_count": 22,
   "metadata": {},
   "outputs": [
    {
     "ename": "AttributeError",
     "evalue": "'GridSearchCV' object has no attribute 'best_params_'",
     "output_type": "error",
     "traceback": [
      "\u001b[0;31m---------------------------------------------------------------------------\u001b[0m",
      "\u001b[0;31mAttributeError\u001b[0m                            Traceback (most recent call last)",
      "\u001b[0;32m<ipython-input-22-0cfd62977ebd>\u001b[0m in \u001b[0;36m<module>\u001b[0;34m\u001b[0m\n\u001b[0;32m----> 1\u001b[0;31m \u001b[0mpipe\u001b[0m\u001b[0;34m.\u001b[0m\u001b[0mset_params\u001b[0m\u001b[0;34m(\u001b[0m\u001b[0;34m**\u001b[0m\u001b[0mgcv\u001b[0m\u001b[0;34m.\u001b[0m\u001b[0mbest_params_\u001b[0m\u001b[0;34m)\u001b[0m\u001b[0;34m\u001b[0m\u001b[0;34m\u001b[0m\u001b[0m\n\u001b[0m\u001b[1;32m      2\u001b[0m \u001b[0mpipe\u001b[0m\u001b[0;34m.\u001b[0m\u001b[0mfit\u001b[0m\u001b[0;34m(\u001b[0m\u001b[0mx\u001b[0m\u001b[0;34m,\u001b[0m \u001b[0my\u001b[0m\u001b[0;34m)\u001b[0m\u001b[0;34m\u001b[0m\u001b[0;34m\u001b[0m\u001b[0m\n\u001b[1;32m      3\u001b[0m \u001b[0;34m\u001b[0m\u001b[0m\n\u001b[1;32m      4\u001b[0m \u001b[0mencoder\u001b[0m\u001b[0;34m,\u001b[0m \u001b[0mtransformer\u001b[0m\u001b[0;34m,\u001b[0m \u001b[0mfinal_estimator\u001b[0m \u001b[0;34m=\u001b[0m \u001b[0;34m[\u001b[0m\u001b[0ms\u001b[0m\u001b[0;34m[\u001b[0m\u001b[0;36m1\u001b[0m\u001b[0;34m]\u001b[0m \u001b[0;32mfor\u001b[0m \u001b[0ms\u001b[0m \u001b[0;32min\u001b[0m \u001b[0mpipe\u001b[0m\u001b[0;34m.\u001b[0m\u001b[0msteps\u001b[0m\u001b[0;34m]\u001b[0m\u001b[0;34m\u001b[0m\u001b[0;34m\u001b[0m\u001b[0m\n\u001b[1;32m      5\u001b[0m \u001b[0mpd\u001b[0m\u001b[0;34m.\u001b[0m\u001b[0mSeries\u001b[0m\u001b[0;34m(\u001b[0m\u001b[0mfinal_estimator\u001b[0m\u001b[0;34m.\u001b[0m\u001b[0mcoef_\u001b[0m\u001b[0;34m,\u001b[0m \u001b[0mindex\u001b[0m\u001b[0;34m=\u001b[0m\u001b[0mencoder\u001b[0m\u001b[0;34m.\u001b[0m\u001b[0mencoded_columns_\u001b[0m\u001b[0;34m[\u001b[0m\u001b[0mtransformer\u001b[0m\u001b[0;34m.\u001b[0m\u001b[0mget_support\u001b[0m\u001b[0;34m(\u001b[0m\u001b[0;34m)\u001b[0m\u001b[0;34m]\u001b[0m\u001b[0;34m)\u001b[0m\u001b[0;34m\u001b[0m\u001b[0;34m\u001b[0m\u001b[0m\n",
      "\u001b[0;31mAttributeError\u001b[0m: 'GridSearchCV' object has no attribute 'best_params_'"
     ]
    }
   ],
   "source": [
    "pipe.set_params(**gcv.best_params_)\n",
    "pipe.fit(x, y)\n",
    "\n",
    "encoder, transformer, final_estimator = [s[1] for s in pipe.steps]\n",
    "pd.Series(final_estimator.coef_, index=encoder.encoded_columns_[transformer.get_support()])"
   ]
  },
  {
   "cell_type": "markdown",
   "metadata": {},
   "source": [
    "# Part2"
   ]
  },
  {
   "cell_type": "code",
   "execution_count": 46,
   "metadata": {},
   "outputs": [],
   "source": [
    "from sklearn.model_selection import train_test_split\n",
    "from sksurv.metrics import (concordance_index_censored,\n",
    "                            concordance_index_ipcw,\n",
    "                            cumulative_dynamic_auc)"
   ]
  },
  {
   "cell_type": "code",
   "execution_count": 47,
   "metadata": {},
   "outputs": [],
   "source": [
    "data_x = data1[[\"安装年度\",\"部件装上飞行小时数\",\"部件装上使用小时数\",\"FH TSN\"]]"
   ]
  },
  {
   "cell_type": "code",
   "execution_count": 48,
   "metadata": {},
   "outputs": [],
   "source": [
    "def df_to_sarray(df):\n",
    "    \"\"\"\n",
    "    Convert a pandas DataFrame object to a numpy structured array.\n",
    "    This is functionally equivalent to but more efficient than\n",
    "    np.array(df.to_array())\n",
    "\n",
    "    :param df: the data frame to convert\n",
    "    :return: a numpy structured array representation of df\n",
    "    \"\"\"\n",
    "\n",
    "    v = df.values\n",
    "    cols = df.columns\n",
    "\n",
    "    if False:  # python 2 needs .encode() but 3 does not\n",
    "        types = [(cols[i].encode(), df[k].dtype.type) for (i, k) in enumerate(cols)]\n",
    "    else:\n",
    "        types = [(cols[i], df[k].dtype.type) for (i, k) in enumerate(cols)]\n",
    "    dtype = np.dtype(types)\n",
    "    z = np.zeros(v.shape, dtype)\n",
    "    for (i, k) in enumerate(z.dtype.names):\n",
    "        z[:,i] = v[:, i]\n",
    "    return z"
   ]
  },
  {
   "cell_type": "code",
   "execution_count": 49,
   "metadata": {},
   "outputs": [],
   "source": [
    "y = data_y.to_records(index=False)\n",
    "x_train, x_test, y_train, y_test = train_test_split(data_x, y, test_size=0.2)#, random_state=1)\n",
    "x_train = x_train.values\n",
    "x_test = x_test.values"
   ]
  },
  {
   "cell_type": "code",
   "execution_count": 51,
   "metadata": {},
   "outputs": [],
   "source": [
    "y_events_train = y_train[y_train['IsPlanned']==False]\n",
    "train_min, train_max = y_events_train[\"部件本次装机使用小时\"].min(), y_events_train[\"部件本次装机使用小时\"].max()\n",
    "\n",
    "y_events_test = y_test[y_test['IsPlanned']==False]\n",
    "test_min, test_max = y_events_test[\"部件本次装机使用小时\"].min(), y_events_test[\"部件本次装机使用小时\"].max()\n",
    "\n",
    "assert train_min <= test_min < test_max < train_max, \\\n",
    "    \"time range or test data is not within time range of training data.\""
   ]
  },
  {
   "cell_type": "code",
   "execution_count": 52,
   "metadata": {},
   "outputs": [
    {
     "name": "stdout",
     "output_type": "stream",
     "text": [
      "[2.02000000e+01 1.18514286e+02 4.06142857e+02 9.61257143e+02\n",
      " 1.85705714e+03 2.84934286e+03 3.76962857e+03 5.19400000e+03\n",
      " 6.53765714e+03 8.26800000e+03 1.09074000e+04 1.40677429e+04\n",
      " 1.68197143e+04 2.17654286e+04 2.87464000e+04]\n"
     ]
    }
   ],
   "source": [
    "times = np.percentile(data_y[\"部件本次装机使用小时\"], np.linspace(5, 95, 15))\n",
    "print(times)"
   ]
  },
  {
   "cell_type": "code",
   "execution_count": 53,
   "metadata": {},
   "outputs": [
    {
     "data": {
      "text/plain": [
       "'/root/anaconda2/envs/python3/lib/python3.6/site-packages/matplotlib/mpl-data/matplotlibrc'"
      ]
     },
     "execution_count": 53,
     "metadata": {},
     "output_type": "execute_result"
    }
   ],
   "source": [
    "import matplotlib\n",
    "matplotlib.matplotlib_fname()"
   ]
  },
  {
   "cell_type": "code",
   "execution_count": 54,
   "metadata": {},
   "outputs": [
    {
     "data": {
      "image/png": "[encoded data removed]",
      "text/plain": [
       "<Figure size 432x288 with 1 Axes>"
      ]
     },
     "metadata": {
      "needs_background": "light"
     },
     "output_type": "display_data"
    }
   ],
   "source": [
    "num_columns = [\"安装年度\",\"部件装上飞行小时数\",\"部件装上使用小时数\",\"FH TSN\"]\n",
    "def plot_cumulative_dynamic_auc(risk_score, label, color=None):\n",
    "    auc, mean_auc = cumulative_dynamic_auc(y_train, y_test, risk_score, times)\n",
    "    \n",
    "    plt.plot(times, auc, marker=\"o\", color=color, label=label)\n",
    "    plt.legend(prop = font)\n",
    "    \n",
    "    plt.xlabel(\"time时间\",fontproperties=font)\n",
    "    plt.ylabel(\"time-dependent AUC\")\n",
    "    plt.axhline(mean_auc, color=color, linestyle=\"--\")\n",
    "\n",
    "    \n",
    "for i, col in enumerate(num_columns):\n",
    "    plot_cumulative_dynamic_auc(x_test[:, i], col, color=\"C{}\".format(i))\n",
    "    ret = concordance_index_ipcw(y_train, y_test, x_test[:, i], tau=times[-1])"
   ]
  },
  {
   "cell_type": "markdown",
   "metadata": {},
   "source": [
    "# Part3"
   ]
  },
  {
   "cell_type": "code",
   "execution_count": 112,
   "metadata": {},
   "outputs": [
    {
     "name": "stderr",
     "output_type": "stream",
     "text": [
      "/root/anaconda2/envs/python3/lib/python3.6/site-packages/ipykernel_launcher.py:6: SettingWithCopyWarning: \n",
      "A value is trying to be set on a copy of a slice from a DataFrame.\n",
      "Try using .loc[row_indexer,col_indexer] = value instead\n",
      "\n",
      "See the caveats in the documentation: http://pandas.pydata.org/pandas-docs/stable/indexing.html#indexing-view-versus-copy\n",
      "  \n"
     ]
    }
   ],
   "source": [
    "data_x = data1[[\"机型\",\"安装年度\",\"部件装上飞行小时数\",\"部件装上使用小时数\",\"FH TSN\", \"最近送修公司\",\"PlanePartType\"]]\n",
    "\n",
    "cat_features = [\"机型\", \"安装年度\", \"最近送修公司\",\"PlanePartType\"]\n",
    "\n",
    "for col in cat_features:\n",
    "    data_x[col] =data_x[col].astype('category')"
   ]
  },
  {
   "cell_type": "code",
   "execution_count": 165,
   "metadata": {},
   "outputs": [
    {
     "name": "stdout",
     "output_type": "stream",
     "text": [
      "[2.02000000e+01 1.18514286e+02 4.06142857e+02 9.61257143e+02\n",
      " 1.85705714e+03 2.84934286e+03 3.76962857e+03 5.19400000e+03\n",
      " 6.53765714e+03 8.26800000e+03 1.09074000e+04 1.40677429e+04\n",
      " 1.68197143e+04 2.17654286e+04 2.87464000e+04]\n"
     ]
    }
   ],
   "source": [
    "times = np.percentile(data_y[\"部件本次装机使用小时\"], np.linspace(5, 95, 15))\n",
    "print(times)"
   ]
  },
  {
   "cell_type": "code",
   "execution_count": null,
   "metadata": {},
   "outputs": [],
   "source": [
    "estimator = CoxPHSurvivalAnalysis() #CoxnetSurvivalAnalysis()\n",
    "estimator.fit(data_x_numeric, y)"
   ]
  },
  {
   "cell_type": "code",
   "execution_count": 171,
   "metadata": {},
   "outputs": [
    {
     "name": "stdout",
     "output_type": "stream",
     "text": [
      "0.756783634038926\n",
      "[24341 10021 11228     6   162   925  8692 13401     6  1736    94  3197\n",
      "  7054 13193 24324  1243  2810  8395 12582 16474   452 15863 32718 32618\n",
      " 15790    22    10 14395  5263 26845    13  5123     7  7852     6 13400\n",
      "    15  6855  4764  5727 15920 13955  2382 15848  2098    40  8193  3853\n",
      " 18057  5836  6109 17069  2205   315    98  2489  3099 13996  2281 30424\n",
      "   609    65 15869  3877  1647  1935  3166 12358  4369 25760   537 23217\n",
      " 21621    19   681 16516 24324 11413 37029 19146 17661 15757  2080    66\n",
      "   170  7419 12465 18203 17153    12    93     8  2757 10922  2500 15018\n",
      "  6041  2393 11133 28173   807 26479  2229  8509  3175 10559    25  4369\n",
      "  5032 15454    38  3904  8059  7452 11100  2680    16 26662    18  4047\n",
      "  1971 10175  8266   328  7472 20799 22579 23477  6925 32025   473  7593\n",
      " 14913 38822  4118 15451   391  2984  5399   290    64    57    18  5916\n",
      "  1930  4227  3023  6833 18239 35806   253  3149   244 29731 15255   605\n",
      "    10 10321   427 15017  3450  6942    10 19081     6   226  5940   695\n",
      "     8 11548  5614   396  8241  4705    12 14125  6925   192   135   121\n",
      "  2614   869 10946 16951 14163   806 17077  3387   467 28105   147   189\n",
      " 10448  3045  6148  5677  5772    47  3629 11951  1427     8 27694 16668\n",
      "   366  2042 39129   457 12882 20070  9522  7810    11 34692  1750   529\n",
      "    24  1002 19601  8089 20000]\n"
     ]
    },
    {
     "ename": "AttributeError",
     "evalue": "'Pipeline' object has no attribute 'predict_survival_function'",
     "output_type": "error",
     "traceback": [
      "\u001b[0;31m---------------------------------------------------------------------------\u001b[0m",
      "\u001b[0;31mAttributeError\u001b[0m                            Traceback (most recent call last)",
      "\u001b[0;32m<ipython-input-171-2920d68efa87>\u001b[0m in \u001b[0;36m<module>\u001b[0;34m\u001b[0m\n\u001b[1;32m     21\u001b[0m \u001b[0;34m\u001b[0m\u001b[0m\n\u001b[1;32m     22\u001b[0m \u001b[0mprint\u001b[0m\u001b[0;34m(\u001b[0m\u001b[0my_test\u001b[0m\u001b[0;34m[\u001b[0m\u001b[0;34m\"部件本次装机使用小时\"\u001b[0m\u001b[0;34m]\u001b[0m\u001b[0;34m)\u001b[0m\u001b[0;34m\u001b[0m\u001b[0;34m\u001b[0m\u001b[0m\n\u001b[0;32m---> 23\u001b[0;31m \u001b[0mprint\u001b[0m\u001b[0;34m(\u001b[0m\u001b[0mcph\u001b[0m\u001b[0;34m.\u001b[0m\u001b[0mpredict_survival_function\u001b[0m\u001b[0;34m(\u001b[0m\u001b[0mx_test\u001b[0m\u001b[0;34m)\u001b[0m\u001b[0;34m)\u001b[0m\u001b[0;34m\u001b[0m\u001b[0;34m\u001b[0m\u001b[0m\n\u001b[0m\u001b[1;32m     24\u001b[0m \u001b[0mprint\u001b[0m\u001b[0;34m(\u001b[0m\u001b[0my_test\u001b[0m\u001b[0;34m[\u001b[0m\u001b[0;34m\"部件本次装机使用小时\"\u001b[0m\u001b[0;34m]\u001b[0m \u001b[0;34m-\u001b[0m \u001b[0mcph\u001b[0m\u001b[0;34m.\u001b[0m\u001b[0mpredict\u001b[0m\u001b[0;34m(\u001b[0m\u001b[0mx_test\u001b[0m\u001b[0;34m)\u001b[0m\u001b[0;34m)\u001b[0m\u001b[0;34m\u001b[0m\u001b[0;34m\u001b[0m\u001b[0m\n",
      "\u001b[0;31mAttributeError\u001b[0m: 'Pipeline' object has no attribute 'predict_survival_function'"
     ]
    },
    {
     "data": {
      "image/png": "[encoded data removed]",
      "text/plain": [
       "<Figure size 432x288 with 1 Axes>"
      ]
     },
     "metadata": {},
     "output_type": "display_data"
    }
   ],
   "source": [
    "from sklearn.pipeline import make_pipeline\n",
    "\n",
    "y = data_y.to_records(index=False)\n",
    "\n",
    "x_train, x_test, y_train, y_test = train_test_split(data_x, y, test_size=0.2)#, random_state=1)\n",
    "\n",
    "cph = make_pipeline(OneHotEncoder(), CoxPHSurvivalAnalysis())\n",
    "cph.fit(x_train, y_train)\n",
    "\n",
    "result = concordance_index_censored(y_test[\"IsPlanned\"], y_test[\"部件本次装机使用小时\"], cph.predict(x_test))\n",
    "print(result[0])\n",
    "\n",
    "# estimate performance on training data, thus use `va_y` twice.\n",
    "va_auc, va_mean_auc = cumulative_dynamic_auc(y_train, y_test, cph.predict(x_test), times)\n",
    "\n",
    "plt.plot(times, va_auc, marker=\"o\")\n",
    "plt.axhline(va_mean_auc, linestyle=\"--\")\n",
    "plt.xlabel(\"time from enrollment\")\n",
    "plt.ylabel(\"time-dependent AUC\")\n",
    "plt.grid(True)\n",
    "\n",
    "print(y_test[\"部件本次装机使用小时\"])\n",
    "print(cph.predict_survival_function(x_test))\n",
    "print(y_test[\"部件本次装机使用小时\"] - cph.predict(x_test))"
   ]
  },
  {
   "cell_type": "markdown",
   "metadata": {},
   "source": [
    "# Part4"
   ]
  },
  {
   "cell_type": "code",
   "execution_count": 130,
   "metadata": {},
   "outputs": [],
   "source": [
    "%matplotlib inline\n",
    "import numpy as np\n",
    "import matplotlib.pyplot as plt\n",
    "import pandas\n",
    "import seaborn as sns\n",
    "from sklearn.model_selection import ShuffleSplit, GridSearchCV\n",
    "\n",
    "from sksurv.datasets import load_veterans_lung_cancer\n",
    "from sksurv.column import encode_categorical\n",
    "from sksurv.metrics import concordance_index_censored\n",
    "from sksurv.svm import FastSurvivalSVM\n",
    "\n",
    "sns.set_style(\"whitegrid\")"
   ]
  },
  {
   "cell_type": "code",
   "execution_count": 131,
   "metadata": {},
   "outputs": [
    {
     "name": "stderr",
     "output_type": "stream",
     "text": [
      "/root/anaconda2/envs/python3/lib/python3.6/site-packages/ipykernel_launcher.py:6: SettingWithCopyWarning: \n",
      "A value is trying to be set on a copy of a slice from a DataFrame.\n",
      "Try using .loc[row_indexer,col_indexer] = value instead\n",
      "\n",
      "See the caveats in the documentation: http://pandas.pydata.org/pandas-docs/stable/indexing.html#indexing-view-versus-copy\n",
      "  \n"
     ]
    }
   ],
   "source": [
    "data_x = data1[[\"机型\",\"安装年度\",\"部件装上飞行小时数\",\"部件装上使用小时数\",\"FH TSN\", \"最近送修公司\",\"PlanePartType\"]]\n",
    "\n",
    "cat_features = [\"机型\", \"安装年度\", \"最近送修公司\",\"PlanePartType\"]\n",
    "\n",
    "for col in cat_features:\n",
    "    data_x[col] = data_x[col].astype('category')"
   ]
  },
  {
   "cell_type": "code",
   "execution_count": 159,
   "metadata": {},
   "outputs": [],
   "source": [
    "x = OneHotEncoder().fit_transform(data_x)#encode_categorical(data_x)"
   ]
  },
  {
   "cell_type": "code",
   "execution_count": 160,
   "metadata": {},
   "outputs": [
    {
     "data": {
      "text/plain": [
       "FastSurvivalSVM(alpha=0.015625, fit_intercept=False, max_iter=1000,\n",
       "        optimizer='rbtree', random_state=0, rank_ratio=0.0, timeit=False,\n",
       "        tol=1e-06, verbose=False)"
      ]
     },
     "execution_count": 160,
     "metadata": {},
     "output_type": "execute_result"
    }
   ],
   "source": [
    "x_train, x_test, y_train, y_test = train_test_split(x, y, test_size=0.3)#, random_state=1)\n",
    "estimator = FastSurvivalSVM(optimizer=\"rbtree\",rank_ratio=0.0, max_iter=1000, tol=1e-6, random_state=0, alpha=2.**-6)\n",
    "estimator.fit(x_train, y_train)"
   ]
  },
  {
   "cell_type": "code",
   "execution_count": 161,
   "metadata": {},
   "outputs": [
    {
     "name": "stdout",
     "output_type": "stream",
     "text": [
      "0.5744231561598682\n"
     ]
    }
   ],
   "source": [
    "prediction = estimator.predict(x_test)\n",
    "result = concordance_index_censored(y_test[\"IsPlanned\"], y_test[\"部件本次装机使用小时\"], prediction)\n",
    "print(result[0])"
   ]
  },
  {
   "cell_type": "code",
   "execution_count": 162,
   "metadata": {},
   "outputs": [
    {
     "data": {
      "text/plain": [
       "array([3.80798839e+04, 1.17224212e+05, 2.58471438e+00, 3.90151964e+03,\n",
       "       1.37620326e+01, 1.28918585e+02, 1.82483675e+02, 6.77225783e+01,\n",
       "       4.98668826e+01, 7.47552252e+02, 5.81953136e+01, 4.48475905e+02,\n",
       "       4.80917787e+01, 7.26665835e+03, 5.58728388e+01, 3.90171909e+02,\n",
       "       4.92458309e+02, 1.62738487e+01, 1.72644681e+03, 3.68704384e+03,\n",
       "       2.90190206e+00, 4.33967128e+04, 1.27270915e+01, 2.05282568e+03,\n",
       "       2.15057752e+02, 2.03550200e+01, 4.66880718e+03, 1.03293408e+03,\n",
       "       1.55666273e+02, 9.51705672e+01, 3.32296128e+01, 8.43293679e+01,\n",
       "       1.22491744e+03, 3.69915810e+00, 7.10670414e+02, 3.94242404e+01,\n",
       "       6.00051478e+00, 1.30702851e+02, 9.75539791e+04, 9.07778085e+04,\n",
       "       2.50752172e+03, 6.40670491e+03, 1.22472558e+02, 3.04171670e+03,\n",
       "       6.01351139e+01, 6.36606102e+02, 6.86529186e+02, 1.41367543e+03,\n",
       "       6.60681833e+02, 1.03273870e+04, 6.19720198e+04, 8.85110488e+03,\n",
       "       1.26446042e+03, 1.34748528e+04, 8.11509228e+03, 7.97379837e+02,\n",
       "       7.04872189e+02, 8.90411826e+01, 4.72310448e+02, 8.50712000e+01,\n",
       "       1.95045259e+01, 8.95504618e+00, 4.82279797e+02, 4.44167718e+02,\n",
       "       4.86032570e+02, 1.56467094e+02, 3.64782550e+03, 1.02012664e+03,\n",
       "       1.49797379e+05, 9.53885520e+02, 2.08445483e+03, 4.27287204e+02,\n",
       "       1.30091131e+01, 3.19967988e+00, 1.96908786e+02, 7.13569449e+02,\n",
       "       1.96493324e+02, 1.20507290e+04, 4.75307478e+06, 4.65855438e+05,\n",
       "       5.70591857e+02, 1.82854394e+04, 4.43784366e+02, 6.88762379e+02,\n",
       "       1.25722960e+04, 1.09239448e+04, 4.27189275e+03, 3.21012664e+02,\n",
       "       7.14402589e+01, 5.22567060e+04, 1.38162695e+02, 3.66670035e+02,\n",
       "       2.05275118e+00, 5.31170458e+01, 1.22039316e+03, 6.92844148e+03,\n",
       "       3.31444214e+02, 9.60979663e+02, 1.72884225e+03, 3.71251481e+01,\n",
       "       7.17682333e+02, 5.04156236e+00, 1.95780165e+03, 4.11835801e+01,\n",
       "       2.25970060e+02, 8.65082958e+04, 1.46725249e+01, 4.87748626e+00,\n",
       "       1.79937438e+05, 3.27640785e+05, 3.26540529e+02, 9.54675757e+03,\n",
       "       7.60634104e+02, 3.26964911e+03, 1.35274131e+01, 1.36748190e+01,\n",
       "       2.16210182e+03, 1.80108863e+03, 2.34067941e+04, 7.30357241e+01,\n",
       "       3.20495182e+02, 4.76667727e+02, 2.83218216e+04, 9.03025602e+02,\n",
       "       2.78358361e+03, 5.03919020e+02, 8.69267856e+01, 1.52175455e+02,\n",
       "       1.42268069e+02, 3.17379331e+04, 2.64552198e+01, 2.39048553e+03,\n",
       "       7.54372383e+00, 2.06963089e+02, 1.96027914e+01, 1.31720129e+03,\n",
       "       3.58523550e+02, 4.44129966e+01, 1.40048432e+03, 8.14582610e+04,\n",
       "       4.44129975e+01, 1.95548761e+01, 8.38030809e+04, 7.72975737e+00,\n",
       "       1.40795857e+02, 1.20648029e+02, 5.41347936e+00, 1.03597280e+03,\n",
       "       2.02770550e+02, 4.14274803e+03, 2.57231425e+02, 9.07358285e+04,\n",
       "       4.11188712e+02, 9.84760474e+00, 3.56313383e+00, 2.24067514e+02,\n",
       "       1.83240214e+02, 1.59375203e+02, 4.60152839e+02, 8.83803398e+03,\n",
       "       2.56950676e+05, 4.98305944e+01, 9.37690069e+03, 1.63186730e+03,\n",
       "       2.00430797e+03, 1.73025385e+02, 1.79682036e+03, 9.14650693e+02,\n",
       "       1.03948213e+06, 6.02004720e+01, 3.23547493e+02, 8.59307320e+02,\n",
       "       3.28778707e+03, 7.65791671e+04, 1.16596317e+01, 9.59964939e+02,\n",
       "       8.08184873e+02, 8.68509580e+03, 9.35649327e+01, 1.89820368e+02,\n",
       "       2.60759102e+04, 1.80740300e+01, 3.31702580e+02, 4.54319802e+02,\n",
       "       1.78119003e+01, 2.36993250e+04, 1.81487911e+01, 2.70106122e+02,\n",
       "       3.19489218e+02, 3.28837462e+04, 3.26191440e+01, 2.49314265e+01,\n",
       "       1.09887276e+04, 5.12238375e+02, 5.77883925e+00, 2.57832614e+01,\n",
       "       3.82395509e+04, 3.28093734e+04, 2.22627868e+01, 2.35933644e+03,\n",
       "       4.48688522e+02, 5.43398365e+03, 4.01269876e+03, 1.76226137e+03,\n",
       "       9.98383102e+01, 1.01141538e+04, 8.24180677e+03, 7.01902667e+02,\n",
       "       3.46413695e+01, 2.60325372e+03, 1.22041626e+02, 5.81958050e+04,\n",
       "       4.06786522e+03, 3.19907084e+02, 1.66118182e+04, 1.23493797e+03,\n",
       "       1.36247407e+02, 3.49630401e+02, 3.19628306e+02, 9.02593579e+06,\n",
       "       1.76912061e+01, 3.04942189e+01, 2.31016682e+03, 9.28487893e+01,\n",
       "       6.50854658e+03, 4.72816354e+01, 1.62044163e+05, 4.96400264e+01,\n",
       "       1.44668826e+03, 6.63751600e+01, 8.62485470e+03, 1.25882885e+01,\n",
       "       4.36678698e+01, 1.02859582e+03, 1.01539488e+03, 8.17888672e+02,\n",
       "       2.09642718e+01, 5.91630862e+02, 1.04409021e+02, 5.18525146e+03,\n",
       "       3.59527407e+03, 2.51056388e+02, 2.69600526e+04, 2.97319173e+03,\n",
       "       6.70141498e+01, 5.39294995e+01, 1.43899166e+01, 6.20492288e+03,\n",
       "       4.25516533e+03, 2.08355017e+04, 2.10119242e+02, 3.64693997e+04,\n",
       "       1.16427659e+03, 4.03038327e+01, 2.15342502e+01, 3.09842262e+04,\n",
       "       1.00022800e+06, 5.86454451e+03, 1.12137521e+02, 5.09356787e+02,\n",
       "       1.21250515e+01, 4.22204935e+00, 5.72518886e+02, 1.10799308e+03,\n",
       "       1.17853316e+04, 8.07660443e+01, 1.40234534e+02, 2.74303841e+03,\n",
       "       1.69875116e+02, 4.61481268e+05, 2.72545915e+02, 2.75124210e+00,\n",
       "       1.70467751e+04, 9.73366993e+02, 1.81374758e+01, 4.81871174e+01,\n",
       "       3.10522210e+02, 4.33829560e+03, 3.39016264e+04, 2.58317098e+00,\n",
       "       1.48036852e+05, 4.36217546e+02, 6.18078564e+02, 2.27230281e+02,\n",
       "       1.41684424e+02, 5.65415403e+02, 1.21963784e+03, 8.67833554e+01,\n",
       "       9.96735993e+02, 1.18690247e+02, 2.07135093e+01, 3.19314280e+03,\n",
       "       3.01537960e+00, 1.15251602e+03, 9.96735992e+02, 1.86721423e+01,\n",
       "       1.50986828e+04, 1.80642736e+05, 1.31612320e+03, 2.77794282e+04,\n",
       "       4.21486394e+02, 2.98245840e+05, 9.96735992e+02, 1.16688323e+04,\n",
       "       9.04297498e+01, 3.12108409e+02, 7.78619443e+03, 3.27272709e+05,\n",
       "       4.31234880e+02, 5.44546475e+03, 9.40009093e+03, 3.42676501e+02,\n",
       "       1.18212632e+03, 4.29745559e+02, 3.68457199e+04, 1.36536892e+00,\n",
       "       4.58633528e+03, 1.09211711e+04, 6.23651162e+01, 2.82919169e+01,\n",
       "       4.43980800e+01, 7.76146391e+02, 1.13513516e+02, 2.85032231e+06,\n",
       "       3.70047478e+02, 6.92344271e+04, 3.10291536e+00, 8.87141899e+02,\n",
       "       1.46392908e+02, 7.31360162e+04, 5.81120413e+03, 3.57893245e+06,\n",
       "       4.84328915e+00, 9.92007695e+05, 6.51495754e+00, 1.13174860e+03,\n",
       "       4.34428252e+01, 1.83244364e+00, 6.37622388e+04, 1.80553556e+04,\n",
       "       2.21105816e+01, 2.50685574e+02, 6.03438287e+02, 1.17013204e+01,\n",
       "       2.53154260e+02, 7.45897958e+01, 3.75422315e+03, 8.39032826e+02,\n",
       "       4.29167773e+00, 1.19466935e+01, 9.90726973e+02, 6.16635393e+02,\n",
       "       3.03832933e+05, 4.38242944e+02, 2.38603327e+04, 1.73064572e+04,\n",
       "       4.94792289e+02, 1.37633479e+05, 1.17263148e+01, 7.07794186e+02,\n",
       "       8.40030977e+03, 8.37958877e+03, 2.17234267e+01, 1.10968607e+05,\n",
       "       7.54457246e+01, 4.31083643e+04, 7.92901413e+03, 1.45157952e+04,\n",
       "       4.11796507e+05, 5.28077691e+02, 1.57425137e+03, 4.40736211e+04,\n",
       "       2.22627868e+01, 1.77059836e+02, 2.70767412e+03, 5.57087673e+00,\n",
       "       7.14402589e+01, 1.08936611e+01, 3.62901387e+01, 2.59739147e+02,\n",
       "       8.90411825e+01, 7.26983672e+02, 1.87603144e+02, 1.75995969e+05,\n",
       "       1.10157741e+02, 1.89701824e+05, 5.37466060e+03, 9.82268031e+01,\n",
       "       2.37385555e+01, 1.37054685e+05, 4.05617383e+01, 2.38193919e+02,\n",
       "       2.41549230e+01, 1.44635597e+01, 1.36973225e+02, 1.00124967e+04,\n",
       "       3.39748415e+03, 6.54259226e+01, 1.26903019e+02, 4.35000204e+02,\n",
       "       6.55767960e+02, 1.56806901e+01, 5.91630873e+02, 5.28996506e+03,\n",
       "       5.53630603e+04, 2.74742524e+02, 7.53958981e+03, 5.01115351e+02,\n",
       "       1.45038269e+05, 7.72205982e+03, 4.05080135e+04, 2.63058237e+01,\n",
       "       4.40112124e+05, 6.98991383e+03, 7.44103709e+01, 7.98362897e+01,\n",
       "       6.80438056e+01, 3.06047857e+02, 1.30889144e+01, 2.28050949e+01,\n",
       "       2.58759669e+01, 6.62628698e+04, 4.22472309e+03, 1.06630509e+02,\n",
       "       4.19816858e+01, 1.72938523e+04, 1.49430351e+02, 2.99810207e+02,\n",
       "       3.53651965e+03, 8.82181273e+01, 2.22118001e+05, 4.98122586e+04,\n",
       "       3.90306099e+02, 2.71018626e+00, 4.49466025e+01, 2.75279642e+03,\n",
       "       8.77299740e+01, 5.65650808e+04, 2.18756829e+02, 6.25758204e+02,\n",
       "       8.87182493e+02, 6.60984073e+03, 2.72580209e+03, 4.17959958e+04,\n",
       "       4.19723567e+01, 3.85426782e+02, 4.28109211e+01, 1.20489641e+04,\n",
       "       2.83568325e+01, 6.78245957e+01, 2.31489592e+05, 7.58037547e+03,\n",
       "       7.20105950e+01, 8.83670138e+03, 8.40397233e+03, 1.56151078e+03,\n",
       "       2.23878510e+01, 2.40853921e+01, 1.02628426e+00, 5.39444587e+01,\n",
       "       1.87059196e+02, 1.72469722e+04, 4.71226540e+02, 1.20305377e+02,\n",
       "       1.46762185e+03, 1.30512682e+04, 1.60131060e+03, 4.50523723e+04,\n",
       "       1.13990294e+04, 7.60546656e+00, 1.79316332e+02, 1.08694349e+03,\n",
       "       9.36938105e+04, 2.20975853e+03, 7.28944579e+03, 1.30796905e+01,\n",
       "       7.12930473e+02, 7.02993659e+03, 3.54547111e+01, 2.46930186e+03,\n",
       "       1.68218803e+02, 6.10593693e+02, 2.72404747e+03, 1.80726054e+02,\n",
       "       2.11636403e+01, 3.44244012e+04, 1.15755434e+02, 2.37522623e+01,\n",
       "       3.90212390e+01, 2.81686387e+02, 1.27143858e+01, 7.25316266e+02,\n",
       "       1.92962300e+03, 3.22737361e+04, 2.53776963e+02, 1.06730735e+02,\n",
       "       2.08386377e+04, 4.59392830e+01, 3.61833981e+04, 3.09260205e+03,\n",
       "       4.19638802e+04, 6.26945673e+02, 2.10518439e+06, 3.16368771e+04,\n",
       "       7.66984044e+01, 2.32859186e+03, 6.46917447e+04, 3.45003669e+01,\n",
       "       4.85187793e+02, 3.00937921e+01, 2.22827595e+03, 4.44129974e+01,\n",
       "       2.68835897e+04, 5.01115361e+02, 1.11056914e+04, 6.55578360e+03,\n",
       "       6.43946593e+03, 3.22853098e+02, 1.46845630e+02, 2.24086765e+01,\n",
       "       7.96388495e+02, 1.84001216e+03, 1.50986828e+04, 5.31728112e+02,\n",
       "       6.67726547e+05, 9.23730990e+02, 2.37241242e+01, 6.44459982e+04,\n",
       "       3.83216661e+01, 2.83532190e+02, 1.92422722e+01, 7.42021608e+02,\n",
       "       1.98959424e+03, 6.52659270e+02, 1.38846062e+03, 1.29736069e+03,\n",
       "       7.52207772e+01, 4.75539747e+00, 7.83982445e+02, 3.20782461e+02,\n",
       "       1.34132970e+04, 1.40715765e+05, 3.75316213e+00, 7.28944579e+03,\n",
       "       5.86454451e+03, 2.99918505e+02, 1.38337494e+03, 1.09130073e+03,\n",
       "       2.26593925e+04, 5.99054085e+01, 9.72570475e+01, 3.64782550e+03,\n",
       "       1.27148997e+02, 4.59724444e+04, 1.16887304e+05, 4.61246824e+02,\n",
       "       3.46538828e+02, 2.44389343e+02, 5.22400116e+02, 4.58997303e+01,\n",
       "       2.00491860e+00, 2.34319996e+03, 3.97400745e+01, 2.56040313e+01,\n",
       "       6.51495754e+00, 2.10104291e+06, 1.70583116e+03, 1.05212298e+05,\n",
       "       1.78781515e+02, 1.27542037e+01, 7.63462500e+03, 7.22862676e+04,\n",
       "       1.38443664e+02, 1.91465820e+02, 6.09346443e+03, 2.60610909e+03,\n",
       "       1.30236088e+03, 2.90190200e+00, 2.56140811e+04, 1.37000874e+05,\n",
       "       1.32255455e+03, 1.08187987e+05, 2.98733520e+01, 3.07240398e+01,\n",
       "       3.28146978e+04, 6.99146637e+03, 9.54773998e+02, 2.61557789e+01,\n",
       "       6.16329882e+00, 1.12157022e+04, 8.17418063e+03, 2.09775613e+02,\n",
       "       2.34371843e+04, 1.76675368e+03, 7.11075069e+01, 4.86630817e+04,\n",
       "       7.08958258e+02, 1.42305142e+01, 4.48575865e+00, 4.08330144e+03,\n",
       "       3.65717870e+03, 5.28755953e+03, 2.24974055e+05, 2.03129386e+02,\n",
       "       7.13491720e+03, 3.81584268e+02, 4.57771728e+01, 1.55553755e+04,\n",
       "       3.09260205e+03, 1.75382116e+01, 2.19083051e+02, 3.97075095e+03,\n",
       "       1.05052650e+02, 2.00004762e+03, 1.94860481e+02, 2.39694862e+03,\n",
       "       4.86982724e+03, 1.19451171e+03, 2.59883342e+01, 1.64790950e+04,\n",
       "       1.49030025e+02, 1.10219802e+03, 1.33567451e+02, 4.47535534e+00,\n",
       "       3.68324625e+02, 1.76522741e+03, 1.04279918e+04, 1.84358453e+02,\n",
       "       6.69188989e+01, 1.09041149e+01, 7.39617546e+02, 5.59394182e+01,\n",
       "       3.58391772e+01, 7.28944580e+03, 4.63413199e+06, 1.84900212e+05,\n",
       "       2.26694446e+02, 5.06482674e+03, 2.09194964e+01, 7.92506667e+02,\n",
       "       4.71041908e+02, 2.00090557e+03, 6.30048354e+03, 5.38698122e+02,\n",
       "       5.92903196e+05, 4.30854779e+03, 4.49863718e+04, 2.13244873e+04,\n",
       "       1.71736231e+02, 6.43946593e+03, 1.90050662e+02, 2.31857464e+01,\n",
       "       9.96858940e+03, 2.99189732e+03, 1.16730384e+05, 2.75279637e+03,\n",
       "       1.62816251e+02, 2.46765152e+04, 3.25374864e+03, 4.28346317e+03,\n",
       "       6.15392812e+01, 1.60152485e+03, 7.21330646e+02, 2.30440184e+03,\n",
       "       1.80634566e+05, 3.38678933e+03, 4.87636130e+02, 1.25162364e+02,\n",
       "       6.55671373e+00, 2.64558402e+01, 5.58659584e+02, 5.72027242e+04,\n",
       "       9.55036863e+01, 4.39852633e+03, 2.06558799e+03, 6.41932005e+02,\n",
       "       3.24377655e+02, 2.67924930e+01, 2.10108011e+02, 1.23927818e+04,\n",
       "       2.17513754e+05, 1.67596562e+01, 3.23818025e+00, 6.31287150e+01,\n",
       "       5.05457079e+04, 6.15392812e+01, 8.07031870e+02, 1.04834467e+01,\n",
       "       5.70591868e+02, 1.30069812e+03, 1.90050662e+02, 1.99596661e+01,\n",
       "       8.42934862e+00, 2.73868192e+01, 6.84072529e+02, 3.70152317e+03,\n",
       "       1.58299862e+03, 1.03925069e+05, 1.42922156e+01, 8.90411826e+01,\n",
       "       7.23722647e+04, 4.72572322e+03, 1.08105629e+02, 1.12309687e+06,\n",
       "       9.73264994e+01, 1.90775441e+02, 6.67858826e+03, 1.14491276e+04,\n",
       "       7.42750158e+02, 1.98543565e+03, 1.25158942e+04, 4.44734900e+00,\n",
       "       4.65104971e+00, 2.60396530e+02, 2.37400641e+01, 1.75807623e+02,\n",
       "       8.78441702e+01, 5.88898369e+01, 9.41620032e+00, 2.38381072e+03,\n",
       "       9.79149964e+01, 1.28463436e+03, 1.09111469e+03, 4.17359679e+01,\n",
       "       1.34748528e+04, 8.79482794e+04, 2.33059478e+01, 6.38122355e+02,\n",
       "       1.10185429e+03, 8.15953821e+00, 4.99526997e+00, 9.10250257e+02,\n",
       "       7.72154323e+03, 5.39902910e+02, 1.23670125e+04, 1.66637410e+05,\n",
       "       2.32731816e+05, 4.33032978e+02, 9.58390332e+01, 3.15707659e+02,\n",
       "       1.41944992e+03, 1.59600138e+02, 1.33801669e+02, 8.85017924e+03,\n",
       "       1.47762364e+02, 1.35527818e+04, 1.38588805e+01, 2.55429029e+03,\n",
       "       6.43946593e+03, 1.42718681e+01, 3.64782550e+03, 1.59555933e+02,\n",
       "       2.84265881e+04, 9.01079268e+04, 1.14630751e+02, 2.34319996e+03,\n",
       "       5.70591857e+02, 7.33445053e+04, 5.03919019e+02, 4.10069088e+02,\n",
       "       1.84476953e+01, 2.66499380e+03, 1.64904829e+04, 2.18279766e+04,\n",
       "       3.65330091e+01, 1.46006571e+01, 4.03006311e+00, 2.15408579e+01,\n",
       "       2.40455576e+03, 6.90299274e+05, 1.26665333e+01, 1.59007273e+03,\n",
       "       2.39165024e+01])"
      ]
     },
     "execution_count": 162,
     "metadata": {},
     "output_type": "execute_result"
    }
   ],
   "source": [
    "estimator.predict(x_train)"
   ]
  },
  {
   "cell_type": "code",
   "execution_count": 61,
   "metadata": {},
   "outputs": [],
   "source": [
    "estimator = FastSurvivalSVM(optimizer=\"rbtree\", max_iter=1000, tol=1e-6, random_state=0)"
   ]
  },
  {
   "cell_type": "code",
   "execution_count": 62,
   "metadata": {},
   "outputs": [],
   "source": [
    "def score_survival_model(model, X, y):\n",
    "    prediction = model.predict(X)\n",
    "    result = concordance_index_censored(y['IsPlanned'], y['部件本次装机使用小时'], prediction)\n",
    "    return result[0]"
   ]
  },
  {
   "cell_type": "code",
   "execution_count": 63,
   "metadata": {},
   "outputs": [],
   "source": [
    "param_grid = {'alpha': 2. ** np.arange(-12, 13, 2)}\n",
    "cv = ShuffleSplit(n_splits=20, test_size=0.4, random_state=0)\n",
    "gcv = GridSearchCV(estimator, param_grid, scoring=score_survival_model,\n",
    "                   n_jobs=12, iid=False, refit=False,\n",
    "                   cv=cv)"
   ]
  },
  {
   "cell_type": "code",
   "execution_count": 64,
   "metadata": {},
   "outputs": [
    {
     "data": {
      "text/plain": [
       "{'alpha': array([2.44140625e-04, 9.76562500e-04, 3.90625000e-03, 1.56250000e-02,\n",
       "        6.25000000e-02, 2.50000000e-01, 1.00000000e+00, 4.00000000e+00,\n",
       "        1.60000000e+01, 6.40000000e+01, 2.56000000e+02, 1.02400000e+03,\n",
       "        4.09600000e+03])}"
      ]
     },
     "execution_count": 64,
     "metadata": {},
     "output_type": "execute_result"
    }
   ],
   "source": [
    "param_grid"
   ]
  },
  {
   "cell_type": "code",
   "execution_count": 65,
   "metadata": {},
   "outputs": [],
   "source": [
    "import warnings\n",
    "y = data_y.to_records(index=False)\n",
    "warnings.filterwarnings(\"ignore\", category=UserWarning)\n",
    "gcv = gcv.fit(x, y)"
   ]
  },
  {
   "cell_type": "code",
   "execution_count": 66,
   "metadata": {},
   "outputs": [
    {
     "data": {
      "text/plain": [
       "(0.687600449121407, {'alpha': 0.000244140625})"
      ]
     },
     "execution_count": 66,
     "metadata": {},
     "output_type": "execute_result"
    }
   ],
   "source": [
    "gcv.best_score_, gcv.best_params_"
   ]
  },
  {
   "cell_type": "code",
   "execution_count": 67,
   "metadata": {},
   "outputs": [],
   "source": [
    "def plot_performance(gcv):\n",
    "    n_splits = gcv.cv.n_splits\n",
    "    cv_scores = {\"alpha\": [], \"test_score\": [], \"split\": []}\n",
    "    order = []\n",
    "    for i, params in enumerate(gcv.cv_results_[\"params\"]):            \n",
    "        name = \"%.5f\" % params[\"alpha\"]\n",
    "        order.append(name)\n",
    "        for j in range(n_splits):\n",
    "            vs = gcv.cv_results_[\"split%d_test_score\" % j][i]\n",
    "            cv_scores[\"alpha\"].append(name)\n",
    "            cv_scores[\"test_score\"].append(vs)\n",
    "            cv_scores[\"split\"].append(j)\n",
    "    df = pandas.DataFrame.from_dict(cv_scores)\n",
    "    _, ax = plt.subplots(figsize=(11, 6))\n",
    "    sns.boxplot(x=\"alpha\", y=\"test_score\", data=df, order=order, ax=ax)\n",
    "    _, xtext = plt.xticks()\n",
    "    for t in xtext:\n",
    "        t.set_rotation(\"vertical\")"
   ]
  },
  {
   "cell_type": "code",
   "execution_count": 68,
   "metadata": {},
   "outputs": [
    {
     "data": {
      "image/png": "[encoded data removed]",
      "text/plain": [
       "<Figure size 792x432 with 1 Axes>"
      ]
     },
     "metadata": {},
     "output_type": "display_data"
    }
   ],
   "source": [
    "plot_performance(gcv)"
   ]
  },
  {
   "cell_type": "code",
   "execution_count": 106,
   "metadata": {},
   "outputs": [],
   "source": [
    "from sksurv.svm import FastKernelSurvivalSVM\n",
    "from sksurv.kernels import clinical_kernel"
   ]
  },
  {
   "cell_type": "code",
   "execution_count": 107,
   "metadata": {},
   "outputs": [
    {
     "data": {
      "text/plain": [
       "FastKernelSurvivalSVM(alpha=0.015625, coef0=1, degree=3, fit_intercept=False,\n",
       "           gamma=None, kernel='precomputed', kernel_params=None,\n",
       "           max_iter=20, optimizer='rbtree', random_state=0, rank_ratio=1.0,\n",
       "           timeit=False, tol=None, verbose=False)"
      ]
     },
     "execution_count": 107,
     "metadata": {},
     "output_type": "execute_result"
    }
   ],
   "source": [
    "x_train, x_test, y_train, y_test = train_test_split(data_x, y, test_size=0.5)#, random_state=1)\n",
    "kernel_matrix = clinical_kernel(x_train)\n",
    "kssvm = FastKernelSurvivalSVM(optimizer=\"rbtree\", kernel=\"precomputed\", random_state=0, alpha=2.**-6)\n",
    "kssvm.fit(kernel_matrix, y_train)"
   ]
  },
  {
   "cell_type": "code",
   "execution_count": 108,
   "metadata": {},
   "outputs": [
    {
     "data": {
      "text/plain": [
       "(553, 7)"
      ]
     },
     "execution_count": 108,
     "metadata": {},
     "output_type": "execute_result"
    }
   ],
   "source": [
    "x_test.shape"
   ]
  },
  {
   "cell_type": "code",
   "execution_count": 109,
   "metadata": {},
   "outputs": [
    {
     "name": "stdout",
     "output_type": "stream",
     "text": [
      "0.6438882846429413\n"
     ]
    }
   ],
   "source": [
    "kernel_matrix = clinical_kernel(x_test[0:552])\n",
    "prediction = kssvm.predict(kernel_matrix)\n",
    "result = concordance_index_censored(y_test[0:552][\"IsPlanned\"], y_test[0:552][\"部件本次装机使用小时\"], prediction)\n",
    "print(result[0])"
   ]
  },
  {
   "cell_type": "code",
   "execution_count": 70,
   "metadata": {},
   "outputs": [],
   "source": [
    "kernel_matrix = clinical_kernel(data_x)\n",
    "kssvm = FastKernelSurvivalSVM(optimizer=\"rbtree\", kernel=\"precomputed\", random_state=0, alpha=2.**-12)"
   ]
  },
  {
   "cell_type": "code",
   "execution_count": 71,
   "metadata": {},
   "outputs": [],
   "source": [
    "kgcv = GridSearchCV(kssvm, param_grid, score_survival_model,\n",
    "                    n_jobs=12, iid=False, refit=False,\n",
    "                    cv=cv)"
   ]
  },
  {
   "cell_type": "code",
   "execution_count": 72,
   "metadata": {},
   "outputs": [
    {
     "ename": "KeyboardInterrupt",
     "evalue": "",
     "output_type": "error",
     "traceback": [
      "\u001b[0;31m---------------------------------------------------------------------------\u001b[0m",
      "\u001b[0;31mKeyboardInterrupt\u001b[0m                         Traceback (most recent call last)",
      "\u001b[0;32m<ipython-input-72-71cd5ba67e27>\u001b[0m in \u001b[0;36m<module>\u001b[0;34m\u001b[0m\n\u001b[1;32m      1\u001b[0m \u001b[0;32mimport\u001b[0m \u001b[0mwarnings\u001b[0m\u001b[0;34m\u001b[0m\u001b[0;34m\u001b[0m\u001b[0m\n\u001b[1;32m      2\u001b[0m \u001b[0mwarnings\u001b[0m\u001b[0;34m.\u001b[0m\u001b[0mfilterwarnings\u001b[0m\u001b[0;34m(\u001b[0m\u001b[0;34m\"ignore\"\u001b[0m\u001b[0;34m,\u001b[0m \u001b[0mcategory\u001b[0m\u001b[0;34m=\u001b[0m\u001b[0mUserWarning\u001b[0m\u001b[0;34m)\u001b[0m\u001b[0;34m\u001b[0m\u001b[0;34m\u001b[0m\u001b[0m\n\u001b[0;32m----> 3\u001b[0;31m \u001b[0mkgcv\u001b[0m \u001b[0;34m=\u001b[0m \u001b[0mkgcv\u001b[0m\u001b[0;34m.\u001b[0m\u001b[0mfit\u001b[0m\u001b[0;34m(\u001b[0m\u001b[0mkernel_matrix\u001b[0m\u001b[0;34m,\u001b[0m \u001b[0my\u001b[0m\u001b[0;34m)\u001b[0m\u001b[0;34m\u001b[0m\u001b[0;34m\u001b[0m\u001b[0m\n\u001b[0m",
      "\u001b[0;32m~/anaconda2/envs/python3/lib/python3.6/site-packages/sklearn/model_selection/_search.py\u001b[0m in \u001b[0;36mfit\u001b[0;34m(self, X, y, groups, **fit_params)\u001b[0m\n\u001b[1;32m    720\u001b[0m                 \u001b[0;32mreturn\u001b[0m \u001b[0mresults_container\u001b[0m\u001b[0;34m[\u001b[0m\u001b[0;36m0\u001b[0m\u001b[0;34m]\u001b[0m\u001b[0;34m\u001b[0m\u001b[0;34m\u001b[0m\u001b[0m\n\u001b[1;32m    721\u001b[0m \u001b[0;34m\u001b[0m\u001b[0m\n\u001b[0;32m--> 722\u001b[0;31m             \u001b[0mself\u001b[0m\u001b[0;34m.\u001b[0m\u001b[0m_run_search\u001b[0m\u001b[0;34m(\u001b[0m\u001b[0mevaluate_candidates\u001b[0m\u001b[0;34m)\u001b[0m\u001b[0;34m\u001b[0m\u001b[0;34m\u001b[0m\u001b[0m\n\u001b[0m\u001b[1;32m    723\u001b[0m \u001b[0;34m\u001b[0m\u001b[0m\n\u001b[1;32m    724\u001b[0m         \u001b[0mresults\u001b[0m \u001b[0;34m=\u001b[0m \u001b[0mresults_container\u001b[0m\u001b[0;34m[\u001b[0m\u001b[0;36m0\u001b[0m\u001b[0;34m]\u001b[0m\u001b[0;34m\u001b[0m\u001b[0;34m\u001b[0m\u001b[0m\n",
      "\u001b[0;32m~/anaconda2/envs/python3/lib/python3.6/site-packages/sklearn/model_selection/_search.py\u001b[0m in \u001b[0;36m_run_search\u001b[0;34m(self, evaluate_candidates)\u001b[0m\n\u001b[1;32m   1189\u001b[0m     \u001b[0;32mdef\u001b[0m \u001b[0m_run_search\u001b[0m\u001b[0;34m(\u001b[0m\u001b[0mself\u001b[0m\u001b[0;34m,\u001b[0m \u001b[0mevaluate_candidates\u001b[0m\u001b[0;34m)\u001b[0m\u001b[0;34m:\u001b[0m\u001b[0;34m\u001b[0m\u001b[0;34m\u001b[0m\u001b[0m\n\u001b[1;32m   1190\u001b[0m         \u001b[0;34m\"\"\"Search all candidates in param_grid\"\"\"\u001b[0m\u001b[0;34m\u001b[0m\u001b[0;34m\u001b[0m\u001b[0m\n\u001b[0;32m-> 1191\u001b[0;31m         \u001b[0mevaluate_candidates\u001b[0m\u001b[0;34m(\u001b[0m\u001b[0mParameterGrid\u001b[0m\u001b[0;34m(\u001b[0m\u001b[0mself\u001b[0m\u001b[0;34m.\u001b[0m\u001b[0mparam_grid\u001b[0m\u001b[0;34m)\u001b[0m\u001b[0;34m)\u001b[0m\u001b[0;34m\u001b[0m\u001b[0;34m\u001b[0m\u001b[0m\n\u001b[0m\u001b[1;32m   1192\u001b[0m \u001b[0;34m\u001b[0m\u001b[0m\n\u001b[1;32m   1193\u001b[0m \u001b[0;34m\u001b[0m\u001b[0m\n",
      "\u001b[0;32m~/anaconda2/envs/python3/lib/python3.6/site-packages/sklearn/model_selection/_search.py\u001b[0m in \u001b[0;36mevaluate_candidates\u001b[0;34m(candidate_params)\u001b[0m\n\u001b[1;32m    709\u001b[0m                                \u001b[0;32mfor\u001b[0m \u001b[0mparameters\u001b[0m\u001b[0;34m,\u001b[0m \u001b[0;34m(\u001b[0m\u001b[0mtrain\u001b[0m\u001b[0;34m,\u001b[0m \u001b[0mtest\u001b[0m\u001b[0;34m)\u001b[0m\u001b[0;34m\u001b[0m\u001b[0;34m\u001b[0m\u001b[0m\n\u001b[1;32m    710\u001b[0m                                in product(candidate_params,\n\u001b[0;32m--> 711\u001b[0;31m                                           cv.split(X, y, groups)))\n\u001b[0m\u001b[1;32m    712\u001b[0m \u001b[0;34m\u001b[0m\u001b[0m\n\u001b[1;32m    713\u001b[0m                 \u001b[0mall_candidate_params\u001b[0m\u001b[0;34m.\u001b[0m\u001b[0mextend\u001b[0m\u001b[0;34m(\u001b[0m\u001b[0mcandidate_params\u001b[0m\u001b[0;34m)\u001b[0m\u001b[0;34m\u001b[0m\u001b[0;34m\u001b[0m\u001b[0m\n",
      "\u001b[0;32m~/anaconda2/envs/python3/lib/python3.6/site-packages/sklearn/externals/joblib/parallel.py\u001b[0m in \u001b[0;36m__call__\u001b[0;34m(self, iterable)\u001b[0m\n\u001b[1;32m    928\u001b[0m \u001b[0;34m\u001b[0m\u001b[0m\n\u001b[1;32m    929\u001b[0m             \u001b[0;32mwith\u001b[0m \u001b[0mself\u001b[0m\u001b[0;34m.\u001b[0m\u001b[0m_backend\u001b[0m\u001b[0;34m.\u001b[0m\u001b[0mretrieval_context\u001b[0m\u001b[0;34m(\u001b[0m\u001b[0;34m)\u001b[0m\u001b[0;34m:\u001b[0m\u001b[0;34m\u001b[0m\u001b[0;34m\u001b[0m\u001b[0m\n\u001b[0;32m--> 930\u001b[0;31m                 \u001b[0mself\u001b[0m\u001b[0;34m.\u001b[0m\u001b[0mretrieve\u001b[0m\u001b[0;34m(\u001b[0m\u001b[0;34m)\u001b[0m\u001b[0;34m\u001b[0m\u001b[0;34m\u001b[0m\u001b[0m\n\u001b[0m\u001b[1;32m    931\u001b[0m             \u001b[0;31m# Make sure that we get a last message telling us we are done\u001b[0m\u001b[0;34m\u001b[0m\u001b[0;34m\u001b[0m\u001b[0;34m\u001b[0m\u001b[0m\n\u001b[1;32m    932\u001b[0m             \u001b[0melapsed_time\u001b[0m \u001b[0;34m=\u001b[0m \u001b[0mtime\u001b[0m\u001b[0;34m.\u001b[0m\u001b[0mtime\u001b[0m\u001b[0;34m(\u001b[0m\u001b[0;34m)\u001b[0m \u001b[0;34m-\u001b[0m \u001b[0mself\u001b[0m\u001b[0;34m.\u001b[0m\u001b[0m_start_time\u001b[0m\u001b[0;34m\u001b[0m\u001b[0;34m\u001b[0m\u001b[0m\n",
      "\u001b[0;32m~/anaconda2/envs/python3/lib/python3.6/site-packages/sklearn/externals/joblib/parallel.py\u001b[0m in \u001b[0;36mretrieve\u001b[0;34m(self)\u001b[0m\n\u001b[1;32m    831\u001b[0m             \u001b[0;32mtry\u001b[0m\u001b[0;34m:\u001b[0m\u001b[0;34m\u001b[0m\u001b[0;34m\u001b[0m\u001b[0m\n\u001b[1;32m    832\u001b[0m                 \u001b[0;32mif\u001b[0m \u001b[0mgetattr\u001b[0m\u001b[0;34m(\u001b[0m\u001b[0mself\u001b[0m\u001b[0;34m.\u001b[0m\u001b[0m_backend\u001b[0m\u001b[0;34m,\u001b[0m \u001b[0;34m'supports_timeout'\u001b[0m\u001b[0;34m,\u001b[0m \u001b[0;32mFalse\u001b[0m\u001b[0;34m)\u001b[0m\u001b[0;34m:\u001b[0m\u001b[0;34m\u001b[0m\u001b[0;34m\u001b[0m\u001b[0m\n\u001b[0;32m--> 833\u001b[0;31m                     \u001b[0mself\u001b[0m\u001b[0;34m.\u001b[0m\u001b[0m_output\u001b[0m\u001b[0;34m.\u001b[0m\u001b[0mextend\u001b[0m\u001b[0;34m(\u001b[0m\u001b[0mjob\u001b[0m\u001b[0;34m.\u001b[0m\u001b[0mget\u001b[0m\u001b[0;34m(\u001b[0m\u001b[0mtimeout\u001b[0m\u001b[0;34m=\u001b[0m\u001b[0mself\u001b[0m\u001b[0;34m.\u001b[0m\u001b[0mtimeout\u001b[0m\u001b[0;34m)\u001b[0m\u001b[0;34m)\u001b[0m\u001b[0;34m\u001b[0m\u001b[0;34m\u001b[0m\u001b[0m\n\u001b[0m\u001b[1;32m    834\u001b[0m                 \u001b[0;32melse\u001b[0m\u001b[0;34m:\u001b[0m\u001b[0;34m\u001b[0m\u001b[0;34m\u001b[0m\u001b[0m\n\u001b[1;32m    835\u001b[0m                     \u001b[0mself\u001b[0m\u001b[0;34m.\u001b[0m\u001b[0m_output\u001b[0m\u001b[0;34m.\u001b[0m\u001b[0mextend\u001b[0m\u001b[0;34m(\u001b[0m\u001b[0mjob\u001b[0m\u001b[0;34m.\u001b[0m\u001b[0mget\u001b[0m\u001b[0;34m(\u001b[0m\u001b[0;34m)\u001b[0m\u001b[0;34m)\u001b[0m\u001b[0;34m\u001b[0m\u001b[0;34m\u001b[0m\u001b[0m\n",
      "\u001b[0;32m~/anaconda2/envs/python3/lib/python3.6/site-packages/sklearn/externals/joblib/_parallel_backends.py\u001b[0m in \u001b[0;36mwrap_future_result\u001b[0;34m(future, timeout)\u001b[0m\n\u001b[1;32m    519\u001b[0m         AsyncResults.get from multiprocessing.\"\"\"\n\u001b[1;32m    520\u001b[0m         \u001b[0;32mtry\u001b[0m\u001b[0;34m:\u001b[0m\u001b[0;34m\u001b[0m\u001b[0;34m\u001b[0m\u001b[0m\n\u001b[0;32m--> 521\u001b[0;31m             \u001b[0;32mreturn\u001b[0m \u001b[0mfuture\u001b[0m\u001b[0;34m.\u001b[0m\u001b[0mresult\u001b[0m\u001b[0;34m(\u001b[0m\u001b[0mtimeout\u001b[0m\u001b[0;34m=\u001b[0m\u001b[0mtimeout\u001b[0m\u001b[0;34m)\u001b[0m\u001b[0;34m\u001b[0m\u001b[0;34m\u001b[0m\u001b[0m\n\u001b[0m\u001b[1;32m    522\u001b[0m         \u001b[0;32mexcept\u001b[0m \u001b[0mLokyTimeoutError\u001b[0m\u001b[0;34m:\u001b[0m\u001b[0;34m\u001b[0m\u001b[0;34m\u001b[0m\u001b[0m\n\u001b[1;32m    523\u001b[0m             \u001b[0;32mraise\u001b[0m \u001b[0mTimeoutError\u001b[0m\u001b[0;34m(\u001b[0m\u001b[0;34m)\u001b[0m\u001b[0;34m\u001b[0m\u001b[0;34m\u001b[0m\u001b[0m\n",
      "\u001b[0;32m~/anaconda2/envs/python3/lib/python3.6/concurrent/futures/_base.py\u001b[0m in \u001b[0;36mresult\u001b[0;34m(self, timeout)\u001b[0m\n\u001b[1;32m    425\u001b[0m                 \u001b[0;32mreturn\u001b[0m \u001b[0mself\u001b[0m\u001b[0;34m.\u001b[0m\u001b[0m__get_result\u001b[0m\u001b[0;34m(\u001b[0m\u001b[0;34m)\u001b[0m\u001b[0;34m\u001b[0m\u001b[0;34m\u001b[0m\u001b[0m\n\u001b[1;32m    426\u001b[0m \u001b[0;34m\u001b[0m\u001b[0m\n\u001b[0;32m--> 427\u001b[0;31m             \u001b[0mself\u001b[0m\u001b[0;34m.\u001b[0m\u001b[0m_condition\u001b[0m\u001b[0;34m.\u001b[0m\u001b[0mwait\u001b[0m\u001b[0;34m(\u001b[0m\u001b[0mtimeout\u001b[0m\u001b[0;34m)\u001b[0m\u001b[0;34m\u001b[0m\u001b[0;34m\u001b[0m\u001b[0m\n\u001b[0m\u001b[1;32m    428\u001b[0m \u001b[0;34m\u001b[0m\u001b[0m\n\u001b[1;32m    429\u001b[0m             \u001b[0;32mif\u001b[0m \u001b[0mself\u001b[0m\u001b[0;34m.\u001b[0m\u001b[0m_state\u001b[0m \u001b[0;32min\u001b[0m \u001b[0;34m[\u001b[0m\u001b[0mCANCELLED\u001b[0m\u001b[0;34m,\u001b[0m \u001b[0mCANCELLED_AND_NOTIFIED\u001b[0m\u001b[0;34m]\u001b[0m\u001b[0;34m:\u001b[0m\u001b[0;34m\u001b[0m\u001b[0;34m\u001b[0m\u001b[0m\n",
      "\u001b[0;32m~/anaconda2/envs/python3/lib/python3.6/threading.py\u001b[0m in \u001b[0;36mwait\u001b[0;34m(self, timeout)\u001b[0m\n\u001b[1;32m    293\u001b[0m         \u001b[0;32mtry\u001b[0m\u001b[0;34m:\u001b[0m    \u001b[0;31m# restore state no matter what (e.g., KeyboardInterrupt)\u001b[0m\u001b[0;34m\u001b[0m\u001b[0;34m\u001b[0m\u001b[0m\n\u001b[1;32m    294\u001b[0m             \u001b[0;32mif\u001b[0m \u001b[0mtimeout\u001b[0m \u001b[0;32mis\u001b[0m \u001b[0;32mNone\u001b[0m\u001b[0;34m:\u001b[0m\u001b[0;34m\u001b[0m\u001b[0;34m\u001b[0m\u001b[0m\n\u001b[0;32m--> 295\u001b[0;31m                 \u001b[0mwaiter\u001b[0m\u001b[0;34m.\u001b[0m\u001b[0macquire\u001b[0m\u001b[0;34m(\u001b[0m\u001b[0;34m)\u001b[0m\u001b[0;34m\u001b[0m\u001b[0;34m\u001b[0m\u001b[0m\n\u001b[0m\u001b[1;32m    296\u001b[0m                 \u001b[0mgotit\u001b[0m \u001b[0;34m=\u001b[0m \u001b[0;32mTrue\u001b[0m\u001b[0;34m\u001b[0m\u001b[0;34m\u001b[0m\u001b[0m\n\u001b[1;32m    297\u001b[0m             \u001b[0;32melse\u001b[0m\u001b[0;34m:\u001b[0m\u001b[0;34m\u001b[0m\u001b[0;34m\u001b[0m\u001b[0m\n",
      "\u001b[0;31mKeyboardInterrupt\u001b[0m: "
     ]
    }
   ],
   "source": [
    "import warnings\n",
    "warnings.filterwarnings(\"ignore\", category=UserWarning)\n",
    "kgcv = kgcv.fit(kernel_matrix, y)"
   ]
  },
  {
   "cell_type": "code",
   "execution_count": null,
   "metadata": {},
   "outputs": [],
   "source": [
    "kgcv.best_score_, kgcv.best_params_"
   ]
  },
  {
   "cell_type": "code",
   "execution_count": null,
   "metadata": {},
   "outputs": [],
   "source": [
    "plot_performance(kgcv)"
   ]
  },
  {
   "cell_type": "code",
   "execution_count": null,
   "metadata": {},
   "outputs": [],
   "source": []
  }
 ],
 "metadata": {
  "kernelspec": {
   "display_name": "Python 3",
   "language": "python",
   "name": "python3"
  },
  "language_info": {
   "codemirror_mode": {
    "name": "ipython",
    "version": 3
   },
   "file_extension": ".py",
   "mimetype": "text/x-python",
   "name": "python",
   "nbconvert_exporter": "python",
   "pygments_lexer": "ipython3",
   "version": "3.7.0"
  }
 },
 "nbformat": 4,
 "nbformat_minor": 2
}
